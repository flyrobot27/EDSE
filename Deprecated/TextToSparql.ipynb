{
  "nbformat": 4,
  "nbformat_minor": 0,
  "metadata": {
    "colab": {
      "provenance": [],
      "gpuType": "T4"
    },
    "kernelspec": {
      "name": "python3",
      "display_name": "Python 3"
    },
    "language_info": {
      "name": "python"
    },
    "accelerator": "GPU",
    "widgets": {
      "application/vnd.jupyter.widget-state+json": {
        "b4f6c4a239ae413e9d7f3f2e1fe89e9a": {
          "model_module": "@jupyter-widgets/controls",
          "model_name": "HBoxModel",
          "model_module_version": "1.5.0",
          "state": {
            "_dom_classes": [],
            "_model_module": "@jupyter-widgets/controls",
            "_model_module_version": "1.5.0",
            "_model_name": "HBoxModel",
            "_view_count": null,
            "_view_module": "@jupyter-widgets/controls",
            "_view_module_version": "1.5.0",
            "_view_name": "HBoxView",
            "box_style": "",
            "children": [
              "IPY_MODEL_b001c147d0014eaab8957f9bc0572bda",
              "IPY_MODEL_4292294754a04cc8930f1d013a911869",
              "IPY_MODEL_f6e557590d544dca943776f4a7599781"
            ],
            "layout": "IPY_MODEL_05e36122aa284af2840d00644ce834b1"
          }
        },
        "b001c147d0014eaab8957f9bc0572bda": {
          "model_module": "@jupyter-widgets/controls",
          "model_name": "HTMLModel",
          "model_module_version": "1.5.0",
          "state": {
            "_dom_classes": [],
            "_model_module": "@jupyter-widgets/controls",
            "_model_module_version": "1.5.0",
            "_model_name": "HTMLModel",
            "_view_count": null,
            "_view_module": "@jupyter-widgets/controls",
            "_view_module_version": "1.5.0",
            "_view_name": "HTMLView",
            "description": "",
            "description_tooltip": null,
            "layout": "IPY_MODEL_3c8d49f3a90941be9ecaa18e688d592b",
            "placeholder": "​",
            "style": "IPY_MODEL_31451f1e21fb401a8ad2ba068ecc7e4c",
            "value": "config.json: 100%"
          }
        },
        "4292294754a04cc8930f1d013a911869": {
          "model_module": "@jupyter-widgets/controls",
          "model_name": "FloatProgressModel",
          "model_module_version": "1.5.0",
          "state": {
            "_dom_classes": [],
            "_model_module": "@jupyter-widgets/controls",
            "_model_module_version": "1.5.0",
            "_model_name": "FloatProgressModel",
            "_view_count": null,
            "_view_module": "@jupyter-widgets/controls",
            "_view_module_version": "1.5.0",
            "_view_name": "ProgressView",
            "bar_style": "success",
            "description": "",
            "description_tooltip": null,
            "layout": "IPY_MODEL_a8c6193a32a24b2a94ba3b77984adc7d",
            "max": 1466,
            "min": 0,
            "orientation": "horizontal",
            "style": "IPY_MODEL_5626bf495a004b9b9c22ff32f76f1c46",
            "value": 1466
          }
        },
        "f6e557590d544dca943776f4a7599781": {
          "model_module": "@jupyter-widgets/controls",
          "model_name": "HTMLModel",
          "model_module_version": "1.5.0",
          "state": {
            "_dom_classes": [],
            "_model_module": "@jupyter-widgets/controls",
            "_model_module_version": "1.5.0",
            "_model_name": "HTMLModel",
            "_view_count": null,
            "_view_module": "@jupyter-widgets/controls",
            "_view_module_version": "1.5.0",
            "_view_name": "HTMLView",
            "description": "",
            "description_tooltip": null,
            "layout": "IPY_MODEL_14f6467bdecf41b1b46a1794a5fcb179",
            "placeholder": "​",
            "style": "IPY_MODEL_51c81e77ebfe4868ae18d03d844273de",
            "value": " 1.47k/1.47k [00:00&lt;00:00, 54.0kB/s]"
          }
        },
        "05e36122aa284af2840d00644ce834b1": {
          "model_module": "@jupyter-widgets/base",
          "model_name": "LayoutModel",
          "model_module_version": "1.2.0",
          "state": {
            "_model_module": "@jupyter-widgets/base",
            "_model_module_version": "1.2.0",
            "_model_name": "LayoutModel",
            "_view_count": null,
            "_view_module": "@jupyter-widgets/base",
            "_view_module_version": "1.2.0",
            "_view_name": "LayoutView",
            "align_content": null,
            "align_items": null,
            "align_self": null,
            "border": null,
            "bottom": null,
            "display": null,
            "flex": null,
            "flex_flow": null,
            "grid_area": null,
            "grid_auto_columns": null,
            "grid_auto_flow": null,
            "grid_auto_rows": null,
            "grid_column": null,
            "grid_gap": null,
            "grid_row": null,
            "grid_template_areas": null,
            "grid_template_columns": null,
            "grid_template_rows": null,
            "height": null,
            "justify_content": null,
            "justify_items": null,
            "left": null,
            "margin": null,
            "max_height": null,
            "max_width": null,
            "min_height": null,
            "min_width": null,
            "object_fit": null,
            "object_position": null,
            "order": null,
            "overflow": null,
            "overflow_x": null,
            "overflow_y": null,
            "padding": null,
            "right": null,
            "top": null,
            "visibility": null,
            "width": null
          }
        },
        "3c8d49f3a90941be9ecaa18e688d592b": {
          "model_module": "@jupyter-widgets/base",
          "model_name": "LayoutModel",
          "model_module_version": "1.2.0",
          "state": {
            "_model_module": "@jupyter-widgets/base",
            "_model_module_version": "1.2.0",
            "_model_name": "LayoutModel",
            "_view_count": null,
            "_view_module": "@jupyter-widgets/base",
            "_view_module_version": "1.2.0",
            "_view_name": "LayoutView",
            "align_content": null,
            "align_items": null,
            "align_self": null,
            "border": null,
            "bottom": null,
            "display": null,
            "flex": null,
            "flex_flow": null,
            "grid_area": null,
            "grid_auto_columns": null,
            "grid_auto_flow": null,
            "grid_auto_rows": null,
            "grid_column": null,
            "grid_gap": null,
            "grid_row": null,
            "grid_template_areas": null,
            "grid_template_columns": null,
            "grid_template_rows": null,
            "height": null,
            "justify_content": null,
            "justify_items": null,
            "left": null,
            "margin": null,
            "max_height": null,
            "max_width": null,
            "min_height": null,
            "min_width": null,
            "object_fit": null,
            "object_position": null,
            "order": null,
            "overflow": null,
            "overflow_x": null,
            "overflow_y": null,
            "padding": null,
            "right": null,
            "top": null,
            "visibility": null,
            "width": null
          }
        },
        "31451f1e21fb401a8ad2ba068ecc7e4c": {
          "model_module": "@jupyter-widgets/controls",
          "model_name": "DescriptionStyleModel",
          "model_module_version": "1.5.0",
          "state": {
            "_model_module": "@jupyter-widgets/controls",
            "_model_module_version": "1.5.0",
            "_model_name": "DescriptionStyleModel",
            "_view_count": null,
            "_view_module": "@jupyter-widgets/base",
            "_view_module_version": "1.2.0",
            "_view_name": "StyleView",
            "description_width": ""
          }
        },
        "a8c6193a32a24b2a94ba3b77984adc7d": {
          "model_module": "@jupyter-widgets/base",
          "model_name": "LayoutModel",
          "model_module_version": "1.2.0",
          "state": {
            "_model_module": "@jupyter-widgets/base",
            "_model_module_version": "1.2.0",
            "_model_name": "LayoutModel",
            "_view_count": null,
            "_view_module": "@jupyter-widgets/base",
            "_view_module_version": "1.2.0",
            "_view_name": "LayoutView",
            "align_content": null,
            "align_items": null,
            "align_self": null,
            "border": null,
            "bottom": null,
            "display": null,
            "flex": null,
            "flex_flow": null,
            "grid_area": null,
            "grid_auto_columns": null,
            "grid_auto_flow": null,
            "grid_auto_rows": null,
            "grid_column": null,
            "grid_gap": null,
            "grid_row": null,
            "grid_template_areas": null,
            "grid_template_columns": null,
            "grid_template_rows": null,
            "height": null,
            "justify_content": null,
            "justify_items": null,
            "left": null,
            "margin": null,
            "max_height": null,
            "max_width": null,
            "min_height": null,
            "min_width": null,
            "object_fit": null,
            "object_position": null,
            "order": null,
            "overflow": null,
            "overflow_x": null,
            "overflow_y": null,
            "padding": null,
            "right": null,
            "top": null,
            "visibility": null,
            "width": null
          }
        },
        "5626bf495a004b9b9c22ff32f76f1c46": {
          "model_module": "@jupyter-widgets/controls",
          "model_name": "ProgressStyleModel",
          "model_module_version": "1.5.0",
          "state": {
            "_model_module": "@jupyter-widgets/controls",
            "_model_module_version": "1.5.0",
            "_model_name": "ProgressStyleModel",
            "_view_count": null,
            "_view_module": "@jupyter-widgets/base",
            "_view_module_version": "1.2.0",
            "_view_name": "StyleView",
            "bar_color": null,
            "description_width": ""
          }
        },
        "14f6467bdecf41b1b46a1794a5fcb179": {
          "model_module": "@jupyter-widgets/base",
          "model_name": "LayoutModel",
          "model_module_version": "1.2.0",
          "state": {
            "_model_module": "@jupyter-widgets/base",
            "_model_module_version": "1.2.0",
            "_model_name": "LayoutModel",
            "_view_count": null,
            "_view_module": "@jupyter-widgets/base",
            "_view_module_version": "1.2.0",
            "_view_name": "LayoutView",
            "align_content": null,
            "align_items": null,
            "align_self": null,
            "border": null,
            "bottom": null,
            "display": null,
            "flex": null,
            "flex_flow": null,
            "grid_area": null,
            "grid_auto_columns": null,
            "grid_auto_flow": null,
            "grid_auto_rows": null,
            "grid_column": null,
            "grid_gap": null,
            "grid_row": null,
            "grid_template_areas": null,
            "grid_template_columns": null,
            "grid_template_rows": null,
            "height": null,
            "justify_content": null,
            "justify_items": null,
            "left": null,
            "margin": null,
            "max_height": null,
            "max_width": null,
            "min_height": null,
            "min_width": null,
            "object_fit": null,
            "object_position": null,
            "order": null,
            "overflow": null,
            "overflow_x": null,
            "overflow_y": null,
            "padding": null,
            "right": null,
            "top": null,
            "visibility": null,
            "width": null
          }
        },
        "51c81e77ebfe4868ae18d03d844273de": {
          "model_module": "@jupyter-widgets/controls",
          "model_name": "DescriptionStyleModel",
          "model_module_version": "1.5.0",
          "state": {
            "_model_module": "@jupyter-widgets/controls",
            "_model_module_version": "1.5.0",
            "_model_name": "DescriptionStyleModel",
            "_view_count": null,
            "_view_module": "@jupyter-widgets/base",
            "_view_module_version": "1.2.0",
            "_view_name": "StyleView",
            "description_width": ""
          }
        },
        "2fb48a1bd3184099b2e4ac55f10ec72e": {
          "model_module": "@jupyter-widgets/controls",
          "model_name": "HBoxModel",
          "model_module_version": "1.5.0",
          "state": {
            "_dom_classes": [],
            "_model_module": "@jupyter-widgets/controls",
            "_model_module_version": "1.5.0",
            "_model_name": "HBoxModel",
            "_view_count": null,
            "_view_module": "@jupyter-widgets/controls",
            "_view_module_version": "1.5.0",
            "_view_name": "HBoxView",
            "box_style": "",
            "children": [
              "IPY_MODEL_0d4ded277bbc40de808fa05487fe548c",
              "IPY_MODEL_b19d26f18ac746b488b58b2a7eb3645d",
              "IPY_MODEL_bf68f02ee5e94ab69814d39f82a77535"
            ],
            "layout": "IPY_MODEL_f02d1fd23c284c01aace92198d6415ac"
          }
        },
        "0d4ded277bbc40de808fa05487fe548c": {
          "model_module": "@jupyter-widgets/controls",
          "model_name": "HTMLModel",
          "model_module_version": "1.5.0",
          "state": {
            "_dom_classes": [],
            "_model_module": "@jupyter-widgets/controls",
            "_model_module_version": "1.5.0",
            "_model_name": "HTMLModel",
            "_view_count": null,
            "_view_module": "@jupyter-widgets/controls",
            "_view_module_version": "1.5.0",
            "_view_name": "HTMLView",
            "description": "",
            "description_tooltip": null,
            "layout": "IPY_MODEL_da8a453a4e8549a5ba860b82fd97aa9f",
            "placeholder": "​",
            "style": "IPY_MODEL_ae82ff7410a14d77abc53ad00f72150e",
            "value": "pytorch_model.bin: 100%"
          }
        },
        "b19d26f18ac746b488b58b2a7eb3645d": {
          "model_module": "@jupyter-widgets/controls",
          "model_name": "FloatProgressModel",
          "model_module_version": "1.5.0",
          "state": {
            "_dom_classes": [],
            "_model_module": "@jupyter-widgets/controls",
            "_model_module_version": "1.5.0",
            "_model_name": "FloatProgressModel",
            "_view_count": null,
            "_view_module": "@jupyter-widgets/controls",
            "_view_module_version": "1.5.0",
            "_view_name": "ProgressView",
            "bar_style": "success",
            "description": "",
            "description_tooltip": null,
            "layout": "IPY_MODEL_56348f87e80147448c850c8f40a17d19",
            "max": 891730879,
            "min": 0,
            "orientation": "horizontal",
            "style": "IPY_MODEL_7a1630b5407147599e2784d4b4852db0",
            "value": 891730879
          }
        },
        "bf68f02ee5e94ab69814d39f82a77535": {
          "model_module": "@jupyter-widgets/controls",
          "model_name": "HTMLModel",
          "model_module_version": "1.5.0",
          "state": {
            "_dom_classes": [],
            "_model_module": "@jupyter-widgets/controls",
            "_model_module_version": "1.5.0",
            "_model_name": "HTMLModel",
            "_view_count": null,
            "_view_module": "@jupyter-widgets/controls",
            "_view_module_version": "1.5.0",
            "_view_name": "HTMLView",
            "description": "",
            "description_tooltip": null,
            "layout": "IPY_MODEL_40aa2139b6bd46599b56caa04cb2043f",
            "placeholder": "​",
            "style": "IPY_MODEL_8b1f5becf7a14d91ac0fee8b00c9d635",
            "value": " 892M/892M [01:13&lt;00:00, 12.2MB/s]"
          }
        },
        "f02d1fd23c284c01aace92198d6415ac": {
          "model_module": "@jupyter-widgets/base",
          "model_name": "LayoutModel",
          "model_module_version": "1.2.0",
          "state": {
            "_model_module": "@jupyter-widgets/base",
            "_model_module_version": "1.2.0",
            "_model_name": "LayoutModel",
            "_view_count": null,
            "_view_module": "@jupyter-widgets/base",
            "_view_module_version": "1.2.0",
            "_view_name": "LayoutView",
            "align_content": null,
            "align_items": null,
            "align_self": null,
            "border": null,
            "bottom": null,
            "display": null,
            "flex": null,
            "flex_flow": null,
            "grid_area": null,
            "grid_auto_columns": null,
            "grid_auto_flow": null,
            "grid_auto_rows": null,
            "grid_column": null,
            "grid_gap": null,
            "grid_row": null,
            "grid_template_areas": null,
            "grid_template_columns": null,
            "grid_template_rows": null,
            "height": null,
            "justify_content": null,
            "justify_items": null,
            "left": null,
            "margin": null,
            "max_height": null,
            "max_width": null,
            "min_height": null,
            "min_width": null,
            "object_fit": null,
            "object_position": null,
            "order": null,
            "overflow": null,
            "overflow_x": null,
            "overflow_y": null,
            "padding": null,
            "right": null,
            "top": null,
            "visibility": null,
            "width": null
          }
        },
        "da8a453a4e8549a5ba860b82fd97aa9f": {
          "model_module": "@jupyter-widgets/base",
          "model_name": "LayoutModel",
          "model_module_version": "1.2.0",
          "state": {
            "_model_module": "@jupyter-widgets/base",
            "_model_module_version": "1.2.0",
            "_model_name": "LayoutModel",
            "_view_count": null,
            "_view_module": "@jupyter-widgets/base",
            "_view_module_version": "1.2.0",
            "_view_name": "LayoutView",
            "align_content": null,
            "align_items": null,
            "align_self": null,
            "border": null,
            "bottom": null,
            "display": null,
            "flex": null,
            "flex_flow": null,
            "grid_area": null,
            "grid_auto_columns": null,
            "grid_auto_flow": null,
            "grid_auto_rows": null,
            "grid_column": null,
            "grid_gap": null,
            "grid_row": null,
            "grid_template_areas": null,
            "grid_template_columns": null,
            "grid_template_rows": null,
            "height": null,
            "justify_content": null,
            "justify_items": null,
            "left": null,
            "margin": null,
            "max_height": null,
            "max_width": null,
            "min_height": null,
            "min_width": null,
            "object_fit": null,
            "object_position": null,
            "order": null,
            "overflow": null,
            "overflow_x": null,
            "overflow_y": null,
            "padding": null,
            "right": null,
            "top": null,
            "visibility": null,
            "width": null
          }
        },
        "ae82ff7410a14d77abc53ad00f72150e": {
          "model_module": "@jupyter-widgets/controls",
          "model_name": "DescriptionStyleModel",
          "model_module_version": "1.5.0",
          "state": {
            "_model_module": "@jupyter-widgets/controls",
            "_model_module_version": "1.5.0",
            "_model_name": "DescriptionStyleModel",
            "_view_count": null,
            "_view_module": "@jupyter-widgets/base",
            "_view_module_version": "1.2.0",
            "_view_name": "StyleView",
            "description_width": ""
          }
        },
        "56348f87e80147448c850c8f40a17d19": {
          "model_module": "@jupyter-widgets/base",
          "model_name": "LayoutModel",
          "model_module_version": "1.2.0",
          "state": {
            "_model_module": "@jupyter-widgets/base",
            "_model_module_version": "1.2.0",
            "_model_name": "LayoutModel",
            "_view_count": null,
            "_view_module": "@jupyter-widgets/base",
            "_view_module_version": "1.2.0",
            "_view_name": "LayoutView",
            "align_content": null,
            "align_items": null,
            "align_self": null,
            "border": null,
            "bottom": null,
            "display": null,
            "flex": null,
            "flex_flow": null,
            "grid_area": null,
            "grid_auto_columns": null,
            "grid_auto_flow": null,
            "grid_auto_rows": null,
            "grid_column": null,
            "grid_gap": null,
            "grid_row": null,
            "grid_template_areas": null,
            "grid_template_columns": null,
            "grid_template_rows": null,
            "height": null,
            "justify_content": null,
            "justify_items": null,
            "left": null,
            "margin": null,
            "max_height": null,
            "max_width": null,
            "min_height": null,
            "min_width": null,
            "object_fit": null,
            "object_position": null,
            "order": null,
            "overflow": null,
            "overflow_x": null,
            "overflow_y": null,
            "padding": null,
            "right": null,
            "top": null,
            "visibility": null,
            "width": null
          }
        },
        "7a1630b5407147599e2784d4b4852db0": {
          "model_module": "@jupyter-widgets/controls",
          "model_name": "ProgressStyleModel",
          "model_module_version": "1.5.0",
          "state": {
            "_model_module": "@jupyter-widgets/controls",
            "_model_module_version": "1.5.0",
            "_model_name": "ProgressStyleModel",
            "_view_count": null,
            "_view_module": "@jupyter-widgets/base",
            "_view_module_version": "1.2.0",
            "_view_name": "StyleView",
            "bar_color": null,
            "description_width": ""
          }
        },
        "40aa2139b6bd46599b56caa04cb2043f": {
          "model_module": "@jupyter-widgets/base",
          "model_name": "LayoutModel",
          "model_module_version": "1.2.0",
          "state": {
            "_model_module": "@jupyter-widgets/base",
            "_model_module_version": "1.2.0",
            "_model_name": "LayoutModel",
            "_view_count": null,
            "_view_module": "@jupyter-widgets/base",
            "_view_module_version": "1.2.0",
            "_view_name": "LayoutView",
            "align_content": null,
            "align_items": null,
            "align_self": null,
            "border": null,
            "bottom": null,
            "display": null,
            "flex": null,
            "flex_flow": null,
            "grid_area": null,
            "grid_auto_columns": null,
            "grid_auto_flow": null,
            "grid_auto_rows": null,
            "grid_column": null,
            "grid_gap": null,
            "grid_row": null,
            "grid_template_areas": null,
            "grid_template_columns": null,
            "grid_template_rows": null,
            "height": null,
            "justify_content": null,
            "justify_items": null,
            "left": null,
            "margin": null,
            "max_height": null,
            "max_width": null,
            "min_height": null,
            "min_width": null,
            "object_fit": null,
            "object_position": null,
            "order": null,
            "overflow": null,
            "overflow_x": null,
            "overflow_y": null,
            "padding": null,
            "right": null,
            "top": null,
            "visibility": null,
            "width": null
          }
        },
        "8b1f5becf7a14d91ac0fee8b00c9d635": {
          "model_module": "@jupyter-widgets/controls",
          "model_name": "DescriptionStyleModel",
          "model_module_version": "1.5.0",
          "state": {
            "_model_module": "@jupyter-widgets/controls",
            "_model_module_version": "1.5.0",
            "_model_name": "DescriptionStyleModel",
            "_view_count": null,
            "_view_module": "@jupyter-widgets/base",
            "_view_module_version": "1.2.0",
            "_view_name": "StyleView",
            "description_width": ""
          }
        },
        "7e1cf62fd145436280179e5a917aca65": {
          "model_module": "@jupyter-widgets/controls",
          "model_name": "HBoxModel",
          "model_module_version": "1.5.0",
          "state": {
            "_dom_classes": [],
            "_model_module": "@jupyter-widgets/controls",
            "_model_module_version": "1.5.0",
            "_model_name": "HBoxModel",
            "_view_count": null,
            "_view_module": "@jupyter-widgets/controls",
            "_view_module_version": "1.5.0",
            "_view_name": "HBoxView",
            "box_style": "",
            "children": [
              "IPY_MODEL_ff7b482ee6864e3cb3a4055df25f575a",
              "IPY_MODEL_508784e63350438a87a87d08c9fd0734",
              "IPY_MODEL_e716573e0c1d47da818fa680284f0ac5"
            ],
            "layout": "IPY_MODEL_34c695899b084a36956d358a9bbaf93c"
          }
        },
        "ff7b482ee6864e3cb3a4055df25f575a": {
          "model_module": "@jupyter-widgets/controls",
          "model_name": "HTMLModel",
          "model_module_version": "1.5.0",
          "state": {
            "_dom_classes": [],
            "_model_module": "@jupyter-widgets/controls",
            "_model_module_version": "1.5.0",
            "_model_name": "HTMLModel",
            "_view_count": null,
            "_view_module": "@jupyter-widgets/controls",
            "_view_module_version": "1.5.0",
            "_view_name": "HTMLView",
            "description": "",
            "description_tooltip": null,
            "layout": "IPY_MODEL_e69770b1fc4a4ab38796422f38ce3d1b",
            "placeholder": "​",
            "style": "IPY_MODEL_8938c5726fde431a9b6962e9cbd4db40",
            "value": "tokenizer_config.json: 100%"
          }
        },
        "508784e63350438a87a87d08c9fd0734": {
          "model_module": "@jupyter-widgets/controls",
          "model_name": "FloatProgressModel",
          "model_module_version": "1.5.0",
          "state": {
            "_dom_classes": [],
            "_model_module": "@jupyter-widgets/controls",
            "_model_module_version": "1.5.0",
            "_model_name": "FloatProgressModel",
            "_view_count": null,
            "_view_module": "@jupyter-widgets/controls",
            "_view_module_version": "1.5.0",
            "_view_name": "ProgressView",
            "bar_style": "success",
            "description": "",
            "description_tooltip": null,
            "layout": "IPY_MODEL_f3067097019a43dcbfc90e50e3f19062",
            "max": 1972,
            "min": 0,
            "orientation": "horizontal",
            "style": "IPY_MODEL_f9c71a6899a144b082ed9c71e1a1f30b",
            "value": 1972
          }
        },
        "e716573e0c1d47da818fa680284f0ac5": {
          "model_module": "@jupyter-widgets/controls",
          "model_name": "HTMLModel",
          "model_module_version": "1.5.0",
          "state": {
            "_dom_classes": [],
            "_model_module": "@jupyter-widgets/controls",
            "_model_module_version": "1.5.0",
            "_model_name": "HTMLModel",
            "_view_count": null,
            "_view_module": "@jupyter-widgets/controls",
            "_view_module_version": "1.5.0",
            "_view_name": "HTMLView",
            "description": "",
            "description_tooltip": null,
            "layout": "IPY_MODEL_9adb3e40ccd2420c9020ddea9be449c1",
            "placeholder": "​",
            "style": "IPY_MODEL_2b0f69d3f1fd4872a7a19192d3e2d445",
            "value": " 1.97k/1.97k [00:00&lt;00:00, 69.7kB/s]"
          }
        },
        "34c695899b084a36956d358a9bbaf93c": {
          "model_module": "@jupyter-widgets/base",
          "model_name": "LayoutModel",
          "model_module_version": "1.2.0",
          "state": {
            "_model_module": "@jupyter-widgets/base",
            "_model_module_version": "1.2.0",
            "_model_name": "LayoutModel",
            "_view_count": null,
            "_view_module": "@jupyter-widgets/base",
            "_view_module_version": "1.2.0",
            "_view_name": "LayoutView",
            "align_content": null,
            "align_items": null,
            "align_self": null,
            "border": null,
            "bottom": null,
            "display": null,
            "flex": null,
            "flex_flow": null,
            "grid_area": null,
            "grid_auto_columns": null,
            "grid_auto_flow": null,
            "grid_auto_rows": null,
            "grid_column": null,
            "grid_gap": null,
            "grid_row": null,
            "grid_template_areas": null,
            "grid_template_columns": null,
            "grid_template_rows": null,
            "height": null,
            "justify_content": null,
            "justify_items": null,
            "left": null,
            "margin": null,
            "max_height": null,
            "max_width": null,
            "min_height": null,
            "min_width": null,
            "object_fit": null,
            "object_position": null,
            "order": null,
            "overflow": null,
            "overflow_x": null,
            "overflow_y": null,
            "padding": null,
            "right": null,
            "top": null,
            "visibility": null,
            "width": null
          }
        },
        "e69770b1fc4a4ab38796422f38ce3d1b": {
          "model_module": "@jupyter-widgets/base",
          "model_name": "LayoutModel",
          "model_module_version": "1.2.0",
          "state": {
            "_model_module": "@jupyter-widgets/base",
            "_model_module_version": "1.2.0",
            "_model_name": "LayoutModel",
            "_view_count": null,
            "_view_module": "@jupyter-widgets/base",
            "_view_module_version": "1.2.0",
            "_view_name": "LayoutView",
            "align_content": null,
            "align_items": null,
            "align_self": null,
            "border": null,
            "bottom": null,
            "display": null,
            "flex": null,
            "flex_flow": null,
            "grid_area": null,
            "grid_auto_columns": null,
            "grid_auto_flow": null,
            "grid_auto_rows": null,
            "grid_column": null,
            "grid_gap": null,
            "grid_row": null,
            "grid_template_areas": null,
            "grid_template_columns": null,
            "grid_template_rows": null,
            "height": null,
            "justify_content": null,
            "justify_items": null,
            "left": null,
            "margin": null,
            "max_height": null,
            "max_width": null,
            "min_height": null,
            "min_width": null,
            "object_fit": null,
            "object_position": null,
            "order": null,
            "overflow": null,
            "overflow_x": null,
            "overflow_y": null,
            "padding": null,
            "right": null,
            "top": null,
            "visibility": null,
            "width": null
          }
        },
        "8938c5726fde431a9b6962e9cbd4db40": {
          "model_module": "@jupyter-widgets/controls",
          "model_name": "DescriptionStyleModel",
          "model_module_version": "1.5.0",
          "state": {
            "_model_module": "@jupyter-widgets/controls",
            "_model_module_version": "1.5.0",
            "_model_name": "DescriptionStyleModel",
            "_view_count": null,
            "_view_module": "@jupyter-widgets/base",
            "_view_module_version": "1.2.0",
            "_view_name": "StyleView",
            "description_width": ""
          }
        },
        "f3067097019a43dcbfc90e50e3f19062": {
          "model_module": "@jupyter-widgets/base",
          "model_name": "LayoutModel",
          "model_module_version": "1.2.0",
          "state": {
            "_model_module": "@jupyter-widgets/base",
            "_model_module_version": "1.2.0",
            "_model_name": "LayoutModel",
            "_view_count": null,
            "_view_module": "@jupyter-widgets/base",
            "_view_module_version": "1.2.0",
            "_view_name": "LayoutView",
            "align_content": null,
            "align_items": null,
            "align_self": null,
            "border": null,
            "bottom": null,
            "display": null,
            "flex": null,
            "flex_flow": null,
            "grid_area": null,
            "grid_auto_columns": null,
            "grid_auto_flow": null,
            "grid_auto_rows": null,
            "grid_column": null,
            "grid_gap": null,
            "grid_row": null,
            "grid_template_areas": null,
            "grid_template_columns": null,
            "grid_template_rows": null,
            "height": null,
            "justify_content": null,
            "justify_items": null,
            "left": null,
            "margin": null,
            "max_height": null,
            "max_width": null,
            "min_height": null,
            "min_width": null,
            "object_fit": null,
            "object_position": null,
            "order": null,
            "overflow": null,
            "overflow_x": null,
            "overflow_y": null,
            "padding": null,
            "right": null,
            "top": null,
            "visibility": null,
            "width": null
          }
        },
        "f9c71a6899a144b082ed9c71e1a1f30b": {
          "model_module": "@jupyter-widgets/controls",
          "model_name": "ProgressStyleModel",
          "model_module_version": "1.5.0",
          "state": {
            "_model_module": "@jupyter-widgets/controls",
            "_model_module_version": "1.5.0",
            "_model_name": "ProgressStyleModel",
            "_view_count": null,
            "_view_module": "@jupyter-widgets/base",
            "_view_module_version": "1.2.0",
            "_view_name": "StyleView",
            "bar_color": null,
            "description_width": ""
          }
        },
        "9adb3e40ccd2420c9020ddea9be449c1": {
          "model_module": "@jupyter-widgets/base",
          "model_name": "LayoutModel",
          "model_module_version": "1.2.0",
          "state": {
            "_model_module": "@jupyter-widgets/base",
            "_model_module_version": "1.2.0",
            "_model_name": "LayoutModel",
            "_view_count": null,
            "_view_module": "@jupyter-widgets/base",
            "_view_module_version": "1.2.0",
            "_view_name": "LayoutView",
            "align_content": null,
            "align_items": null,
            "align_self": null,
            "border": null,
            "bottom": null,
            "display": null,
            "flex": null,
            "flex_flow": null,
            "grid_area": null,
            "grid_auto_columns": null,
            "grid_auto_flow": null,
            "grid_auto_rows": null,
            "grid_column": null,
            "grid_gap": null,
            "grid_row": null,
            "grid_template_areas": null,
            "grid_template_columns": null,
            "grid_template_rows": null,
            "height": null,
            "justify_content": null,
            "justify_items": null,
            "left": null,
            "margin": null,
            "max_height": null,
            "max_width": null,
            "min_height": null,
            "min_width": null,
            "object_fit": null,
            "object_position": null,
            "order": null,
            "overflow": null,
            "overflow_x": null,
            "overflow_y": null,
            "padding": null,
            "right": null,
            "top": null,
            "visibility": null,
            "width": null
          }
        },
        "2b0f69d3f1fd4872a7a19192d3e2d445": {
          "model_module": "@jupyter-widgets/controls",
          "model_name": "DescriptionStyleModel",
          "model_module_version": "1.5.0",
          "state": {
            "_model_module": "@jupyter-widgets/controls",
            "_model_module_version": "1.5.0",
            "_model_name": "DescriptionStyleModel",
            "_view_count": null,
            "_view_module": "@jupyter-widgets/base",
            "_view_module_version": "1.2.0",
            "_view_name": "StyleView",
            "description_width": ""
          }
        },
        "f47b91f317c946b1ae7010fd0d038460": {
          "model_module": "@jupyter-widgets/controls",
          "model_name": "HBoxModel",
          "model_module_version": "1.5.0",
          "state": {
            "_dom_classes": [],
            "_model_module": "@jupyter-widgets/controls",
            "_model_module_version": "1.5.0",
            "_model_name": "HBoxModel",
            "_view_count": null,
            "_view_module": "@jupyter-widgets/controls",
            "_view_module_version": "1.5.0",
            "_view_name": "HBoxView",
            "box_style": "",
            "children": [
              "IPY_MODEL_d893f2f4e5394a919dc9a56fee2535fa",
              "IPY_MODEL_7bcdecff650a44bda7d3d84c8e262db7",
              "IPY_MODEL_490cd9dc177349a39ebd00d8f8093b01"
            ],
            "layout": "IPY_MODEL_b79c2846c58f43a5bfecd20e34d6cc96"
          }
        },
        "d893f2f4e5394a919dc9a56fee2535fa": {
          "model_module": "@jupyter-widgets/controls",
          "model_name": "HTMLModel",
          "model_module_version": "1.5.0",
          "state": {
            "_dom_classes": [],
            "_model_module": "@jupyter-widgets/controls",
            "_model_module_version": "1.5.0",
            "_model_name": "HTMLModel",
            "_view_count": null,
            "_view_module": "@jupyter-widgets/controls",
            "_view_module_version": "1.5.0",
            "_view_name": "HTMLView",
            "description": "",
            "description_tooltip": null,
            "layout": "IPY_MODEL_cea96a307bf34a97a81021483151612b",
            "placeholder": "​",
            "style": "IPY_MODEL_4df9cbdc0296447095879f0d353c74dd",
            "value": "tokenizer.json: 100%"
          }
        },
        "7bcdecff650a44bda7d3d84c8e262db7": {
          "model_module": "@jupyter-widgets/controls",
          "model_name": "FloatProgressModel",
          "model_module_version": "1.5.0",
          "state": {
            "_dom_classes": [],
            "_model_module": "@jupyter-widgets/controls",
            "_model_module_version": "1.5.0",
            "_model_name": "FloatProgressModel",
            "_view_count": null,
            "_view_module": "@jupyter-widgets/controls",
            "_view_module_version": "1.5.0",
            "_view_name": "ProgressView",
            "bar_style": "success",
            "description": "",
            "description_tooltip": null,
            "layout": "IPY_MODEL_015a34f6c10247859a5ebcd713ab3251",
            "max": 1387489,
            "min": 0,
            "orientation": "horizontal",
            "style": "IPY_MODEL_06836258eb6f411a94fe2224161c472a",
            "value": 1387489
          }
        },
        "490cd9dc177349a39ebd00d8f8093b01": {
          "model_module": "@jupyter-widgets/controls",
          "model_name": "HTMLModel",
          "model_module_version": "1.5.0",
          "state": {
            "_dom_classes": [],
            "_model_module": "@jupyter-widgets/controls",
            "_model_module_version": "1.5.0",
            "_model_name": "HTMLModel",
            "_view_count": null,
            "_view_module": "@jupyter-widgets/controls",
            "_view_module_version": "1.5.0",
            "_view_name": "HTMLView",
            "description": "",
            "description_tooltip": null,
            "layout": "IPY_MODEL_ab33af2c518044d982ec3ba0d3c9fe1e",
            "placeholder": "​",
            "style": "IPY_MODEL_d4475d6ada584225a09566956d80c392",
            "value": " 1.39M/1.39M [00:01&lt;00:00, 1.13MB/s]"
          }
        },
        "b79c2846c58f43a5bfecd20e34d6cc96": {
          "model_module": "@jupyter-widgets/base",
          "model_name": "LayoutModel",
          "model_module_version": "1.2.0",
          "state": {
            "_model_module": "@jupyter-widgets/base",
            "_model_module_version": "1.2.0",
            "_model_name": "LayoutModel",
            "_view_count": null,
            "_view_module": "@jupyter-widgets/base",
            "_view_module_version": "1.2.0",
            "_view_name": "LayoutView",
            "align_content": null,
            "align_items": null,
            "align_self": null,
            "border": null,
            "bottom": null,
            "display": null,
            "flex": null,
            "flex_flow": null,
            "grid_area": null,
            "grid_auto_columns": null,
            "grid_auto_flow": null,
            "grid_auto_rows": null,
            "grid_column": null,
            "grid_gap": null,
            "grid_row": null,
            "grid_template_areas": null,
            "grid_template_columns": null,
            "grid_template_rows": null,
            "height": null,
            "justify_content": null,
            "justify_items": null,
            "left": null,
            "margin": null,
            "max_height": null,
            "max_width": null,
            "min_height": null,
            "min_width": null,
            "object_fit": null,
            "object_position": null,
            "order": null,
            "overflow": null,
            "overflow_x": null,
            "overflow_y": null,
            "padding": null,
            "right": null,
            "top": null,
            "visibility": null,
            "width": null
          }
        },
        "cea96a307bf34a97a81021483151612b": {
          "model_module": "@jupyter-widgets/base",
          "model_name": "LayoutModel",
          "model_module_version": "1.2.0",
          "state": {
            "_model_module": "@jupyter-widgets/base",
            "_model_module_version": "1.2.0",
            "_model_name": "LayoutModel",
            "_view_count": null,
            "_view_module": "@jupyter-widgets/base",
            "_view_module_version": "1.2.0",
            "_view_name": "LayoutView",
            "align_content": null,
            "align_items": null,
            "align_self": null,
            "border": null,
            "bottom": null,
            "display": null,
            "flex": null,
            "flex_flow": null,
            "grid_area": null,
            "grid_auto_columns": null,
            "grid_auto_flow": null,
            "grid_auto_rows": null,
            "grid_column": null,
            "grid_gap": null,
            "grid_row": null,
            "grid_template_areas": null,
            "grid_template_columns": null,
            "grid_template_rows": null,
            "height": null,
            "justify_content": null,
            "justify_items": null,
            "left": null,
            "margin": null,
            "max_height": null,
            "max_width": null,
            "min_height": null,
            "min_width": null,
            "object_fit": null,
            "object_position": null,
            "order": null,
            "overflow": null,
            "overflow_x": null,
            "overflow_y": null,
            "padding": null,
            "right": null,
            "top": null,
            "visibility": null,
            "width": null
          }
        },
        "4df9cbdc0296447095879f0d353c74dd": {
          "model_module": "@jupyter-widgets/controls",
          "model_name": "DescriptionStyleModel",
          "model_module_version": "1.5.0",
          "state": {
            "_model_module": "@jupyter-widgets/controls",
            "_model_module_version": "1.5.0",
            "_model_name": "DescriptionStyleModel",
            "_view_count": null,
            "_view_module": "@jupyter-widgets/base",
            "_view_module_version": "1.2.0",
            "_view_name": "StyleView",
            "description_width": ""
          }
        },
        "015a34f6c10247859a5ebcd713ab3251": {
          "model_module": "@jupyter-widgets/base",
          "model_name": "LayoutModel",
          "model_module_version": "1.2.0",
          "state": {
            "_model_module": "@jupyter-widgets/base",
            "_model_module_version": "1.2.0",
            "_model_name": "LayoutModel",
            "_view_count": null,
            "_view_module": "@jupyter-widgets/base",
            "_view_module_version": "1.2.0",
            "_view_name": "LayoutView",
            "align_content": null,
            "align_items": null,
            "align_self": null,
            "border": null,
            "bottom": null,
            "display": null,
            "flex": null,
            "flex_flow": null,
            "grid_area": null,
            "grid_auto_columns": null,
            "grid_auto_flow": null,
            "grid_auto_rows": null,
            "grid_column": null,
            "grid_gap": null,
            "grid_row": null,
            "grid_template_areas": null,
            "grid_template_columns": null,
            "grid_template_rows": null,
            "height": null,
            "justify_content": null,
            "justify_items": null,
            "left": null,
            "margin": null,
            "max_height": null,
            "max_width": null,
            "min_height": null,
            "min_width": null,
            "object_fit": null,
            "object_position": null,
            "order": null,
            "overflow": null,
            "overflow_x": null,
            "overflow_y": null,
            "padding": null,
            "right": null,
            "top": null,
            "visibility": null,
            "width": null
          }
        },
        "06836258eb6f411a94fe2224161c472a": {
          "model_module": "@jupyter-widgets/controls",
          "model_name": "ProgressStyleModel",
          "model_module_version": "1.5.0",
          "state": {
            "_model_module": "@jupyter-widgets/controls",
            "_model_module_version": "1.5.0",
            "_model_name": "ProgressStyleModel",
            "_view_count": null,
            "_view_module": "@jupyter-widgets/base",
            "_view_module_version": "1.2.0",
            "_view_name": "StyleView",
            "bar_color": null,
            "description_width": ""
          }
        },
        "ab33af2c518044d982ec3ba0d3c9fe1e": {
          "model_module": "@jupyter-widgets/base",
          "model_name": "LayoutModel",
          "model_module_version": "1.2.0",
          "state": {
            "_model_module": "@jupyter-widgets/base",
            "_model_module_version": "1.2.0",
            "_model_name": "LayoutModel",
            "_view_count": null,
            "_view_module": "@jupyter-widgets/base",
            "_view_module_version": "1.2.0",
            "_view_name": "LayoutView",
            "align_content": null,
            "align_items": null,
            "align_self": null,
            "border": null,
            "bottom": null,
            "display": null,
            "flex": null,
            "flex_flow": null,
            "grid_area": null,
            "grid_auto_columns": null,
            "grid_auto_flow": null,
            "grid_auto_rows": null,
            "grid_column": null,
            "grid_gap": null,
            "grid_row": null,
            "grid_template_areas": null,
            "grid_template_columns": null,
            "grid_template_rows": null,
            "height": null,
            "justify_content": null,
            "justify_items": null,
            "left": null,
            "margin": null,
            "max_height": null,
            "max_width": null,
            "min_height": null,
            "min_width": null,
            "object_fit": null,
            "object_position": null,
            "order": null,
            "overflow": null,
            "overflow_x": null,
            "overflow_y": null,
            "padding": null,
            "right": null,
            "top": null,
            "visibility": null,
            "width": null
          }
        },
        "d4475d6ada584225a09566956d80c392": {
          "model_module": "@jupyter-widgets/controls",
          "model_name": "DescriptionStyleModel",
          "model_module_version": "1.5.0",
          "state": {
            "_model_module": "@jupyter-widgets/controls",
            "_model_module_version": "1.5.0",
            "_model_name": "DescriptionStyleModel",
            "_view_count": null,
            "_view_module": "@jupyter-widgets/base",
            "_view_module_version": "1.2.0",
            "_view_name": "StyleView",
            "description_width": ""
          }
        },
        "ec1e7076e7b6452992eb9213d29cbd77": {
          "model_module": "@jupyter-widgets/controls",
          "model_name": "HBoxModel",
          "model_module_version": "1.5.0",
          "state": {
            "_dom_classes": [],
            "_model_module": "@jupyter-widgets/controls",
            "_model_module_version": "1.5.0",
            "_model_name": "HBoxModel",
            "_view_count": null,
            "_view_module": "@jupyter-widgets/controls",
            "_view_module_version": "1.5.0",
            "_view_name": "HBoxView",
            "box_style": "",
            "children": [
              "IPY_MODEL_2dd317b14f23424a9d7100f3bfb00382",
              "IPY_MODEL_fd5b0305cf914558995b91f54516ce1e",
              "IPY_MODEL_7ee4179fe2774afbba875b81c5fc9cab"
            ],
            "layout": "IPY_MODEL_5cfbfa9635a941b9b3faffb2eb778d18"
          }
        },
        "2dd317b14f23424a9d7100f3bfb00382": {
          "model_module": "@jupyter-widgets/controls",
          "model_name": "HTMLModel",
          "model_module_version": "1.5.0",
          "state": {
            "_dom_classes": [],
            "_model_module": "@jupyter-widgets/controls",
            "_model_module_version": "1.5.0",
            "_model_name": "HTMLModel",
            "_view_count": null,
            "_view_module": "@jupyter-widgets/controls",
            "_view_module_version": "1.5.0",
            "_view_name": "HTMLView",
            "description": "",
            "description_tooltip": null,
            "layout": "IPY_MODEL_f0691477940e40589ef25a799c431d38",
            "placeholder": "​",
            "style": "IPY_MODEL_b1622ef661c744ce8e03cbdfe03358c3",
            "value": "special_tokens_map.json: 100%"
          }
        },
        "fd5b0305cf914558995b91f54516ce1e": {
          "model_module": "@jupyter-widgets/controls",
          "model_name": "FloatProgressModel",
          "model_module_version": "1.5.0",
          "state": {
            "_dom_classes": [],
            "_model_module": "@jupyter-widgets/controls",
            "_model_module_version": "1.5.0",
            "_model_name": "FloatProgressModel",
            "_view_count": null,
            "_view_module": "@jupyter-widgets/controls",
            "_view_module_version": "1.5.0",
            "_view_name": "ProgressView",
            "bar_style": "success",
            "description": "",
            "description_tooltip": null,
            "layout": "IPY_MODEL_aed1725b91244f5d846d45b92e9d472d",
            "max": 1786,
            "min": 0,
            "orientation": "horizontal",
            "style": "IPY_MODEL_a361a6eea3aa4c23a219014d527d0807",
            "value": 1786
          }
        },
        "7ee4179fe2774afbba875b81c5fc9cab": {
          "model_module": "@jupyter-widgets/controls",
          "model_name": "HTMLModel",
          "model_module_version": "1.5.0",
          "state": {
            "_dom_classes": [],
            "_model_module": "@jupyter-widgets/controls",
            "_model_module_version": "1.5.0",
            "_model_name": "HTMLModel",
            "_view_count": null,
            "_view_module": "@jupyter-widgets/controls",
            "_view_module_version": "1.5.0",
            "_view_name": "HTMLView",
            "description": "",
            "description_tooltip": null,
            "layout": "IPY_MODEL_4e0848ae1e8d4ae28abd03225737a1d7",
            "placeholder": "​",
            "style": "IPY_MODEL_cf113ef77c5246998cdd2db122994030",
            "value": " 1.79k/1.79k [00:00&lt;00:00, 126kB/s]"
          }
        },
        "5cfbfa9635a941b9b3faffb2eb778d18": {
          "model_module": "@jupyter-widgets/base",
          "model_name": "LayoutModel",
          "model_module_version": "1.2.0",
          "state": {
            "_model_module": "@jupyter-widgets/base",
            "_model_module_version": "1.2.0",
            "_model_name": "LayoutModel",
            "_view_count": null,
            "_view_module": "@jupyter-widgets/base",
            "_view_module_version": "1.2.0",
            "_view_name": "LayoutView",
            "align_content": null,
            "align_items": null,
            "align_self": null,
            "border": null,
            "bottom": null,
            "display": null,
            "flex": null,
            "flex_flow": null,
            "grid_area": null,
            "grid_auto_columns": null,
            "grid_auto_flow": null,
            "grid_auto_rows": null,
            "grid_column": null,
            "grid_gap": null,
            "grid_row": null,
            "grid_template_areas": null,
            "grid_template_columns": null,
            "grid_template_rows": null,
            "height": null,
            "justify_content": null,
            "justify_items": null,
            "left": null,
            "margin": null,
            "max_height": null,
            "max_width": null,
            "min_height": null,
            "min_width": null,
            "object_fit": null,
            "object_position": null,
            "order": null,
            "overflow": null,
            "overflow_x": null,
            "overflow_y": null,
            "padding": null,
            "right": null,
            "top": null,
            "visibility": null,
            "width": null
          }
        },
        "f0691477940e40589ef25a799c431d38": {
          "model_module": "@jupyter-widgets/base",
          "model_name": "LayoutModel",
          "model_module_version": "1.2.0",
          "state": {
            "_model_module": "@jupyter-widgets/base",
            "_model_module_version": "1.2.0",
            "_model_name": "LayoutModel",
            "_view_count": null,
            "_view_module": "@jupyter-widgets/base",
            "_view_module_version": "1.2.0",
            "_view_name": "LayoutView",
            "align_content": null,
            "align_items": null,
            "align_self": null,
            "border": null,
            "bottom": null,
            "display": null,
            "flex": null,
            "flex_flow": null,
            "grid_area": null,
            "grid_auto_columns": null,
            "grid_auto_flow": null,
            "grid_auto_rows": null,
            "grid_column": null,
            "grid_gap": null,
            "grid_row": null,
            "grid_template_areas": null,
            "grid_template_columns": null,
            "grid_template_rows": null,
            "height": null,
            "justify_content": null,
            "justify_items": null,
            "left": null,
            "margin": null,
            "max_height": null,
            "max_width": null,
            "min_height": null,
            "min_width": null,
            "object_fit": null,
            "object_position": null,
            "order": null,
            "overflow": null,
            "overflow_x": null,
            "overflow_y": null,
            "padding": null,
            "right": null,
            "top": null,
            "visibility": null,
            "width": null
          }
        },
        "b1622ef661c744ce8e03cbdfe03358c3": {
          "model_module": "@jupyter-widgets/controls",
          "model_name": "DescriptionStyleModel",
          "model_module_version": "1.5.0",
          "state": {
            "_model_module": "@jupyter-widgets/controls",
            "_model_module_version": "1.5.0",
            "_model_name": "DescriptionStyleModel",
            "_view_count": null,
            "_view_module": "@jupyter-widgets/base",
            "_view_module_version": "1.2.0",
            "_view_name": "StyleView",
            "description_width": ""
          }
        },
        "aed1725b91244f5d846d45b92e9d472d": {
          "model_module": "@jupyter-widgets/base",
          "model_name": "LayoutModel",
          "model_module_version": "1.2.0",
          "state": {
            "_model_module": "@jupyter-widgets/base",
            "_model_module_version": "1.2.0",
            "_model_name": "LayoutModel",
            "_view_count": null,
            "_view_module": "@jupyter-widgets/base",
            "_view_module_version": "1.2.0",
            "_view_name": "LayoutView",
            "align_content": null,
            "align_items": null,
            "align_self": null,
            "border": null,
            "bottom": null,
            "display": null,
            "flex": null,
            "flex_flow": null,
            "grid_area": null,
            "grid_auto_columns": null,
            "grid_auto_flow": null,
            "grid_auto_rows": null,
            "grid_column": null,
            "grid_gap": null,
            "grid_row": null,
            "grid_template_areas": null,
            "grid_template_columns": null,
            "grid_template_rows": null,
            "height": null,
            "justify_content": null,
            "justify_items": null,
            "left": null,
            "margin": null,
            "max_height": null,
            "max_width": null,
            "min_height": null,
            "min_width": null,
            "object_fit": null,
            "object_position": null,
            "order": null,
            "overflow": null,
            "overflow_x": null,
            "overflow_y": null,
            "padding": null,
            "right": null,
            "top": null,
            "visibility": null,
            "width": null
          }
        },
        "a361a6eea3aa4c23a219014d527d0807": {
          "model_module": "@jupyter-widgets/controls",
          "model_name": "ProgressStyleModel",
          "model_module_version": "1.5.0",
          "state": {
            "_model_module": "@jupyter-widgets/controls",
            "_model_module_version": "1.5.0",
            "_model_name": "ProgressStyleModel",
            "_view_count": null,
            "_view_module": "@jupyter-widgets/base",
            "_view_module_version": "1.2.0",
            "_view_name": "StyleView",
            "bar_color": null,
            "description_width": ""
          }
        },
        "4e0848ae1e8d4ae28abd03225737a1d7": {
          "model_module": "@jupyter-widgets/base",
          "model_name": "LayoutModel",
          "model_module_version": "1.2.0",
          "state": {
            "_model_module": "@jupyter-widgets/base",
            "_model_module_version": "1.2.0",
            "_model_name": "LayoutModel",
            "_view_count": null,
            "_view_module": "@jupyter-widgets/base",
            "_view_module_version": "1.2.0",
            "_view_name": "LayoutView",
            "align_content": null,
            "align_items": null,
            "align_self": null,
            "border": null,
            "bottom": null,
            "display": null,
            "flex": null,
            "flex_flow": null,
            "grid_area": null,
            "grid_auto_columns": null,
            "grid_auto_flow": null,
            "grid_auto_rows": null,
            "grid_column": null,
            "grid_gap": null,
            "grid_row": null,
            "grid_template_areas": null,
            "grid_template_columns": null,
            "grid_template_rows": null,
            "height": null,
            "justify_content": null,
            "justify_items": null,
            "left": null,
            "margin": null,
            "max_height": null,
            "max_width": null,
            "min_height": null,
            "min_width": null,
            "object_fit": null,
            "object_position": null,
            "order": null,
            "overflow": null,
            "overflow_x": null,
            "overflow_y": null,
            "padding": null,
            "right": null,
            "top": null,
            "visibility": null,
            "width": null
          }
        },
        "cf113ef77c5246998cdd2db122994030": {
          "model_module": "@jupyter-widgets/controls",
          "model_name": "DescriptionStyleModel",
          "model_module_version": "1.5.0",
          "state": {
            "_model_module": "@jupyter-widgets/controls",
            "_model_module_version": "1.5.0",
            "_model_name": "DescriptionStyleModel",
            "_view_count": null,
            "_view_module": "@jupyter-widgets/base",
            "_view_module_version": "1.2.0",
            "_view_name": "StyleView",
            "description_width": ""
          }
        }
      }
    }
  },
  "cells": [
    {
      "cell_type": "code",
      "execution_count": 2,
      "metadata": {
        "colab": {
          "base_uri": "https://localhost:8080/"
        },
        "id": "LxbS66GlE11j",
        "outputId": "9680668c-9a43-4a27-ac78-e4c9c8401ff0"
      },
      "outputs": [
        {
          "output_type": "stream",
          "name": "stdout",
          "text": [
            "\u001b[?25l     \u001b[90m━━━━━━━━━━━━━━━━━━━━━━━━━━━━━━━━━━━━━━━━\u001b[0m \u001b[32m0.0/536.7 kB\u001b[0m \u001b[31m?\u001b[0m eta \u001b[36m-:--:--\u001b[0m\r\u001b[2K     \u001b[91m━━━━━━━━━━━━━━━━━━━\u001b[0m\u001b[90m╺\u001b[0m\u001b[90m━━━━━━━━━━━━━━━━━━━━\u001b[0m \u001b[32m256.0/536.7 kB\u001b[0m \u001b[31m7.5 MB/s\u001b[0m eta \u001b[36m0:00:01\u001b[0m\r\u001b[2K     \u001b[90m━━━━━━━━━━━━━━━━━━━━━━━━━━━━━━━━━━━━━━━━\u001b[0m \u001b[32m536.7/536.7 kB\u001b[0m \u001b[31m11.1 MB/s\u001b[0m eta \u001b[36m0:00:00\u001b[0m\n",
            "\u001b[?25h  Preparing metadata (setup.py) ... \u001b[?25l\u001b[?25hdone\n",
            "\u001b[2K     \u001b[90m━━━━━━━━━━━━━━━━━━━━━━━━━━━━━━━━━━━━━━━━\u001b[0m \u001b[32m116.3/116.3 kB\u001b[0m \u001b[31m14.3 MB/s\u001b[0m eta \u001b[36m0:00:00\u001b[0m\n",
            "\u001b[2K     \u001b[90m━━━━━━━━━━━━━━━━━━━━━━━━━━━━━━━━━━━━━━━━\u001b[0m \u001b[32m134.8/134.8 kB\u001b[0m \u001b[31m17.5 MB/s\u001b[0m eta \u001b[36m0:00:00\u001b[0m\n",
            "\u001b[?25h  Building wheel for pandasql (setup.py) ... \u001b[?25l\u001b[?25hdone\n"
          ]
        }
      ],
      "source": [
        "!pip install datasets transformers pandasql beautifultable -qqq\n",
        "\n"
      ]
    },
    {
      "cell_type": "code",
      "source": [
        "import torch\n",
        "torch.cuda.empty_cache()"
      ],
      "metadata": {
        "id": "ER6h05d9F7Wq"
      },
      "execution_count": 3,
      "outputs": []
    },
    {
      "cell_type": "code",
      "source": [
        "import pandas as pd\n",
        "import re"
      ],
      "metadata": {
        "id": "2SMLbKfQGD4I"
      },
      "execution_count": 4,
      "outputs": []
    },
    {
      "cell_type": "code",
      "source": [
        "prefix = \"translate english to sparql: \"\n",
        "model_name = model = \"yazdipour/text-to-sparql-t5-base-qald9\""
      ],
      "metadata": {
        "id": "eqrVHrbyGF3Q"
      },
      "execution_count": 5,
      "outputs": []
    },
    {
      "cell_type": "code",
      "source": [
        "from transformers import pipeline, AutoTokenizer, AutoModelForSeq2SeqLM, T5TokenizerFast\n",
        "model = AutoModelForSeq2SeqLM.from_pretrained(model_name).to(\"cuda\")"
      ],
      "metadata": {
        "colab": {
          "base_uri": "https://localhost:8080/",
          "height": 240,
          "referenced_widgets": [
            "b4f6c4a239ae413e9d7f3f2e1fe89e9a",
            "b001c147d0014eaab8957f9bc0572bda",
            "4292294754a04cc8930f1d013a911869",
            "f6e557590d544dca943776f4a7599781",
            "05e36122aa284af2840d00644ce834b1",
            "3c8d49f3a90941be9ecaa18e688d592b",
            "31451f1e21fb401a8ad2ba068ecc7e4c",
            "a8c6193a32a24b2a94ba3b77984adc7d",
            "5626bf495a004b9b9c22ff32f76f1c46",
            "14f6467bdecf41b1b46a1794a5fcb179",
            "51c81e77ebfe4868ae18d03d844273de",
            "2fb48a1bd3184099b2e4ac55f10ec72e",
            "0d4ded277bbc40de808fa05487fe548c",
            "b19d26f18ac746b488b58b2a7eb3645d",
            "bf68f02ee5e94ab69814d39f82a77535",
            "f02d1fd23c284c01aace92198d6415ac",
            "da8a453a4e8549a5ba860b82fd97aa9f",
            "ae82ff7410a14d77abc53ad00f72150e",
            "56348f87e80147448c850c8f40a17d19",
            "7a1630b5407147599e2784d4b4852db0",
            "40aa2139b6bd46599b56caa04cb2043f",
            "8b1f5becf7a14d91ac0fee8b00c9d635"
          ]
        },
        "id": "W4Lpj2egGHy4",
        "outputId": "ae3dadcf-0cbd-4eda-95e2-88423745fcd8"
      },
      "execution_count": 6,
      "outputs": [
        {
          "output_type": "stream",
          "name": "stderr",
          "text": [
            "/usr/local/lib/python3.10/dist-packages/huggingface_hub/utils/_token.py:88: UserWarning: \n",
            "The secret `HF_TOKEN` does not exist in your Colab secrets.\n",
            "To authenticate with the Hugging Face Hub, create a token in your settings tab (https://huggingface.co/settings/tokens), set it as secret in your Google Colab and restart your session.\n",
            "You will be able to reuse this secret in all of your notebooks.\n",
            "Please note that authentication is recommended but still optional to access public models or datasets.\n",
            "  warnings.warn(\n"
          ]
        },
        {
          "output_type": "display_data",
          "data": {
            "text/plain": [
              "config.json:   0%|          | 0.00/1.47k [00:00<?, ?B/s]"
            ],
            "application/vnd.jupyter.widget-view+json": {
              "version_major": 2,
              "version_minor": 0,
              "model_id": "b4f6c4a239ae413e9d7f3f2e1fe89e9a"
            }
          },
          "metadata": {}
        },
        {
          "output_type": "display_data",
          "data": {
            "text/plain": [
              "pytorch_model.bin:   0%|          | 0.00/892M [00:00<?, ?B/s]"
            ],
            "application/vnd.jupyter.widget-view+json": {
              "version_major": 2,
              "version_minor": 0,
              "model_id": "2fb48a1bd3184099b2e4ac55f10ec72e"
            }
          },
          "metadata": {}
        },
        {
          "output_type": "stream",
          "name": "stderr",
          "text": [
            "/usr/local/lib/python3.10/dist-packages/torch/_utils.py:831: UserWarning: TypedStorage is deprecated. It will be removed in the future and UntypedStorage will be the only storage class. This should only matter to you if you are using storages directly.  To access UntypedStorage directly, use tensor.untyped_storage() instead of tensor.storage()\n",
            "  return self.fget.__get__(instance, owner)()\n"
          ]
        }
      ]
    },
    {
      "cell_type": "code",
      "source": [
        "# tokenizer = AutoTokenizer.from_pretrained(model_name)\n",
        "tokenizer = T5TokenizerFast.from_pretrained(model_name)\n",
        "# tokenizer = T5TokenizerFast.from_pretrained(model_name, src_lang=\"en\", tgt_lang=\"sparql\")"
      ],
      "metadata": {
        "colab": {
          "base_uri": "https://localhost:8080/",
          "height": 113,
          "referenced_widgets": [
            "7e1cf62fd145436280179e5a917aca65",
            "ff7b482ee6864e3cb3a4055df25f575a",
            "508784e63350438a87a87d08c9fd0734",
            "e716573e0c1d47da818fa680284f0ac5",
            "34c695899b084a36956d358a9bbaf93c",
            "e69770b1fc4a4ab38796422f38ce3d1b",
            "8938c5726fde431a9b6962e9cbd4db40",
            "f3067097019a43dcbfc90e50e3f19062",
            "f9c71a6899a144b082ed9c71e1a1f30b",
            "9adb3e40ccd2420c9020ddea9be449c1",
            "2b0f69d3f1fd4872a7a19192d3e2d445",
            "f47b91f317c946b1ae7010fd0d038460",
            "d893f2f4e5394a919dc9a56fee2535fa",
            "7bcdecff650a44bda7d3d84c8e262db7",
            "490cd9dc177349a39ebd00d8f8093b01",
            "b79c2846c58f43a5bfecd20e34d6cc96",
            "cea96a307bf34a97a81021483151612b",
            "4df9cbdc0296447095879f0d353c74dd",
            "015a34f6c10247859a5ebcd713ab3251",
            "06836258eb6f411a94fe2224161c472a",
            "ab33af2c518044d982ec3ba0d3c9fe1e",
            "d4475d6ada584225a09566956d80c392",
            "ec1e7076e7b6452992eb9213d29cbd77",
            "2dd317b14f23424a9d7100f3bfb00382",
            "fd5b0305cf914558995b91f54516ce1e",
            "7ee4179fe2774afbba875b81c5fc9cab",
            "5cfbfa9635a941b9b3faffb2eb778d18",
            "f0691477940e40589ef25a799c431d38",
            "b1622ef661c744ce8e03cbdfe03358c3",
            "aed1725b91244f5d846d45b92e9d472d",
            "a361a6eea3aa4c23a219014d527d0807",
            "4e0848ae1e8d4ae28abd03225737a1d7",
            "cf113ef77c5246998cdd2db122994030"
          ]
        },
        "id": "BdDJecr1HzcW",
        "outputId": "4cdd5ab9-ac84-4049-c2d6-0f0c58268c61"
      },
      "execution_count": 7,
      "outputs": [
        {
          "output_type": "display_data",
          "data": {
            "text/plain": [
              "tokenizer_config.json:   0%|          | 0.00/1.97k [00:00<?, ?B/s]"
            ],
            "application/vnd.jupyter.widget-view+json": {
              "version_major": 2,
              "version_minor": 0,
              "model_id": "7e1cf62fd145436280179e5a917aca65"
            }
          },
          "metadata": {}
        },
        {
          "output_type": "display_data",
          "data": {
            "text/plain": [
              "tokenizer.json:   0%|          | 0.00/1.39M [00:00<?, ?B/s]"
            ],
            "application/vnd.jupyter.widget-view+json": {
              "version_major": 2,
              "version_minor": 0,
              "model_id": "f47b91f317c946b1ae7010fd0d038460"
            }
          },
          "metadata": {}
        },
        {
          "output_type": "display_data",
          "data": {
            "text/plain": [
              "special_tokens_map.json:   0%|          | 0.00/1.79k [00:00<?, ?B/s]"
            ],
            "application/vnd.jupyter.widget-view+json": {
              "version_major": 2,
              "version_minor": 0,
              "model_id": "ec1e7076e7b6452992eb9213d29cbd77"
            }
          },
          "metadata": {}
        }
      ]
    },
    {
      "cell_type": "code",
      "source": [
        "translator = pipeline(\n",
        "    \"translation_xx_to_yy\",\n",
        "    model=model,\n",
        "    tokenizer=tokenizer,\n",
        "    device=0 #0 for cuda, -1 for cpu\n",
        ")"
      ],
      "metadata": {
        "id": "56LOngSGH3rk"
      },
      "execution_count": 8,
      "outputs": []
    },
    {
      "cell_type": "code",
      "source": [
        "def replace_all(text, dict):\n",
        "    for i, j in dict.items():\n",
        "        text = text.replace(i, j)\n",
        "    return text\n",
        ""
      ],
      "metadata": {
        "id": "zJLCRKSBH5xd"
      },
      "execution_count": 9,
      "outputs": []
    },
    {
      "cell_type": "code",
      "source": [
        "from google.colab import drive\n",
        "drive.mount('/content/drive')\n",
        "\n"
      ],
      "metadata": {
        "colab": {
          "base_uri": "https://localhost:8080/"
        },
        "id": "cGek8hE9P4rt",
        "outputId": "222d0930-b4af-499d-e46e-510cffff726d"
      },
      "execution_count": 25,
      "outputs": [
        {
          "output_type": "stream",
          "name": "stdout",
          "text": [
            "Mounted at /content/drive\n"
          ]
        }
      ]
    },
    {
      "cell_type": "code",
      "source": [
        "!curl -X GET \\\n",
        "     \"https://datasets-server.huggingface.co/rows?dataset=lc_quad&config=default&split=train&offset=0&length=100\""
      ],
      "metadata": {
        "colab": {
          "base_uri": "https://localhost:8080/"
        },
        "id": "3aDXL3UiIuQF",
        "outputId": "78d4a645-43d1-48e8-bb1d-af84a754ebed"
      },
      "execution_count": 13,
      "outputs": [
        {
          "output_type": "stream",
          "name": "stdout",
          "text": [
            "{\"features\":[{\"feature_idx\":0,\"name\":\"NNQT_question\",\"type\":{\"dtype\":\"string\",\"_type\":\"Value\"}},{\"feature_idx\":1,\"name\":\"uid\",\"type\":{\"dtype\":\"int32\",\"_type\":\"Value\"}},{\"feature_idx\":2,\"name\":\"subgraph\",\"type\":{\"dtype\":\"string\",\"_type\":\"Value\"}},{\"feature_idx\":3,\"name\":\"template_index\",\"type\":{\"dtype\":\"int32\",\"_type\":\"Value\"}},{\"feature_idx\":4,\"name\":\"question\",\"type\":{\"dtype\":\"string\",\"_type\":\"Value\"}},{\"feature_idx\":5,\"name\":\"sparql_wikidata\",\"type\":{\"dtype\":\"string\",\"_type\":\"Value\"}},{\"feature_idx\":6,\"name\":\"sparql_dbpedia18\",\"type\":{\"dtype\":\"string\",\"_type\":\"Value\"}},{\"feature_idx\":7,\"name\":\"template\",\"type\":{\"dtype\":\"string\",\"_type\":\"Value\"}},{\"feature_idx\":8,\"name\":\"paraphrased_question\",\"type\":{\"dtype\":\"string\",\"_type\":\"Value\"}}],\"rows\":[{\"row_idx\":0,\"row\":{\"NNQT_question\":\"What is the {periodical literature} for {mouthpiece} of {Delta Air Lines}\",\"uid\":19719,\"subgraph\":\"simple question right\",\"template_index\":65,\"question\":\"What periodical literature does Delta Air Lines use as a moutpiece?\",\"sparql_wikidata\":\" select distinct ?obj where { wd:Q188920 wdt:P2813 ?obj . ?obj wdt:P31 wd:Q1002697 } \",\"sparql_dbpedia18\":\"select distinct ?obj where { ?statement <http://www.w3.org/1999/02/22-rdf-syntax-ns#subject> <http://wikidata.dbpedia.org/resource/Q188920> . ?statement <http://www.w3.org/1999/02/22-rdf-syntax-ns#predicate> <http://www.wikidata.org/entity/P2813> . ?statement <http://www.w3.org/1999/02/22-rdf-syntax-ns#object> ?obj . ?obj <http://www.wikidata.org/entity/P31> <http://wikidata.dbpedia.org/resource/Q1002697> } \",\"template\":\" <S P ?O ; ?O instanceOf Type>\",\"paraphrased_question\":\"What is Delta Air Line's periodical literature mouthpiece?\"},\"truncated_cells\":[]},{\"row_idx\":1,\"row\":{\"NNQT_question\":\"What is {child of} of {husband} of {Ranavalona I} ?\",\"uid\":15554,\"subgraph\":\"left-subgraph\",\"template_index\":8,\"question\":\"Who is the child of Ranavalona I's husband?\",\"sparql_wikidata\":\"SELECT ?answer WHERE { wd:Q169794 wdt:P26 ?X . ?X wdt:P22 ?answer}\",\"sparql_dbpedia18\":\"SELECT ?answer WHERE { ?statement1 <http://www.w3.org/1999/02/22-rdf-syntax-ns#subject> <http://wikidata.dbpedia.org/resource/Q169794> . ?statement1 <http://www.w3.org/1999/02/22-rdf-syntax-ns#predicate> <http://www.wikidata.org/entity/P26>. ?statement1 <http://www.w3.org/1999/02/22-rdf-syntax-ns#object> ?X . ?statement2 <http://www.w3.org/1999/02/22-rdf-syntax-ns#subject> ?X. ?statement2 <http://www.w3.org/1999/02/22-rdf-syntax-ns#predicate> <http://www.wikidata.org/entity/P22> . ?statement2 <http://www.w3.org/1999/02/22-rdf-syntax-ns#object> ?answer . }\",\"template\":\"C RCD xD . xD RDE ?E\",\"paraphrased_question\":\"What is the name of Ranavalona I's husband's child?\"},\"truncated_cells\":[]},{\"row_idx\":2,\"row\":{\"NNQT_question\":\"Did {Jeff_Bridges} {occupation} {Lane Chandler} and {photographer} ?\",\"uid\":974,\"subgraph\":\"boolean double one_hop right subgraph\",\"template_index\":474,\"question\":\"Is it true Jeff_Bridges occupation Lane Chandler and photographer ?\",\"sparql_wikidata\":\"ASK WHERE { wd:Q174843 wdt:P106 wd:Q1804811 . wd:Q174843 wdt:P106 wd:Q33231 }\",\"sparql_dbpedia18\":\" ASK { ?statement1 <http://www.w3.org/1999/02/22-rdf-syntax-ns#subject> <http://wikidata.dbpedia.org/resource/Q174843> . ?statement1 <http://www.w3.org/1999/02/22-rdf-syntax-ns#predicate> <http://www.wikidata.org/entity/P106> . ?statement1 <http://www.w3.org/1999/02/22-rdf-syntax-ns#object> <http://wikidata.dbpedia.org/resource/Q1804811>. ?statement2 <http://www.w3.org/1999/02/22-rdf-syntax-ns#subject> <http://wikidata.dbpedia.org/resource/Q174843> . ?statement2 <http://www.w3.org/1999/02/22-rdf-syntax-ns#predicate> <http://www.wikidata.org/entity/P106> . ?statement2 <http://www.w3.org/1999/02/22-rdf-syntax-ns#object> <http://wikidata.dbpedia.org/resource/Q33231>. } \",\"template\":\"Ask (ent-pred-obj1` . ent-pred-obj2)\",\"paraphrased_question\":\"Are Jeff Bridges and Lane Chandler both photographers?\"},\"truncated_cells\":[]},{\"row_idx\":3,\"row\":{\"NNQT_question\":\"What is {prequel of} of {phase of matter} of {Galinstan} ?\",\"uid\":15803,\"subgraph\":\"right-subgraph\",\"template_index\":33,\"question\":\"What is the pre-requisite of phase matter of Galinstan?\",\"sparql_wikidata\":\"SELECT ?answer WHERE { wd:Q675176 wdt:P515 ?X . ?X wdt:P156 ?answer}\",\"sparql_dbpedia18\":\"SELECT ?answer WHERE { ?statement1 <http://www.w3.org/1999/02/22-rdf-syntax-ns#subject> <http://wikidata.dbpedia.org/resource/Q675176> . ?statement1 <http://www.w3.org/1999/02/22-rdf-syntax-ns#predicate> <http://www.wikidata.org/entity/P515>. ?statement1 <http://www.w3.org/1999/02/22-rdf-syntax-ns#object> ?X . ?statement2 <http://www.w3.org/1999/02/22-rdf-syntax-ns#subject> ?X. ?statement2 <http://www.w3.org/1999/02/22-rdf-syntax-ns#predicate> <http://www.wikidata.org/entity/P156> . ?statement2 <http://www.w3.org/1999/02/22-rdf-syntax-ns#object> ?answer . }\",\"template\":\"E REF xF . xF RFG ?G\",\"paraphrased_question\":\"What range are the papers at the Monique Genonceaux about?\"},\"truncated_cells\":[]},{\"row_idx\":4,\"row\":{\"NNQT_question\":\"Give me {cola} that starts with {'p'}\",\"uid\":24488,\"subgraph\":\"string matching simple contains word\",\"template_index\":631,\"question\":\"which cola starts with the letter p\",\"sparql_wikidata\":\"SELECT DISTINCT ?sbj ?sbj_label WHERE { ?sbj wdt:P31 wd:Q134041 . ?sbj rdfs:label ?sbj_label . FILTER(STRSTARTS(lcase(?sbj_label), 'p')) . FILTER (lang(?sbj_label) = 'en') } LIMIT 25 \",\"sparql_dbpedia18\":\"SELECT DISTINCT ?sbj ?sbj_label { ?statement1 <http://www.w3.org/1999/02/22-rdf-syntax-ns#subject> ?sbj . ?statement1 <http://www.w3.org/1999/02/22-rdf-syntax-ns#predicate> <http://www.wikidata.org/entity/P31> . ?statement1 <http://www.w3.org/1999/02/22-rdf-syntax-ns#object> <http://wikidata.dbpedia.org/resource/Q134041>. ?sbj rdfs:label ?sbj_label . FILTER(STRSTARTS(lcase(?sbj_label), 'p')) . FILTER (lang(?sbj_label) = 'en') } LIMIT 25\",\"template\":\" <?S P O ; ?S instanceOf Type ; starts with character >\",\"paraphrased_question\":\"which cola begins with the letter p\"},\"truncated_cells\":[]},{\"row_idx\":5,\"row\":{\"NNQT_question\":\"Does the {right ascension} of the {Malin 1} {less than} {15.1398}\",\"uid\":18423,\"subgraph\":\"boolean with filter\",\"template_index\":441,\"question\":\"Is the right ascension of malin 1 less than 15.1398?\",\"sparql_wikidata\":\"ASK WHERE { wd:Q4180017 wdt:P6257 ?obj filter(?obj < 15.1398) } \",\"sparql_dbpedia18\":\"ASK { ?statement1 <http://www.w3.org/1999/02/22-rdf-syntax-ns#subject> <http://wikidata.dbpedia.org/resource/Q4180017> . ?statement1 <http://www.w3.org/1999/02/22-rdf-syntax-ns#predicate> <http://www.wikidata.org/entity/P6257>. ?statement1 <http://www.w3.org/1999/02/22-rdf-syntax-ns#object> ?obj. filter(?obj < 15.1398) }\",\"template\":\"ASK ?sbj ?pred ?obj filter ?obj = num\",\"paraphrased_question\":\"Does malin 1 have a right ascension lower than 15.1398?\"},\"truncated_cells\":[]},{\"row_idx\":6,\"row\":{\"NNQT_question\":\"What is the {discography} for {discography} of {Jerry Lee Lewis}\",\"uid\":21845,\"subgraph\":\"simple question right\",\"template_index\":2191,\"question\":\"What is the complete list of records released by Jerry Lee Lewis?\",\"sparql_wikidata\":\" select distinct ?obj where { wd:Q202729 wdt:P358 ?obj . ?obj wdt:P31 wd:Q273057 } \",\"sparql_dbpedia18\":\"select distinct ?obj where { ?statement <http://www.w3.org/1999/02/22-rdf-syntax-ns#subject> <http://wikidata.dbpedia.org/resource/Q202729> . ?statement <http://www.w3.org/1999/02/22-rdf-syntax-ns#predicate> <http://www.wikidata.org/entity/P358> . ?statement <http://www.w3.org/1999/02/22-rdf-syntax-ns#object> ?obj . ?obj <http://www.wikidata.org/entity/P31> <http://wikidata.dbpedia.org/resource/Q273057> } \",\"template\":\" <S P ?O ; ?O instanceOf Type>\",\"paraphrased_question\":\"What is the total list of records discharged by Jerry Lee Lewis?\"},\"truncated_cells\":[]},{\"row_idx\":7,\"row\":{\"NNQT_question\":\"What is {prizewinner} of {sequel is} of {1885 Wimbledon Championships – Gentlemen's Singles} ?\",\"uid\":14923,\"subgraph\":\"left-subgraph\",\"template_index\":20,\"question\":\"Who won the prize at the sequel of the 1885 Wimbledon Championships- Gentlemen's Singles?\",\"sparql_wikidata\":\"SELECT ?answer WHERE { wd:Q1356316 wdt:P156 ?X . ?X wdt:P1346 ?answer}\",\"sparql_dbpedia18\":\"SELECT ?answer WHERE { ?statement1 <http://www.w3.org/1999/02/22-rdf-syntax-ns#subject> <http://wikidata.dbpedia.org/resource/Q1356316> . ?statement1 <http://www.w3.org/1999/02/22-rdf-syntax-ns#predicate> <http://www.wikidata.org/entity/P156>. ?statement1 <http://www.w3.org/1999/02/22-rdf-syntax-ns#object> ?X . ?statement2 <http://www.w3.org/1999/02/22-rdf-syntax-ns#subject> ?X. ?statement2 <http://www.w3.org/1999/02/22-rdf-syntax-ns#predicate> <http://www.wikidata.org/entity/P1346> . ?statement2 <http://www.w3.org/1999/02/22-rdf-syntax-ns#object> ?answer . }\",\"template\":\"C RCD xD . xD RDE ?E\",\"paraphrased_question\":\"Who won the prize at the spin-off of the 1885 Wimbledon Championships- Gentlemen's Singles?\"},\"truncated_cells\":[]},{\"row_idx\":8,\"row\":{\"NNQT_question\":\"Does the {carbon footprint} of the {iPhone Xs Max} {equals} {106}\",\"uid\":18165,\"subgraph\":\"boolean with filter\",\"template_index\":183,\"question\":\"Is it true that the carbon footprint of the iPhone X Max is 106?\",\"sparql_wikidata\":\"ASK WHERE { wd:Q56599233 wdt:P5991 ?obj filter(?obj = 106) } \",\"sparql_dbpedia18\":\"ASK { ?statement1 <http://www.w3.org/1999/02/22-rdf-syntax-ns#subject> <http://wikidata.dbpedia.org/resource/Q56599233> . ?statement1 <http://www.w3.org/1999/02/22-rdf-syntax-ns#predicate> <http://www.wikidata.org/entity/P5991>. ?statement1 <http://www.w3.org/1999/02/22-rdf-syntax-ns#object> ?obj. filter(?obj = 106) }\",\"template\":\"ASK ?sbj ?pred ?obj filter ?obj = num\",\"paraphrased_question\":\"Does the iPhone X Max have a carbon footprint of 106?\"},\"truncated_cells\":[]},{\"row_idx\":9,\"row\":{\"NNQT_question\":\"Give me {female beauty pageant} that {operating area} {all countries} and which contains the word {model} in their name\",\"uid\":25156,\"subgraph\":\"string matching type + relation contains word\",\"template_index\":1095,\"question\":\"Tell me the female beauty pageant that operates in all countries and contains the word model in it's name?\",\"sparql_wikidata\":\"SELECT DISTINCT ?sbj ?sbj_label WHERE { ?sbj wdt:P31 wd:Q58863414 . ?sbj wdt:P2541 wd:Q62900839 . ?sbj rdfs:label ?sbj_label . FILTER(CONTAINS(lcase(?sbj_label), 'model')) . FILTER (lang(?sbj_label) = 'en') } LIMIT 25 \",\"sparql_dbpedia18\":\"SELECT DISTINCT ?sbj ?sbj_label { ?statement1 <http://www.w3.org/1999/02/22-rdf-syntax-ns#subject> ?sbj . ?statement1 <http://www.w3.org/1999/02/22-rdf-syntax-ns#predicate> <http://www.wikidata.org/entity/P31> . ?statement1 <http://www.w3.org/1999/02/22-rdf-syntax-ns#object> <http://wikidata.dbpedia.org/resource/Q58863414>. ?statement2 <http://www.w3.org/1999/02/22-rdf-syntax-ns#subject> ?sbj . ?statement2 <http://www.w3.org/1999/02/22-rdf-syntax-ns#predicate> <http://www.wikidata.org/entity/P2541> . ?statement2 <http://www.w3.org/1999/02/22-rdf-syntax-ns#object> <http://wikidata.dbpedia.org/resource/Q62900839>. ?sbj rdfs:label ?sbj_label . FILTER(CONTAINS(lcase(?sbj_label), 'model')) . FILTER (lang(?sbj_label) = 'en') } LIMIT 25\",\"template\":\" <?S P O ; ?S instanceOf Type ; contains word >\",\"paraphrased_question\":\"Tell me the female splendor festival that operates in all countries and contains the phrase model in it is name?\"},\"truncated_cells\":[]},{\"row_idx\":10,\"row\":{\"NNQT_question\":\"Did {Lindsey_Vonn} {participant of} {FIS Alpine World Ski Championships 1999} and {FIS Alpine World Ski Championships 2019} ?\",\"uid\":519,\"subgraph\":\"boolean double one_hop right subgraph\",\"template_index\":19,\"question\":\"Did Lindsey Vonn participate in the FIS Alpine World Ski Championships in 1999 and 2019?\",\"sparql_wikidata\":\"ASK WHERE { wd:Q10068 wdt:P1344 wd:Q1428251 . wd:Q10068 wdt:P1344 wd:Q15263420 }\",\"sparql_dbpedia18\":\" ASK { ?statement1 <http://www.w3.org/1999/02/22-rdf-syntax-ns#subject> <http://wikidata.dbpedia.org/resource/Q10068> . ?statement1 <http://www.w3.org/1999/02/22-rdf-syntax-ns#predicate> <http://www.wikidata.org/entity/P1344> . ?statement1 <http://www.w3.org/1999/02/22-rdf-syntax-ns#object> <http://wikidata.dbpedia.org/resource/Q1428251>. ?statement2 <http://www.w3.org/1999/02/22-rdf-syntax-ns#subject> <http://wikidata.dbpedia.org/resource/Q10068> . ?statement2 <http://www.w3.org/1999/02/22-rdf-syntax-ns#predicate> <http://www.wikidata.org/entity/P1344> . ?statement2 <http://www.w3.org/1999/02/22-rdf-syntax-ns#object> <http://wikidata.dbpedia.org/resource/Q15263420>. } \",\"template\":\"Ask (ent-pred-obj1` . ent-pred-obj2)\",\"paraphrased_question\":\"In 1999 and 2019, was Lindsey Vonn in the FIS Alpine World Ski Championships?\"},\"truncated_cells\":[]},{\"row_idx\":11,\"row\":{\"NNQT_question\":\"What is {position held} of {Angela Merkel} that is {start time} is {1994-11-10} ?\",\"uid\":3708,\"subgraph\":\"statement_property\",\"template_index\":153,\"question\":\"When position did Angela Merkel hold on November 10, 1994?\",\"sparql_wikidata\":\"SELECT ?obj WHERE { wd:Q567 p:P39 ?s . ?s ps:P39 ?obj . ?s pq:P580 ?x filter(contains(YEAR(?x),'1994')) }\",\"sparql_dbpedia18\":\"select distinct ?obj  where {\\n?statement <http://www.w3.org/1999/02/22-rdf-syntax-ns#subject> <http://wikidata.dbpedia.org/resource/Q567> .\\n?statement <http://www.w3.org/1999/02/22-rdf-syntax-ns#predicate> <http://www.wikidata.org/entity/P39> .\\n?statement <http://www.w3.org/1999/02/22-rdf-syntax-ns#object> ?obj .\\n?statement <http://www.wikidata.org/entity/P580> <1994-11-10>\\n} \\n\",\"template\":\"(E pred F) prop ?value\",\"paraphrased_question\":\"On November 10, 1994, what was Angela Merkel's role?\"},\"truncated_cells\":[]},{\"row_idx\":12,\"row\":{\"NNQT_question\":\"What is {population} of {Spokane} that is {point in time} is {2007-0-0} ?\",\"uid\":7974,\"subgraph\":\"statement_property\",\"template_index\":4419,\"question\":\"On 0-0-2007, what is the populaton of Spokane?\",\"sparql_wikidata\":\"SELECT ?obj WHERE { wd:Q187805 p:P1082 ?s . ?s ps:P1082 ?obj . ?s pq:P585 ?x filter(contains(YEAR(?x),'2007')) }\",\"sparql_dbpedia18\":\"select distinct ?obj  where {\\n?statement <http://www.w3.org/1999/02/22-rdf-syntax-ns#subject> <http://wikidata.dbpedia.org/resource/Q187805> .\\n?statement <http://www.w3.org/1999/02/22-rdf-syntax-ns#predicate> <http://www.wikidata.org/entity/P1082> .\\n?statement <http://www.w3.org/1999/02/22-rdf-syntax-ns#object> ?obj .\\n?statement <http://www.wikidata.org/entity/P585> <2007-0-0>\\n} \\n\",\"template\":\"(E pred F) prop ?value\",\"paraphrased_question\":\"What was the population of Spokane at the beginning of 2007?\"},\"truncated_cells\":[]},{\"row_idx\":13,\"row\":{\"NNQT_question\":\"What is the {essential medicine} for {medical condition treated} of {leprosy}\",\"uid\":21093,\"subgraph\":\"simple question left\",\"template_index\":1439,\"question\":\"What essential medicine is needed to treat leprosy?\",\"sparql_wikidata\":\" select distinct ?sbj where { ?sbj wdt:P2175 wd:Q36956 . ?sbj wdt:P31 wd:Q35456 } \",\"sparql_dbpedia18\":\"select distinct ?subj where { ?statement <http://www.w3.org/1999/02/22-rdf-syntax-ns#subject> ?subj . ?statement <http://www.w3.org/1999/02/22-rdf-syntax-ns#predicate> <http://www.wikidata.org/entity/P2175> . ?statement <http://www.w3.org/1999/02/22-rdf-syntax-ns#object> <http://wikidata.dbpedia.org/resource/Q36956> . ?subj <http://www.wikidata.org/entity/P31> <http://wikidata.dbpedia.org/resource/Q35456> } \",\"template\":\"<?S P O ; ?S InstanceOf Type>\",\"paraphrased_question\":\"What basic pharmaceutical is required to treat leprosy?\"},\"truncated_cells\":[]},{\"row_idx\":14,\"row\":{\"NNQT_question\":\"Did {Judi_Dench} {award received} {Tony Award for Best Direction of a Play} and {Praemium Imperiale} ?\",\"uid\":712,\"subgraph\":\"boolean double one_hop right subgraph\",\"template_index\":212,\"question\":\"Did Judi Densch receive a Tony Award for best direction of the play Premium Imperiale?\",\"sparql_wikidata\":\"ASK WHERE { wd:Q28054 wdt:P166 wd:Q640374 . wd:Q28054 wdt:P166 wd:Q268670 }\",\"sparql_dbpedia18\":\" ASK { ?statement1 <http://www.w3.org/1999/02/22-rdf-syntax-ns#subject> <http://wikidata.dbpedia.org/resource/Q28054> . ?statement1 <http://www.w3.org/1999/02/22-rdf-syntax-ns#predicate> <http://www.wikidata.org/entity/P166> . ?statement1 <http://www.w3.org/1999/02/22-rdf-syntax-ns#object> <http://wikidata.dbpedia.org/resource/Q640374>. ?statement2 <http://www.w3.org/1999/02/22-rdf-syntax-ns#subject> <http://wikidata.dbpedia.org/resource/Q28054> . ?statement2 <http://www.w3.org/1999/02/22-rdf-syntax-ns#predicate> <http://www.wikidata.org/entity/P166> . ?statement2 <http://www.w3.org/1999/02/22-rdf-syntax-ns#object> <http://wikidata.dbpedia.org/resource/Q268670>. } \",\"template\":\"Ask (ent-pred-obj1` . ent-pred-obj2)\",\"paraphrased_question\":\"Was the Tony Award for best direction of the play Premium Imperiale given to Judi Densch?\"},\"truncated_cells\":[]},{\"row_idx\":15,\"row\":{\"NNQT_question\":\"what is the {pressure} for {copper} has {boiling point} as {4703.0} ?\",\"uid\":6826,\"subgraph\":\"statement_property\",\"template_index\":3271,\"question\":\"What is the boiling point of pressure copper as 4703.0?\",\"sparql_wikidata\":\"SELECT ?value WHERE { wd:Q753 p:P2102 ?s . ?s ps:P2102 ?x filter(contains(?x,'4703.0')) . ?s pq:P2077 ?value}\",\"sparql_dbpedia18\":\"select distinct ?value  where {\\n?statement <http://www.w3.org/1999/02/22-rdf-syntax-ns#subject> <http://wikidata.dbpedia.org/resource/Q753> .\\n?statement <http://www.w3.org/1999/02/22-rdf-syntax-ns#predicate> <http://www.wikidata.org/entity/P2102> .\\n?statement <http://www.w3.org/1999/02/22-rdf-syntax-ns#object> <4703.0> .\\n?statement <http://www.wikidata.org/entity/P2077> ?value. \\n} \\n\",\"template\":\"(E pred ?Obj ) prop value\",\"paraphrased_question\":\"Copper as 4703.0 has a boiling boint of what?\"},\"truncated_cells\":[]},{\"row_idx\":16,\"row\":{\"NNQT_question\":\"What is the {record held} and the {named after} of {Marathon} ?\",\"uid\":10143,\"subgraph\":\"two intentions right subgraph\",\"template_index\":431,\"question\":\"After what is Marathon named and what is the current record?\",\"sparql_wikidata\":\"SELECT ?ans_1 ?ans_2 WHERE { wd:Q40244 wdt:P1000 ?ans_1 . wd:Q40244 wdt:P138 ?ans_2 }\",\"sparql_dbpedia18\":\" SELECT ?ans_1 ?ans_2 WHERE { ?statement1 <http://www.w3.org/1999/02/22-rdf-syntax-ns#subject> <http://wikidata.dbpedia.org/resource/Q40244> . ?statement1 <http://www.w3.org/1999/02/22-rdf-syntax-ns#predicate> <http://www.wikidata.org/entity/P1000> . ?statement1 <http://www.w3.org/1999/02/22-rdf-syntax-ns#object> ?ans_1. ?statement2 <http://www.w3.org/1999/02/22-rdf-syntax-ns#subject> <http://wikidata.dbpedia.org/resource/Q40244> . ?statement2 <http://www.w3.org/1999/02/22-rdf-syntax-ns#predicate> <http://www.wikidata.org/entity/P138> . ?statement2 <http://www.w3.org/1999/02/22-rdf-syntax-ns#object> ?ans_2. } \",\"template\":\"select where (ent-pred-obj1 . ent-pred-obj2)\",\"paraphrased_question\":\"why Marathon had this name and the current record is?\"},\"truncated_cells\":[]},{\"row_idx\":17,\"row\":{\"NNQT_question\":\"What is {played by} of {succeded by} of {Sleepwalking} ?\",\"uid\":15164,\"subgraph\":\"left-subgraph\",\"template_index\":86,\"question\":\"Who Sleepwalking succeeded in playing Sleepwalking?\",\"sparql_wikidata\":\"SELECT ?answer WHERE { wd:Q7539946 wdt:P156 ?X . ?X wdt:P175 ?answer}\",\"sparql_dbpedia18\":\"SELECT ?answer WHERE { ?statement1 <http://www.w3.org/1999/02/22-rdf-syntax-ns#subject> <http://wikidata.dbpedia.org/resource/Q7539946> . ?statement1 <http://www.w3.org/1999/02/22-rdf-syntax-ns#predicate> <http://www.wikidata.org/entity/P156>. ?statement1 <http://www.w3.org/1999/02/22-rdf-syntax-ns#object> ?X . ?statement2 <http://www.w3.org/1999/02/22-rdf-syntax-ns#subject> ?X. ?statement2 <http://www.w3.org/1999/02/22-rdf-syntax-ns#predicate> <http://www.wikidata.org/entity/P175> . ?statement2 <http://www.w3.org/1999/02/22-rdf-syntax-ns#object> ?answer . }\",\"template\":\"C RCD xD . xD RDE ?E\",\"paraphrased_question\":\"Who Sleepwalking succeeded in playing Sleepwalking?\"},\"truncated_cells\":[]},{\"row_idx\":18,\"row\":{\"NNQT_question\":\"What is {nominated for} of {Clifton Chenier} that is {point in time} is {1983-0-0} ?\",\"uid\":7855,\"subgraph\":\"statement_property\",\"template_index\":4300,\"question\":\"What did Clifton Chenier get nominated for in 1983-0-0?\",\"sparql_wikidata\":\"SELECT ?obj WHERE { wd:Q1101377 p:P1411 ?s . ?s ps:P1411 ?obj . ?s pq:P585 ?x filter(contains(YEAR(?x),'1983')) }\",\"sparql_dbpedia18\":\"select distinct ?obj  where {\\n?statement <http://www.w3.org/1999/02/22-rdf-syntax-ns#subject> <http://wikidata.dbpedia.org/resource/Q1101377> .\\n?statement <http://www.w3.org/1999/02/22-rdf-syntax-ns#predicate> <http://www.wikidata.org/entity/P1411> .\\n?statement <http://www.w3.org/1999/02/22-rdf-syntax-ns#object> ?obj .\\n?statement <http://www.wikidata.org/entity/P585> <1983-0-0>\\n} \\n\",\"template\":\"(E pred F) prop ?value\",\"paraphrased_question\":\"In 1983, what nomination did Clifton Chenier receive?\"},\"truncated_cells\":[]},{\"row_idx\":19,\"row\":{\"NNQT_question\":\"What is the {Class IB flammable liquid} with the {MAX(lower flammable limit)} ?\",\"uid\":2621,\"subgraph\":\"rank\",\"template_index\":197,\"question\":\"Which Class IB flammable liquid has the least lower flammable limit?\",\"sparql_wikidata\":\"select ?ent where { ?ent wdt:P31 wd:Q21009055 . ?ent wdt:P2202 ?obj } ORDER BY DESC(?obj)LIMIT 5 \",\"sparql_dbpedia18\":\"select ?ent where {\\n?ent <http://www.wikidata.org/entity/P31> <http://wikidata.dbpedia.org/resource/Q21009055>.\\n?statement <http://www.w3.org/1999/02/22-rdf-syntax-ns#subject> ?ent .\\n?statement <http://www.w3.org/1999/02/22-rdf-syntax-ns#predicate> <http://www.wikidata.org/entity/P2202>.\\n?statement <http://www.w3.org/1999/02/22-rdf-syntax-ns#object> ?obj .}\\nORDER BY DESC(?obj)\\nLIMIT 5\",\"template\":\"?E is_a Type, ?E pred Obj  value. MAX/MIN (value)\",\"paraphrased_question\":\"What flammable liquid has the least lower flammable limit in Class IB?\"},\"truncated_cells\":[]},{\"row_idx\":20,\"row\":{\"NNQT_question\":\"What is the {material used} and the {approved by} of {Mojito} ?\",\"uid\":10141,\"subgraph\":\"two intentions right subgraph\",\"template_index\":427,\"question\":\"What is the material used and approved by Mojito?\",\"sparql_wikidata\":\"SELECT ?ans_1 ?ans_2 WHERE { wd:Q487338 wdt:P186 ?ans_1 . wd:Q487338 wdt:P790 ?ans_2 }\",\"sparql_dbpedia18\":\" SELECT ?ans_1 ?ans_2 WHERE { ?statement1 <http://www.w3.org/1999/02/22-rdf-syntax-ns#subject> <http://wikidata.dbpedia.org/resource/Q487338> . ?statement1 <http://www.w3.org/1999/02/22-rdf-syntax-ns#predicate> <http://www.wikidata.org/entity/P186> . ?statement1 <http://www.w3.org/1999/02/22-rdf-syntax-ns#object> ?ans_1. ?statement2 <http://www.w3.org/1999/02/22-rdf-syntax-ns#subject> <http://wikidata.dbpedia.org/resource/Q487338> . ?statement2 <http://www.w3.org/1999/02/22-rdf-syntax-ns#predicate> <http://www.wikidata.org/entity/P790> . ?statement2 <http://www.w3.org/1999/02/22-rdf-syntax-ns#object> ?ans_2. } \",\"template\":\"select where (ent-pred-obj1 . ent-pred-obj2)\",\"paraphrased_question\":\"What is the material used and accredited by means of Mojito?\"},\"truncated_cells\":[]},{\"row_idx\":21,\"row\":{\"NNQT_question\":\"What is the {history of a country or state} for {history of topic} of {Korea}\",\"uid\":19829,\"subgraph\":\"simple question right\",\"template_index\":175,\"question\":\"Could you summarize Korea's history of this topic?\",\"sparql_wikidata\":\" select distinct ?obj where { wd:Q18097 wdt:P2184 ?obj . ?obj wdt:P31 wd:Q17544377 } \",\"sparql_dbpedia18\":\"select distinct ?obj where { ?statement <http://www.w3.org/1999/02/22-rdf-syntax-ns#subject> <http://wikidata.dbpedia.org/resource/Q18097> . ?statement <http://www.w3.org/1999/02/22-rdf-syntax-ns#predicate> <http://www.wikidata.org/entity/P2184> . ?statement <http://www.w3.org/1999/02/22-rdf-syntax-ns#object> ?obj . ?obj <http://www.wikidata.org/entity/P31> <http://wikidata.dbpedia.org/resource/Q17544377> } \",\"template\":\" <S P ?O ; ?O instanceOf Type>\",\"paraphrased_question\":\"In this topic, give a summary of Korea's history\"},\"truncated_cells\":[]},{\"row_idx\":22,\"row\":{\"NNQT_question\":\"What is {landscape of} of {Virgin of the rocks}, that has {birth city} is {Tzippori} ?\",\"uid\":13981,\"subgraph\":\"right-subgraph\",\"template_index\":9,\"question\":\"\\\"Which is {landscape of} of {Virgin of the rocks}, which has {birth city} is {Tzippori} ?\\\"\",\"sparql_wikidata\":\"SELECT ?answer WHERE { wd:Q269342 wdt:P180 ?answer . ?answer wdt:P19 wd:Q1132798}\",\"sparql_dbpedia18\":\"SELECT ?answer WHERE { ?statement1 <http://www.w3.org/1999/02/22-rdf-syntax-ns#subject> <http://wikidata.dbpedia.org/resource/Q269342> . ?statement1 <http://www.w3.org/1999/02/22-rdf-syntax-ns#predicate> <http://www.wikidata.org/entity/P180>. ?statement1 <http://www.w3.org/1999/02/22-rdf-syntax-ns#object> ?answer . ?statement2 <http://www.w3.org/1999/02/22-rdf-syntax-ns#subject> ?answer. ?statement2 <http://www.w3.org/1999/02/22-rdf-syntax-ns#predicate> <http://www.wikidata.org/entity/P19> . ?statement2 <http://www.w3.org/1999/02/22-rdf-syntax-ns#object> <http://wikidata.dbpedia.org/resource/Q1132798> . }\",\"template\":\"E REF ?F . ?F RFG G\",\"paraphrased_question\":\"\\\"Which is {scene of} of {Virgin of the rocks}, which has {birth city} is {Tzippori} ?\\\"\"},\"truncated_cells\":[]},{\"row_idx\":23,\"row\":{\"NNQT_question\":\"Did {Kevin_Costner} {owner of} {Fielders Stadium}?\",\"uid\":403,\"subgraph\":\"boolean one_hop right subgraph\",\"template_index\":403,\"question\":\"Is Kevin Costner owner of Fielders Stadium?\",\"sparql_wikidata\":\"ASK WHERE { wd:Q11930 wdt:P1830 wd:Q5447154 }\",\"sparql_dbpedia18\":\" ASK { ?statement1 <http://www.w3.org/1999/02/22-rdf-syntax-ns#subject> <http://wikidata.dbpedia.org/resource/Q11930> . ?statement1 <http://www.w3.org/1999/02/22-rdf-syntax-ns#predicate> <http://www.wikidata.org/entity/P1830> . ?statement1 <http://www.w3.org/1999/02/22-rdf-syntax-ns#object> <http://wikidata.dbpedia.org/resource/Q5447154>. } \",\"template\":\"Ask (ent-pred-obj)\",\"paraphrased_question\":\"Is the Fielders Stadium owned by Kevin Costner?\"},\"truncated_cells\":[]},{\"row_idx\":24,\"row\":{\"NNQT_question\":\"Give me {skill} that starts with {'s'}\",\"uid\":24611,\"subgraph\":\"string matching simple contains word\",\"template_index\":2614,\"question\":\"What is a skill that starts with the letter s.\",\"sparql_wikidata\":\"SELECT DISTINCT ?sbj ?sbj_label WHERE { ?sbj wdt:P31 wd:Q205961 . ?sbj rdfs:label ?sbj_label . FILTER(STRSTARTS(lcase(?sbj_label), 's')) . FILTER (lang(?sbj_label) = 'en') } LIMIT 25 \",\"sparql_dbpedia18\":\"SELECT DISTINCT ?sbj ?sbj_label { ?statement1 <http://www.w3.org/1999/02/22-rdf-syntax-ns#subject> ?sbj . ?statement1 <http://www.w3.org/1999/02/22-rdf-syntax-ns#predicate> <http://www.wikidata.org/entity/P31> . ?statement1 <http://www.w3.org/1999/02/22-rdf-syntax-ns#object> <http://wikidata.dbpedia.org/resource/Q205961>. ?sbj rdfs:label ?sbj_label . FILTER(STRSTARTS(lcase(?sbj_label), 's')) . FILTER (lang(?sbj_label) = 'en') } LIMIT 25\",\"template\":\" <?S P O ; ?S instanceOf Type ; starts with character >\",\"paraphrased_question\":\"What could be a aptitude that begins with the letter s.\"},\"truncated_cells\":[]},{\"row_idx\":25,\"row\":{\"NNQT_question\":\"How many {from fictional universe} are for {Captain America} ?\",\"uid\":1344,\"subgraph\":\"statement_property\",\"template_index\":344,\"question\":\"How many dimensions have a Captain America?\",\"sparql_wikidata\":\"SELECT (COUNT(?obj) AS ?value ) { wd:Q190679 wdt:P1080 ?obj }\",\"sparql_dbpedia18\":\"SELECT (COUNT(?obj) AS ?objs ) {\\n?statement <http://www.w3.org/1999/02/22-rdf-syntax-ns#subject> <http://wikidata.dbpedia.org/resource/Q190679> .\\n?statement <http://www.w3.org/1999/02/22-rdf-syntax-ns#predicate> <http://www.wikidata.org/entity/P1080> .\\n?statement <http://www.w3.org/1999/02/22-rdf-syntax-ns#object> ?obj .\\n} \\n\",\"template\":\"Count Obj (ent-pred-obj)\",\"paraphrased_question\":\"Give me the dimensions of Captain America\"},\"truncated_cells\":[]},{\"row_idx\":26,\"row\":{\"NNQT_question\":\"What is {award received} of {Danila Kozlovsky} that is {point in time} is {2017-0-0} ?\",\"uid\":8396,\"subgraph\":\"statement_property\",\"template_index\":4841,\"question\":\"What award did Danila Kozlovsky receive in 2017?\",\"sparql_wikidata\":\"SELECT ?obj WHERE { wd:Q3015088 p:P166 ?s . ?s ps:P166 ?obj . ?s pq:P585 ?x filter(contains(YEAR(?x),'2017')) }\",\"sparql_dbpedia18\":\"select distinct ?obj  where {\\n?statement <http://www.w3.org/1999/02/22-rdf-syntax-ns#subject> <http://wikidata.dbpedia.org/resource/Q3015088> .\\n?statement <http://www.w3.org/1999/02/22-rdf-syntax-ns#predicate> <http://www.wikidata.org/entity/P166> .\\n?statement <http://www.w3.org/1999/02/22-rdf-syntax-ns#object> ?obj .\\n?statement <http://www.wikidata.org/entity/P585> <2017-0-0>\\n} \\n\",\"template\":\"(E pred F) prop ?value\",\"paraphrased_question\":\"What award did Danila Kozlovsky get in 2017?\"},\"truncated_cells\":[]},{\"row_idx\":27,\"row\":{\"NNQT_question\":\"What is {students} of {coined} of {Euler–Lagrange equation} ?\",\"uid\":17797,\"subgraph\":\"right-subgraph\",\"template_index\":892,\"question\":\"Who is the student that coined the Euler-Lagrange equation?\",\"sparql_wikidata\":\"SELECT ?answer WHERE { wd:Q875744 wdt:P61 ?X . ?X wdt:P802 ?answer}\",\"sparql_dbpedia18\":\"SELECT ?answer WHERE { ?statement1 <http://www.w3.org/1999/02/22-rdf-syntax-ns#subject> <http://wikidata.dbpedia.org/resource/Q875744> . ?statement1 <http://www.w3.org/1999/02/22-rdf-syntax-ns#predicate> <http://www.wikidata.org/entity/P61>. ?statement1 <http://www.w3.org/1999/02/22-rdf-syntax-ns#object> ?X . ?statement2 <http://www.w3.org/1999/02/22-rdf-syntax-ns#subject> ?X. ?statement2 <http://www.w3.org/1999/02/22-rdf-syntax-ns#predicate> <http://www.wikidata.org/entity/P802> . ?statement2 <http://www.w3.org/1999/02/22-rdf-syntax-ns#object> ?answer . }\",\"template\":\"E REF xF . xF RFG ?G\",\"paraphrased_question\":\"Who is the understudy that coined the Euler-Lagrange equation?\"},\"truncated_cells\":[]},{\"row_idx\":28,\"row\":{\"NNQT_question\":\"Does the {minimal lethal dose} of the {benzene} {equals} {170000}\",\"uid\":18444,\"subgraph\":\"boolean with filter\",\"template_index\":462,\"question\":\"Is the minimal lethal dose of the benzene equal to 170000?\",\"sparql_wikidata\":\"ASK WHERE { wd:Q2270 wdt:P2300 ?obj filter(?obj = 170000) } \",\"sparql_dbpedia18\":\"ASK { ?statement1 <http://www.w3.org/1999/02/22-rdf-syntax-ns#subject> <http://wikidata.dbpedia.org/resource/Q2270> . ?statement1 <http://www.w3.org/1999/02/22-rdf-syntax-ns#predicate> <http://www.wikidata.org/entity/P2300>. ?statement1 <http://www.w3.org/1999/02/22-rdf-syntax-ns#object> ?obj. filter(?obj = 170000) }\",\"template\":\"ASK ?sbj ?pred ?obj filter ?obj = num\",\"paraphrased_question\":\"Is the negligible deadly dosage of the benzene rise to to 170000?\"},\"truncated_cells\":[]},{\"row_idx\":29,\"row\":{\"NNQT_question\":\"What is the {human} for {student of} of {Ivan Pavlov}\",\"uid\":20145,\"subgraph\":\"simple question right\",\"template_index\":491,\"question\":\"Who is the person that was a student of Ivan Pavlov?\",\"sparql_wikidata\":\" select distinct ?obj where { wd:Q42985 wdt:P1066 ?obj . ?obj wdt:P31 wd:Q5 } \",\"sparql_dbpedia18\":\"select distinct ?obj where { ?statement <http://www.w3.org/1999/02/22-rdf-syntax-ns#subject> <http://wikidata.dbpedia.org/resource/Q42985> . ?statement <http://www.w3.org/1999/02/22-rdf-syntax-ns#predicate> <http://www.wikidata.org/entity/P1066> . ?statement <http://www.w3.org/1999/02/22-rdf-syntax-ns#object> ?obj . ?obj <http://www.wikidata.org/entity/P31> <http://wikidata.dbpedia.org/resource/Q5> } \",\"template\":\" <S P ?O ; ?O instanceOf Type>\",\"paraphrased_question\":\"Who is the person Ivan Pavlov's student?\"},\"truncated_cells\":[]},{\"row_idx\":30,\"row\":{\"NNQT_question\":\"Does the {clock speed} of the {Watara Supervision} {less than} {3.2}\",\"uid\":18264,\"subgraph\":\"boolean with filter\",\"template_index\":282,\"question\":\"is the clock speed of the Watara Supervision smaller than 3.2?\",\"sparql_wikidata\":\"ASK WHERE { wd:Q732683 wdt:P2149 ?obj filter(?obj < 3.2) } \",\"sparql_dbpedia18\":\"ASK { ?statement1 <http://www.w3.org/1999/02/22-rdf-syntax-ns#subject> <http://wikidata.dbpedia.org/resource/Q732683> . ?statement1 <http://www.w3.org/1999/02/22-rdf-syntax-ns#predicate> <http://www.wikidata.org/entity/P2149>. ?statement1 <http://www.w3.org/1999/02/22-rdf-syntax-ns#object> ?obj. filter(?obj < 3.2) }\",\"template\":\"ASK ?sbj ?pred ?obj filter ?obj = num\",\"paraphrased_question\":\"is the clock speed of the Watara Supervision littler than 3.2?\"},\"truncated_cells\":[]},{\"row_idx\":31,\"row\":{\"NNQT_question\":\"What is the {sovereign state} for {diplomatic relation} of {African Union}\",\"uid\":19896,\"subgraph\":\"simple question right\",\"template_index\":242,\"question\":\"What country is the current leader of the African Union ?\",\"sparql_wikidata\":\" select distinct ?obj where { wd:Q7159 wdt:P530 ?obj . ?obj wdt:P31 wd:Q3624078 } \",\"sparql_dbpedia18\":\"select distinct ?obj where { ?statement <http://www.w3.org/1999/02/22-rdf-syntax-ns#subject> <http://wikidata.dbpedia.org/resource/Q7159> . ?statement <http://www.w3.org/1999/02/22-rdf-syntax-ns#predicate> <http://www.wikidata.org/entity/P530> . ?statement <http://www.w3.org/1999/02/22-rdf-syntax-ns#object> ?obj . ?obj <http://www.wikidata.org/entity/P31> <http://wikidata.dbpedia.org/resource/Q3624078> } \",\"template\":\" <S P ?O ; ?O instanceOf Type>\",\"paraphrased_question\":\"What country leads the African Union?\"},\"truncated_cells\":[]},{\"row_idx\":32,\"row\":{\"NNQT_question\":\"What is {works for} of {accused} of {Mariposa Folk Festival 1974} ?\",\"uid\":16037,\"subgraph\":\"left-subgraph\",\"template_index\":22,\"question\":\"Who works for the accused Mariposa Folk Festival 1974?\",\"sparql_wikidata\":\"SELECT ?answer WHERE { wd:Q54554872 wdt:P710 ?X . ?X wdt:P108 ?answer}\",\"sparql_dbpedia18\":\"SELECT ?answer WHERE { ?statement1 <http://www.w3.org/1999/02/22-rdf-syntax-ns#subject> <http://wikidata.dbpedia.org/resource/Q54554872> . ?statement1 <http://www.w3.org/1999/02/22-rdf-syntax-ns#predicate> <http://www.wikidata.org/entity/P710>. ?statement1 <http://www.w3.org/1999/02/22-rdf-syntax-ns#object> ?X . ?statement2 <http://www.w3.org/1999/02/22-rdf-syntax-ns#subject> ?X. ?statement2 <http://www.w3.org/1999/02/22-rdf-syntax-ns#predicate> <http://www.wikidata.org/entity/P108> . ?statement2 <http://www.w3.org/1999/02/22-rdf-syntax-ns#object> ?answer . }\",\"template\":\"C RCD xD . xD RDE ?E\",\"paraphrased_question\":\"The accused Mariposa Folk Festival in 1974 employed whom?\"},\"truncated_cells\":[]},{\"row_idx\":33,\"row\":{\"NNQT_question\":\"What is the {neighborhood} for {shares border with} of {Los Angeles}\",\"uid\":22651,\"subgraph\":\"simple question right\",\"template_index\":3712,\"question\":\"n/a\",\"sparql_wikidata\":\" select distinct ?obj where { wd:Q65 wdt:P47 ?obj . ?obj wdt:P31 wd:Q123705 } \",\"sparql_dbpedia18\":\"select distinct ?obj where { ?statement <http://www.w3.org/1999/02/22-rdf-syntax-ns#subject> <http://wikidata.dbpedia.org/resource/Q65> . ?statement <http://www.w3.org/1999/02/22-rdf-syntax-ns#predicate> <http://www.wikidata.org/entity/P47> . ?statement <http://www.w3.org/1999/02/22-rdf-syntax-ns#object> ?obj . ?obj <http://www.wikidata.org/entity/P31> <http://wikidata.dbpedia.org/resource/Q123705> } \",\"template\":\" <S P ?O ; ?O instanceOf Type>\",\"paraphrased_question\":\"N / A N / A\"},\"truncated_cells\":[]},{\"row_idx\":34,\"row\":{\"NNQT_question\":\"What is {sister city} of {born in} of {Zakhar Oskotsky} ?\",\"uid\":15426,\"subgraph\":\"left-subgraph\",\"template_index\":29905,\"question\":\"What sister city was born in of Zakhar Oskotsky?\",\"sparql_wikidata\":\"SELECT ?answer WHERE { wd:Q4338004 wdt:P19 ?X . ?X wdt:P190 ?answer}\",\"sparql_dbpedia18\":\"SELECT ?answer WHERE { ?statement1 <http://www.w3.org/1999/02/22-rdf-syntax-ns#subject> <http://wikidata.dbpedia.org/resource/Q4338004> . ?statement1 <http://www.w3.org/1999/02/22-rdf-syntax-ns#predicate> <http://www.wikidata.org/entity/P19>. ?statement1 <http://www.w3.org/1999/02/22-rdf-syntax-ns#object> ?X . ?statement2 <http://www.w3.org/1999/02/22-rdf-syntax-ns#subject> ?X. ?statement2 <http://www.w3.org/1999/02/22-rdf-syntax-ns#predicate> <http://www.wikidata.org/entity/P190> . ?statement2 <http://www.w3.org/1999/02/22-rdf-syntax-ns#object> ?answer . }\",\"template\":\"C RCD xD . xD RDE ?E\",\"paraphrased_question\":\"Which sister city in Zakhar Oskotsky was born?\"},\"truncated_cells\":[]},{\"row_idx\":35,\"row\":{\"NNQT_question\":\"Give me {fantastique genre} that starts with {'s'}\",\"uid\":24275,\"subgraph\":\"string matching simple contains word\",\"template_index\":1045,\"question\":\"Tell me the name of a fantastique genre that starts with the letter s.\",\"sparql_wikidata\":\"SELECT DISTINCT ?sbj ?sbj_label WHERE { ?sbj wdt:P31 wd:Q20076756 . ?sbj rdfs:label ?sbj_label . FILTER(STRSTARTS(lcase(?sbj_label), 's')) . FILTER (lang(?sbj_label) = 'en') } LIMIT 25 \",\"sparql_dbpedia18\":\"SELECT DISTINCT ?sbj ?sbj_label { ?statement1 <http://www.w3.org/1999/02/22-rdf-syntax-ns#subject> ?sbj . ?statement1 <http://www.w3.org/1999/02/22-rdf-syntax-ns#predicate> <http://www.wikidata.org/entity/P31> . ?statement1 <http://www.w3.org/1999/02/22-rdf-syntax-ns#object> <http://wikidata.dbpedia.org/resource/Q20076756>. ?sbj rdfs:label ?sbj_label . FILTER(STRSTARTS(lcase(?sbj_label), 's')) . FILTER (lang(?sbj_label) = 'en') } LIMIT 25\",\"template\":\" <?S P O ; ?S instanceOf Type ; starts with character >\",\"paraphrased_question\":\"Let me know the title of a fantastique sort that begins with the letter s.\"},\"truncated_cells\":[]},{\"row_idx\":36,\"row\":{\"NNQT_question\":\"What is {musical score by} of {Missa Solemnis}, that has {has mother} is {Maria Magdalena van Beethoven} ?\",\"uid\":12032,\"subgraph\":\"right-subgraph\",\"template_index\":178,\"question\":\"What is the musical score by Missa Solemnis that has mother Maria Magdalena van Beethoven?\",\"sparql_wikidata\":\"SELECT ?answer WHERE { wd:Q723790 wdt:P86 ?answer . ?answer wdt:P25 wd:Q14507972}\",\"sparql_dbpedia18\":\"SELECT ?answer WHERE { ?statement1 <http://www.w3.org/1999/02/22-rdf-syntax-ns#subject> <http://wikidata.dbpedia.org/resource/Q723790> . ?statement1 <http://www.w3.org/1999/02/22-rdf-syntax-ns#predicate> <http://www.wikidata.org/entity/P86>. ?statement1 <http://www.w3.org/1999/02/22-rdf-syntax-ns#object> ?answer . ?statement2 <http://www.w3.org/1999/02/22-rdf-syntax-ns#subject> ?answer. ?statement2 <http://www.w3.org/1999/02/22-rdf-syntax-ns#predicate> <http://www.wikidata.org/entity/P25> . ?statement2 <http://www.w3.org/1999/02/22-rdf-syntax-ns#object> <http://wikidata.dbpedia.org/resource/Q14507972> . }\",\"template\":\"E REF ?F . ?F RFG G\",\"paraphrased_question\":\"What is the musical rating by means of Missa Solemnis that has mother Maria Magdalena van Beethoven?\"},\"truncated_cells\":[]},{\"row_idx\":37,\"row\":{\"NNQT_question\":\"what is the {point in time} for {Robert De Niro} has {residence} as {Marbletown} ?\",\"uid\":6819,\"subgraph\":\"statement_property\",\"template_index\":3264,\"question\":\"When did Robert De Niro reside in Marbletown?\",\"sparql_wikidata\":\"SELECT ?value WHERE { wd:Q36949 p:P551 ?s . ?s ps:P551 wd:Q3708911 . ?s pq:P585 ?value}\",\"sparql_dbpedia18\":\"select distinct ?value  where {\\n?statement <http://www.w3.org/1999/02/22-rdf-syntax-ns#subject> <http://wikidata.dbpedia.org/resource/Q36949> .\\n?statement <http://www.w3.org/1999/02/22-rdf-syntax-ns#predicate> <http://www.wikidata.org/entity/P551> .\\n?statement <http://www.w3.org/1999/02/22-rdf-syntax-ns#object> <http://wikidata.dbpedia.org/resource/Q3708911> .\\n?statement <http://www.wikidata.org/entity/P585> ?value. \\n} \\n\",\"template\":\"(E pred ?Obj ) prop value\",\"paraphrased_question\":\"When did Robert De Nirolive in Marbletown?\"},\"truncated_cells\":[]},{\"row_idx\":38,\"row\":{\"NNQT_question\":\"Give me {organization} that contains the word {zollkriminalamt} in their name\",\"uid\":23339,\"subgraph\":\"string matching simple contains word\",\"template_index\":2519,\"question\":\"Tell me organization whose name has the word  zollkriminalamt  in it.\",\"sparql_wikidata\":\"SELECT DISTINCT ?sbj ?sbj_label WHERE { ?sbj wdt:P31 wd:Q43229 . ?sbj rdfs:label ?sbj_label . FILTER(CONTAINS(lcase(?sbj_label), 'zollkriminalamt')) . FILTER (lang(?sbj_label) = 'en') } LIMIT 25 \",\"sparql_dbpedia18\":\"SELECT DISTINCT ?sbj ?sbj_label { ?statement1 <http://www.w3.org/1999/02/22-rdf-syntax-ns#subject> ?sbj . ?statement1 <http://www.w3.org/1999/02/22-rdf-syntax-ns#predicate> <http://www.wikidata.org/entity/P31> . ?statement1 <http://www.w3.org/1999/02/22-rdf-syntax-ns#object> <http://wikidata.dbpedia.org/resource/Q43229>. ?sbj rdfs:label ?sbj_label . FILTER(CONTAINS(lcase(?sbj_label), 'zollkriminalamt')) . FILTER (lang(?sbj_label) = 'en') } LIMIT 25\",\"template\":\" <?S P O ; ?S instanceOf Type ; contains word >\",\"paraphrased_question\":\"Let me know organization whose title has the word zollkriminalamt in it.\"},\"truncated_cells\":[]},{\"row_idx\":39,\"row\":{\"NNQT_question\":\"What is the {state} with the {MAX(inflation rate)} whose {member of} is {International Centre for Settlement of Investment Disputes}  ?\",\"uid\":3127,\"subgraph\":\"rank\",\"template_index\":326,\"question\":\"Which member state of the International Centre for Settlement of Investment Disputes has the maximum inflation rate?\",\"sparql_wikidata\":\"select ?ent where { ?ent wdt:P31 wd:Q7275 . ?ent wdt:P1279 ?obj . ?ent wdt:P463 wd:Q899770 } ORDER BY DESC(?obj)LIMIT 5 \",\"sparql_dbpedia18\":\"select ?ent where {\\n?ent <http://www.wikidata.org/entity/P31> <http://wikidata.dbpedia.org/resource/Q7275>.\\n\\n?statement1 <http://www.w3.org/1999/02/22-rdf-syntax-ns#subject> ?ent .\\n?statement1 <http://www.w3.org/1999/02/22-rdf-syntax-ns#predicate> <http://www.wikidata.org/entity/P1279>.\\n?statement1 <http://www.w3.org/1999/02/22-rdf-syntax-ns#object> ?obj1.\\n\\n?statement2 <http://www.w3.org/1999/02/22-rdf-syntax-ns#subject> ?ent .\\n?statement2 <http://www.w3.org/1999/02/22-rdf-syntax-ns#predicate> <http://www.wikidata.org/entity/P463> .\\n?statement2 <http://www.w3.org/1999/02/22-rdf-syntax-ns#object> <http://wikidata.dbpedia.org/resource/Q899770> .\\n\\n}\\nORDER BY DESC(?obj1)\\nLIMIT 5\",\"template\":\"?E is_a Type. ?E pred Obj. ?E-secondClause value. MAX (value)\",\"paraphrased_question\":\"Which country in the International Centre for Settlement of Investment Disputes has the highest inflation rate?\"},\"truncated_cells\":[]},{\"row_idx\":40,\"row\":{\"NNQT_question\":\"Did {Brittany_Murphy} {country of citizenship} {United States of America}?\",\"uid\":454,\"subgraph\":\"boolean one_hop right subgraph\",\"template_index\":454,\"question\":\"Was Brittany Murphy a citizen of the USA?\",\"sparql_wikidata\":\"ASK WHERE { wd:Q168847 wdt:P27 wd:Q30 }\",\"sparql_dbpedia18\":\" ASK { ?statement1 <http://www.w3.org/1999/02/22-rdf-syntax-ns#subject> <http://wikidata.dbpedia.org/resource/Q168847> . ?statement1 <http://www.w3.org/1999/02/22-rdf-syntax-ns#predicate> <http://www.wikidata.org/entity/P27> . ?statement1 <http://www.w3.org/1999/02/22-rdf-syntax-ns#object> <http://wikidata.dbpedia.org/resource/Q30>. } \",\"template\":\"Ask (ent-pred-obj)\",\"paraphrased_question\":\"Did Brittany Murphy have USA citizenship?\"},\"truncated_cells\":[]},{\"row_idx\":41,\"row\":{\"NNQT_question\":\"What is the {partner} and the {spouse} of {Hank_Azaria} ?\",\"uid\":9839,\"subgraph\":\"two intentions right subgraph\",\"template_index\":179,\"question\":\"Who is the partner and the spouse of Hank Azaria?\",\"sparql_wikidata\":\"SELECT ?ans_1 ?ans_2 WHERE { wd:Q202056 wdt:P451 ?ans_1 . wd:Q202056 wdt:P26 ?ans_2 }\",\"sparql_dbpedia18\":\" SELECT ?ans_1 ?ans_2 WHERE { ?statement1 <http://www.w3.org/1999/02/22-rdf-syntax-ns#subject> <http://wikidata.dbpedia.org/resource/Q202056> . ?statement1 <http://www.w3.org/1999/02/22-rdf-syntax-ns#predicate> <http://www.wikidata.org/entity/P451> . ?statement1 <http://www.w3.org/1999/02/22-rdf-syntax-ns#object> ?ans_1. ?statement2 <http://www.w3.org/1999/02/22-rdf-syntax-ns#subject> <http://wikidata.dbpedia.org/resource/Q202056> . ?statement2 <http://www.w3.org/1999/02/22-rdf-syntax-ns#predicate> <http://www.wikidata.org/entity/P26> . ?statement2 <http://www.w3.org/1999/02/22-rdf-syntax-ns#object> ?ans_2. } \",\"template\":\"select where (ent-pred-obj1 . ent-pred-obj2)\",\"paraphrased_question\":\"Who is Hank Azaria married to ?\"},\"truncated_cells\":[]},{\"row_idx\":42,\"row\":{\"NNQT_question\":\"Does the {maximum age} of the {St Peter's Junior School} {equals} {11}\",\"uid\":18487,\"subgraph\":\"boolean with filter\",\"template_index\":505,\"question\":\"Does St. Peters Junior School maximum age equal to 11?\",\"sparql_wikidata\":\"ASK WHERE { wd:Q60298462 wdt:P4135 ?obj filter(?obj = 11) } \",\"sparql_dbpedia18\":\"ASK { ?statement1 <http://www.w3.org/1999/02/22-rdf-syntax-ns#subject> <http://wikidata.dbpedia.org/resource/Q60298462> . ?statement1 <http://www.w3.org/1999/02/22-rdf-syntax-ns#predicate> <http://www.wikidata.org/entity/P4135>. ?statement1 <http://www.w3.org/1999/02/22-rdf-syntax-ns#object> ?obj. filter(?obj = 11) }\",\"template\":\"ASK ?sbj ?pred ?obj filter ?obj = num\",\"paraphrased_question\":\"Is 11 the maximum age of St. Peters Junior School?\"},\"truncated_cells\":[]},{\"row_idx\":43,\"row\":{\"NNQT_question\":\"What is the {country} with the {MAX(individual tax rate)} ?\",\"uid\":2794,\"subgraph\":\"rank\",\"template_index\":370,\"question\":\"Which country has highest individual tax rate?\",\"sparql_wikidata\":\"select ?ent where { ?ent wdt:P31 wd:Q6256 . ?ent wdt:P2834 ?obj } ORDER BY DESC(?obj)LIMIT 5 \",\"sparql_dbpedia18\":\"select ?ent where {\\n?ent <http://www.wikidata.org/entity/P31> <http://wikidata.dbpedia.org/resource/Q6256>.\\n?statement <http://www.w3.org/1999/02/22-rdf-syntax-ns#subject> ?ent .\\n?statement <http://www.w3.org/1999/02/22-rdf-syntax-ns#predicate> <http://www.wikidata.org/entity/P2834>.\\n?statement <http://www.w3.org/1999/02/22-rdf-syntax-ns#object> ?obj .}\\nORDER BY DESC(?obj)\\nLIMIT 5\",\"template\":\"?E is_a Type, ?E pred Obj  value. MAX/MIN (value)\",\"paraphrased_question\":\"What country has the highest taxes?\"},\"truncated_cells\":[]},{\"row_idx\":44,\"row\":{\"NNQT_question\":\"what is the {point in time} for {James Thomas Farrell} has {award received} as {St. Louis Literary Award} ?\",\"uid\":7744,\"subgraph\":\"statement_property\",\"template_index\":4189,\"question\":\"When did James Thomas Farrell receive the St. Louis Literary Award?\",\"sparql_wikidata\":\"SELECT ?value WHERE { wd:Q1371154 p:P166 ?s . ?s ps:P166 wd:Q7589655 . ?s pq:P585 ?value}\",\"sparql_dbpedia18\":\"select distinct ?value  where {\\n?statement <http://www.w3.org/1999/02/22-rdf-syntax-ns#subject> <http://wikidata.dbpedia.org/resource/Q1371154> .\\n?statement <http://www.w3.org/1999/02/22-rdf-syntax-ns#predicate> <http://www.wikidata.org/entity/P166> .\\n?statement <http://www.w3.org/1999/02/22-rdf-syntax-ns#object> <http://wikidata.dbpedia.org/resource/Q7589655> .\\n?statement <http://www.wikidata.org/entity/P585> ?value. \\n} \\n\",\"template\":\"(E pred ?Obj ) prop value\",\"paraphrased_question\":\"What was the date that The St. Louis Literary Award was aquired by James Thomas Farrell.\"},\"truncated_cells\":[]},{\"row_idx\":45,\"row\":{\"NNQT_question\":\"what is the {end time} for {Pablo Picasso} has {partner} as {Fernande Olivier} ?\",\"uid\":5715,\"subgraph\":\"statement_property\",\"template_index\":2160,\"question\":\"When was Pablo Picasso's partnership with Fernade Oliver over?\",\"sparql_wikidata\":\"SELECT ?value WHERE { wd:Q5593 p:P451 ?s . ?s ps:P451 wd:Q453775 . ?s pq:P582 ?value}\",\"sparql_dbpedia18\":\"select distinct ?value  where {\\n?statement <http://www.w3.org/1999/02/22-rdf-syntax-ns#subject> <http://wikidata.dbpedia.org/resource/Q5593> .\\n?statement <http://www.w3.org/1999/02/22-rdf-syntax-ns#predicate> <http://www.wikidata.org/entity/P451> .\\n?statement <http://www.w3.org/1999/02/22-rdf-syntax-ns#object> <http://wikidata.dbpedia.org/resource/Q453775> .\\n?statement <http://www.wikidata.org/entity/P582> ?value. \\n} \\n\",\"template\":\"(E pred ?Obj ) prop value\",\"paraphrased_question\":\"On what date did Pablo Picasso end his partnership with Fernade Oliver?\"},\"truncated_cells\":[]},{\"row_idx\":46,\"row\":{\"NNQT_question\":\"What is the {product} with the {MIN(consumption rate per capita)} whose {has part} is {paraffin wax}  ?\",\"uid\":3261,\"subgraph\":\"rank\",\"template_index\":483,\"question\":\"What is the product with the lowest consumption rate per capita whose has part is paraffin wax?\",\"sparql_wikidata\":\"select ?ent where { ?ent wdt:P31 wd:Q2424752 . ?ent wdt:P2662 ?obj . ?ent wdt:P527 wd:Q177540. } ORDER BY ASC(?obj)LIMIT 5 \",\"sparql_dbpedia18\":\"select ?ent where {\\n?ent <http://www.wikidata.org/entity/P31> <http://wikidata.dbpedia.org/resource/Q2424752>.\\n\\n?statement1 <http://www.w3.org/1999/02/22-rdf-syntax-ns#subject> ?ent .\\n?statement1 <http://www.w3.org/1999/02/22-rdf-syntax-ns#predicate> <http://www.wikidata.org/entity/P2662>.\\n?statement1 <http://www.w3.org/1999/02/22-rdf-syntax-ns#object> ?obj1.\\n\\n?statement2 <http://www.w3.org/1999/02/22-rdf-syntax-ns#subject> ?ent .\\n?statement2 <http://www.w3.org/1999/02/22-rdf-syntax-ns#predicate> <http://www.wikidata.org/entity/P527> .\\n?statement2 <http://www.w3.org/1999/02/22-rdf-syntax-ns#object> <http://wikidata.dbpedia.org/resource/Q177540> .\\n\\n}\\nORDER BY ASC(?obj1)\\nLIMIT 5\",\"template\":\"?E is_a Type. ?E pred Obj. ?E-secondClause value. MIN (value)\",\"paraphrased_question\":\"What product that contains paraffin wax has the lowest usage per capita?\"},\"truncated_cells\":[]},{\"row_idx\":47,\"row\":{\"NNQT_question\":\"What is {coordinates of geographic center} of {Michigan} that is {determination method} is {center of gravity of the surface} ?\",\"uid\":7385,\"subgraph\":\"statement_property\",\"template_index\":3830,\"question\":\"What are the coordinates for the geographic center of Michigan, as determined by the center of gravity of the surface?\",\"sparql_wikidata\":\"SELECT ?obj WHERE { wd:Q1166 p:P5140 ?s . ?s ps:P5140 ?obj . ?s pq:P459 wd:Q53329492 }\",\"sparql_dbpedia18\":\"select distinct ?obj  where {\\n?statement <http://www.w3.org/1999/02/22-rdf-syntax-ns#subject> <http://wikidata.dbpedia.org/resource/Q1166> .\\n?statement <http://www.w3.org/1999/02/22-rdf-syntax-ns#predicate> <http://www.wikidata.org/entity/P5140> .\\n?statement <http://www.w3.org/1999/02/22-rdf-syntax-ns#object> ?obj .\\n?statement <http://www.wikidata.org/entity/P459> <http://wikidata.dbpedia.org/resource/Q53329492>\\n} \\n\",\"template\":\"(E pred F) prop ?value\",\"paraphrased_question\":\"Where is the geographic center of Michigan using the gravity center of the surface?\"},\"truncated_cells\":[]},{\"row_idx\":48,\"row\":{\"NNQT_question\":\"Does the {life expectancy} of the {Indonesia} {equals} {55.3528}\",\"uid\":19004,\"subgraph\":\"boolean with filter\",\"template_index\":1022,\"question\":\"Is the life expectancy of Indonesia 55.3528?\",\"sparql_wikidata\":\"ASK WHERE { wd:Q252 wdt:P2250 ?obj filter(?obj = 55.3528) } \",\"sparql_dbpedia18\":\"ASK { ?statement1 <http://www.w3.org/1999/02/22-rdf-syntax-ns#subject> <http://wikidata.dbpedia.org/resource/Q252> . ?statement1 <http://www.w3.org/1999/02/22-rdf-syntax-ns#predicate> <http://www.wikidata.org/entity/P2250>. ?statement1 <http://www.w3.org/1999/02/22-rdf-syntax-ns#object> ?obj. filter(?obj = 55.3528) }\",\"template\":\"ASK ?sbj ?pred ?obj filter ?obj = num\",\"paraphrased_question\":\"In Indonesia, is the average life expectancy 55.3528?\"},\"truncated_cells\":[]},{\"row_idx\":49,\"row\":{\"NNQT_question\":\"what is the {start time} for {Emmerson Mnangagwa} has {educated at} as {University of Zambia} ?\",\"uid\":5527,\"subgraph\":\"statement_property\",\"template_index\":1972,\"question\":\"When did Emmerson Mnangagwa begin going to the University of Zambia?\",\"sparql_wikidata\":\"SELECT ?value WHERE { wd:Q510523 p:P69 ?s . ?s ps:P69 wd:Q2096836 . ?s pq:P580 ?value}\",\"sparql_dbpedia18\":\"select distinct ?value  where {\\n?statement <http://www.w3.org/1999/02/22-rdf-syntax-ns#subject> <http://wikidata.dbpedia.org/resource/Q510523> .\\n?statement <http://www.w3.org/1999/02/22-rdf-syntax-ns#predicate> <http://www.wikidata.org/entity/P69> .\\n?statement <http://www.w3.org/1999/02/22-rdf-syntax-ns#object> <http://wikidata.dbpedia.org/resource/Q2096836> .\\n?statement <http://www.wikidata.org/entity/P580> ?value. \\n} \\n\",\"template\":\"(E pred ?Obj ) prop value\",\"paraphrased_question\":\"What year did Emmerson Mnangagwa start at the University of Zambia?\"},\"truncated_cells\":[]},{\"row_idx\":50,\"row\":{\"NNQT_question\":\"What is {career} of {Grigori Kozintsev}, that has {field of this career} is {screenwriting} ?\",\"uid\":13957,\"subgraph\":\"right-subgraph\",\"template_index\":1422,\"question\":\"What kind of career does Grigori Kozintsev have in the screenwriting field?\",\"sparql_wikidata\":\"SELECT ?answer WHERE { wd:Q553072 wdt:P106 ?answer . ?answer wdt:P425 wd:Q3429919}\",\"sparql_dbpedia18\":\"SELECT ?answer WHERE { ?statement1 <http://www.w3.org/1999/02/22-rdf-syntax-ns#subject> <http://wikidata.dbpedia.org/resource/Q553072> . ?statement1 <http://www.w3.org/1999/02/22-rdf-syntax-ns#predicate> <http://www.wikidata.org/entity/P106>. ?statement1 <http://www.w3.org/1999/02/22-rdf-syntax-ns#object> ?answer . ?statement2 <http://www.w3.org/1999/02/22-rdf-syntax-ns#subject> ?answer. ?statement2 <http://www.w3.org/1999/02/22-rdf-syntax-ns#predicate> <http://www.wikidata.org/entity/P425> . ?statement2 <http://www.w3.org/1999/02/22-rdf-syntax-ns#object> <http://wikidata.dbpedia.org/resource/Q3429919> . }\",\"template\":\"E REF ?F . ?F RFG G\",\"paraphrased_question\":\"What kind of career in the screenwriting field does Grigori Kozintsev have?\"},\"truncated_cells\":[]},{\"row_idx\":51,\"row\":{\"NNQT_question\":\"What is {habitat} of {found in species} of {hypothetical protein ECIAI39_4120} ?\",\"uid\":16243,\"subgraph\":\"left-subgraph\",\"template_index\":32125,\"question\":\"what is hypothetical protein ecia139-4120 habitat of found in species?\",\"sparql_wikidata\":\"SELECT ?answer WHERE { wd:Q22226273 wdt:P703 ?X . ?X wdt:P2974 ?answer}\",\"sparql_dbpedia18\":\"SELECT ?answer WHERE { ?statement1 <http://www.w3.org/1999/02/22-rdf-syntax-ns#subject> <http://wikidata.dbpedia.org/resource/Q22226273> . ?statement1 <http://www.w3.org/1999/02/22-rdf-syntax-ns#predicate> <http://www.wikidata.org/entity/P703>. ?statement1 <http://www.w3.org/1999/02/22-rdf-syntax-ns#object> ?X . ?statement2 <http://www.w3.org/1999/02/22-rdf-syntax-ns#subject> ?X. ?statement2 <http://www.w3.org/1999/02/22-rdf-syntax-ns#predicate> <http://www.wikidata.org/entity/P2974> . ?statement2 <http://www.w3.org/1999/02/22-rdf-syntax-ns#object> ?answer . }\",\"template\":\"C RCD xD . xD RDE ?E\",\"paraphrased_question\":\"Which species is the ecia139-4120 protein found in?\"},\"truncated_cells\":[]},{\"row_idx\":52,\"row\":{\"NNQT_question\":\"What is the {sovereign state} for {replaces} of {Kingdom of Great Britain}\",\"uid\":22332,\"subgraph\":\"simple question left\",\"template_index\":3393,\"question\":\"What sovereign state replaced the Kingdom of Great Britain?\",\"sparql_wikidata\":\" select distinct ?sbj where { ?sbj wdt:P1365 wd:Q161885 . ?sbj wdt:P31 wd:Q3624078 } \",\"sparql_dbpedia18\":\"select distinct ?subj where { ?statement <http://www.w3.org/1999/02/22-rdf-syntax-ns#subject> ?subj . ?statement <http://www.w3.org/1999/02/22-rdf-syntax-ns#predicate> <http://www.wikidata.org/entity/P1365> . ?statement <http://www.w3.org/1999/02/22-rdf-syntax-ns#object> <http://wikidata.dbpedia.org/resource/Q161885> . ?subj <http://www.wikidata.org/entity/P31> <http://wikidata.dbpedia.org/resource/Q3624078> } \",\"template\":\"<?S P O ; ?S InstanceOf Type>\",\"paraphrased_question\":\"What majestic state supplanted the Kingdom of Incredible Britain?\"},\"truncated_cells\":[]},{\"row_idx\":53,\"row\":{\"NNQT_question\":\"Does the {century breaks} of the {Colm Gilcreest} {less than} {9.6}\",\"uid\":18673,\"subgraph\":\"boolean with filter\",\"template_index\":691,\"question\":\"Of the century breaks of the Colm Gilcreest equal less than 9.6?\",\"sparql_wikidata\":\"ASK WHERE { wd:Q671965 wdt:P4912 ?obj filter(?obj < 9.6) } \",\"sparql_dbpedia18\":\"ASK { ?statement1 <http://www.w3.org/1999/02/22-rdf-syntax-ns#subject> <http://wikidata.dbpedia.org/resource/Q671965> . ?statement1 <http://www.w3.org/1999/02/22-rdf-syntax-ns#predicate> <http://www.wikidata.org/entity/P4912>. ?statement1 <http://www.w3.org/1999/02/22-rdf-syntax-ns#object> ?obj. filter(?obj < 9.6) }\",\"template\":\"ASK ?sbj ?pred ?obj filter ?obj = num\",\"paraphrased_question\":\"Of the century breaks of the Colm Gilcreest rise to less than 9.6?\"},\"truncated_cells\":[]},{\"row_idx\":54,\"row\":{\"NNQT_question\":\"What is the {historical country} for {country} of {Golden Horde}\",\"uid\":20887,\"subgraph\":\"simple question right\",\"template_index\":1233,\"question\":\"In which country the Golden Horde used to live ?\",\"sparql_wikidata\":\" select distinct ?obj where { wd:Q79965 wdt:P17 ?obj . ?obj wdt:P31 wd:Q3024240 } \",\"sparql_dbpedia18\":\"select distinct ?obj where { ?statement <http://www.w3.org/1999/02/22-rdf-syntax-ns#subject> <http://wikidata.dbpedia.org/resource/Q79965> . ?statement <http://www.w3.org/1999/02/22-rdf-syntax-ns#predicate> <http://www.wikidata.org/entity/P17> . ?statement <http://www.w3.org/1999/02/22-rdf-syntax-ns#object> ?obj . ?obj <http://www.wikidata.org/entity/P31> <http://wikidata.dbpedia.org/resource/Q3024240> } \",\"template\":\" <S P ?O ; ?O instanceOf Type>\",\"paraphrased_question\":\"Where did the Golden Horde live in?\"},\"truncated_cells\":[]},{\"row_idx\":55,\"row\":{\"NNQT_question\":\"What is {county seat} of {Central District}, that has {twin cities} is {Feodosiya} ?\",\"uid\":12163,\"subgraph\":\"right-subgraph\",\"template_index\":2775,\"question\":\"Located in the Central District, what is the county seat whose twin cities include Feodosiya?\",\"sparql_wikidata\":\"SELECT ?answer WHERE { wd:Q188785 wdt:P36 ?answer . ?answer wdt:P190 wd:Q158491}\",\"sparql_dbpedia18\":\"SELECT ?answer WHERE { ?statement1 <http://www.w3.org/1999/02/22-rdf-syntax-ns#subject> <http://wikidata.dbpedia.org/resource/Q188785> . ?statement1 <http://www.w3.org/1999/02/22-rdf-syntax-ns#predicate> <http://www.wikidata.org/entity/P36>. ?statement1 <http://www.w3.org/1999/02/22-rdf-syntax-ns#object> ?answer . ?statement2 <http://www.w3.org/1999/02/22-rdf-syntax-ns#subject> ?answer. ?statement2 <http://www.w3.org/1999/02/22-rdf-syntax-ns#predicate> <http://www.wikidata.org/entity/P190> . ?statement2 <http://www.w3.org/1999/02/22-rdf-syntax-ns#object> <http://wikidata.dbpedia.org/resource/Q158491> . }\",\"template\":\"E REF ?F . ?F RFG G\",\"paraphrased_question\":\"Located in the Central District, what is the county seat whose twin cities include Feodosiya?\"},\"truncated_cells\":[]},{\"row_idx\":56,\"row\":{\"NNQT_question\":\"what is the {point in time} for {Nicaragua} has {population} as {3.87732e+06} ?\",\"uid\":8338,\"subgraph\":\"statement_property\",\"template_index\":4783,\"question\":\"When did Nicaragua count a population of 3.87732e+06 inhabitants?\",\"sparql_wikidata\":\"SELECT ?value WHERE { wd:Q811 p:P1082 ?s . ?s ps:P1082 ?x filter(contains(?x,'3.87732e+06')) . ?s pq:P585 ?value}\",\"sparql_dbpedia18\":\"select distinct ?value  where {\\n?statement <http://www.w3.org/1999/02/22-rdf-syntax-ns#subject> <http://wikidata.dbpedia.org/resource/Q811> .\\n?statement <http://www.w3.org/1999/02/22-rdf-syntax-ns#predicate> <http://www.wikidata.org/entity/P1082> .\\n?statement <http://www.w3.org/1999/02/22-rdf-syntax-ns#object> <3.87732e+06> .\\n?statement <http://www.wikidata.org/entity/P585> ?value. \\n} \\n\",\"template\":\"(E pred ?Obj ) prop value\",\"paraphrased_question\":\"In what year was Nicaragua's population 3.87732 million?\"},\"truncated_cells\":[]},{\"row_idx\":57,\"row\":{\"NNQT_question\":\"What is the {meta-organization} for {regulated by} of {association football}\",\"uid\":20025,\"subgraph\":\"simple question right\",\"template_index\":371,\"question\":\"Which is the meta-organization that is regulated by the football association?\",\"sparql_wikidata\":\" select distinct ?obj where { wd:Q2736 wdt:P3719 ?obj . ?obj wdt:P31 wd:Q37178026 } \",\"sparql_dbpedia18\":\"select distinct ?obj where { ?statement <http://www.w3.org/1999/02/22-rdf-syntax-ns#subject> <http://wikidata.dbpedia.org/resource/Q2736> . ?statement <http://www.w3.org/1999/02/22-rdf-syntax-ns#predicate> <http://www.wikidata.org/entity/P3719> . ?statement <http://www.w3.org/1999/02/22-rdf-syntax-ns#object> ?obj . ?obj <http://www.wikidata.org/entity/P31> <http://wikidata.dbpedia.org/resource/Q37178026> } \",\"template\":\" <S P ?O ; ?O instanceOf Type>\",\"paraphrased_question\":\"The football association regulates what organization?\"},\"truncated_cells\":[]},{\"row_idx\":58,\"row\":{\"NNQT_question\":\"What is {spouse} of {Nero} that is {end time} is {68-6-9} ?\",\"uid\":3760,\"subgraph\":\"statement_property\",\"template_index\":205,\"question\":\"When was the spouse divorced Nero in 9-6-68\",\"sparql_wikidata\":\"SELECT ?obj WHERE { wd:Q1413 p:P26 ?s . ?s ps:P26 ?obj . ?s pq:P582 ?x filter(contains(?x,'68-6-9')) }\",\"sparql_dbpedia18\":\"select distinct ?obj  where {\\n?statement <http://www.w3.org/1999/02/22-rdf-syntax-ns#subject> <http://wikidata.dbpedia.org/resource/Q1413> .\\n?statement <http://www.w3.org/1999/02/22-rdf-syntax-ns#predicate> <http://www.wikidata.org/entity/P26> .\\n?statement <http://www.w3.org/1999/02/22-rdf-syntax-ns#object> ?obj .\\n?statement <http://www.wikidata.org/entity/P582> <68-6-9>\\n} \\n\",\"template\":\"(E pred F) prop ?value\",\"paraphrased_question\":\"When was the companion separated Nero in 9-6-68?\"},\"truncated_cells\":[]},{\"row_idx\":59,\"row\":{\"NNQT_question\":\"What is the {written work} for {has edition} of {Septuagint}\",\"uid\":21736,\"subgraph\":\"simple question left\",\"template_index\":2082,\"question\":\"n/a\",\"sparql_wikidata\":\" select distinct ?sbj where { ?sbj wdt:P747 wd:Q29334 . ?sbj wdt:P31 wd:Q47461344 } \",\"sparql_dbpedia18\":\"select distinct ?subj where { ?statement <http://www.w3.org/1999/02/22-rdf-syntax-ns#subject> ?subj . ?statement <http://www.w3.org/1999/02/22-rdf-syntax-ns#predicate> <http://www.wikidata.org/entity/P747> . ?statement <http://www.w3.org/1999/02/22-rdf-syntax-ns#object> <http://wikidata.dbpedia.org/resource/Q29334> . ?subj <http://www.wikidata.org/entity/P31> <http://wikidata.dbpedia.org/resource/Q47461344> } \",\"template\":\"<?S P O ; ?S InstanceOf Type>\",\"paraphrased_question\":\"Not applicable\"},\"truncated_cells\":[]},{\"row_idx\":60,\"row\":{\"NNQT_question\":\"What is {award} of {Art Spiegelman}, that has {champ} is {Francisco X. Alarcón} ?\",\"uid\":11886,\"subgraph\":\"right-subgraph\",\"template_index\":5515,\"question\":\"Former champion Francisco Alarcon gave what award to Art Spiegelaman?\",\"sparql_wikidata\":\"SELECT ?answer WHERE { wd:Q325945 wdt:P166 ?answer . ?answer wdt:P1346 wd:Q5484051}\",\"sparql_dbpedia18\":\"SELECT ?answer WHERE { ?statement1 <http://www.w3.org/1999/02/22-rdf-syntax-ns#subject> <http://wikidata.dbpedia.org/resource/Q325945> . ?statement1 <http://www.w3.org/1999/02/22-rdf-syntax-ns#predicate> <http://www.wikidata.org/entity/P166>. ?statement1 <http://www.w3.org/1999/02/22-rdf-syntax-ns#object> ?answer . ?statement2 <http://www.w3.org/1999/02/22-rdf-syntax-ns#subject> ?answer. ?statement2 <http://www.w3.org/1999/02/22-rdf-syntax-ns#predicate> <http://www.wikidata.org/entity/P1346> . ?statement2 <http://www.w3.org/1999/02/22-rdf-syntax-ns#object> <http://wikidata.dbpedia.org/resource/Q5484051> . }\",\"template\":\"E REF ?F . ?F RFG G\",\"paraphrased_question\":\"Former champion Francisco Alarcon gave what award to Art Spiegelaman?\"},\"truncated_cells\":[]},{\"row_idx\":61,\"row\":{\"NNQT_question\":\"Does the {number of survivors} of the {Charkhi Dadri mid-air collision} {equals} {0}\",\"uid\":19179,\"subgraph\":\"boolean with filter\",\"template_index\":1197,\"question\":\"Are there more than 0 survivors of the Charkhi Dadri mid-air collision\",\"sparql_wikidata\":\"ASK WHERE { wd:Q118373 wdt:P1561 ?obj filter(?obj = 0) } \",\"sparql_dbpedia18\":\"ASK { ?statement1 <http://www.w3.org/1999/02/22-rdf-syntax-ns#subject> <http://wikidata.dbpedia.org/resource/Q118373> . ?statement1 <http://www.w3.org/1999/02/22-rdf-syntax-ns#predicate> <http://www.wikidata.org/entity/P1561>. ?statement1 <http://www.w3.org/1999/02/22-rdf-syntax-ns#object> ?obj. filter(?obj = 0) }\",\"template\":\"ASK ?sbj ?pred ?obj filter ?obj = num\",\"paraphrased_question\":\"Are there more than survivors of the Charkhi Dadri mid-air collision\"},\"truncated_cells\":[]},{\"row_idx\":62,\"row\":{\"NNQT_question\":\"what is the {point in time} for {Secretariat} has {award received} as {Triple Crown Trophy} ?\",\"uid\":5075,\"subgraph\":\"statement_property\",\"template_index\":1520,\"question\":\"When did Secretariat receive the Triple Crown Trophy?\",\"sparql_wikidata\":\"SELECT ?value WHERE { wd:Q1151926 p:P166 ?s . ?s ps:P166 wd:Q7843370 . ?s pq:P585 ?value}\",\"sparql_dbpedia18\":\"select distinct ?value  where {\\n?statement <http://www.w3.org/1999/02/22-rdf-syntax-ns#subject> <http://wikidata.dbpedia.org/resource/Q1151926> .\\n?statement <http://www.w3.org/1999/02/22-rdf-syntax-ns#predicate> <http://www.wikidata.org/entity/P166> .\\n?statement <http://www.w3.org/1999/02/22-rdf-syntax-ns#object> <http://wikidata.dbpedia.org/resource/Q7843370> .\\n?statement <http://www.wikidata.org/entity/P585> ?value. \\n} \\n\",\"template\":\"(E pred ?Obj ) prop value\",\"paraphrased_question\":\"On what date was Triple Crown Trophy given to Secretariat?\"},\"truncated_cells\":[]},{\"row_idx\":63,\"row\":{\"NNQT_question\":\"What is {borders} of {Riverside}, that has {start date} is {1984-0-0} ?\",\"uid\":12513,\"subgraph\":\"right-subgraph\",\"template_index\":1573,\"question\":\"Which borders of borders of Riverside have a start date of 1984-0-0?\",\"sparql_wikidata\":\"SELECT ?answer WHERE { wd:Q49243 wdt:P47 ?answer . ?answer wdt:P571 ?x FILTER(contains(YEAR(?x),'1984'))}\",\"sparql_dbpedia18\":\"SELECT ?answer WHERE { ?statement1 <http://www.w3.org/1999/02/22-rdf-syntax-ns#subject> <http://wikidata.dbpedia.org/resource/Q49243> . ?statement1 <http://www.w3.org/1999/02/22-rdf-syntax-ns#predicate> <http://www.wikidata.org/entity/P47>. ?statement1 <http://www.w3.org/1999/02/22-rdf-syntax-ns#object> ?answer . ?statement2 <http://www.w3.org/1999/02/22-rdf-syntax-ns#subject> ?answer. ?statement2 <http://www.w3.org/1999/02/22-rdf-syntax-ns#predicate> <http://www.wikidata.org/entity/P571> . ?statement2 <http://www.w3.org/1999/02/22-rdf-syntax-ns#object> <1984-0-0> . }\",\"template\":\"E REF ?F . ?F RFG G\",\"paraphrased_question\":\"Which borders of borders of Riverside have a begin date of 1984-0-0?\"},\"truncated_cells\":[]},{\"row_idx\":64,\"row\":{\"NNQT_question\":\"Give me {cause of death} that {medical examinations} {computed tomography} and which that starts with {'p'}\",\"uid\":25596,\"subgraph\":\"string matching type + relation contains word\",\"template_index\":453,\"question\":\"What is a cause of death that begins with the letter \\\"p\\\" and can be found on a CT scan?\",\"sparql_wikidata\":\"SELECT DISTINCT ?sbj ?sbj_label WHERE { ?sbj wdt:P31 wd:Q1931388 . ?sbj wdt:P923 wd:Q32566 . ?sbj rdfs:label ?sbj_label . FILTER(STRSTARTS(lcase(?sbj_label), 'p')) . FILTER (lang(?sbj_label) = 'en') } LIMIT 25 \",\"sparql_dbpedia18\":\"SELECT DISTINCT ?sbj ?sbj_label { ?statement1 <http://www.w3.org/1999/02/22-rdf-syntax-ns#subject> ?sbj . ?statement1 <http://www.w3.org/1999/02/22-rdf-syntax-ns#predicate> <http://www.wikidata.org/entity/P31> . ?statement1 <http://www.w3.org/1999/02/22-rdf-syntax-ns#object> <http://wikidata.dbpedia.org/resource/Q1931388>. ?statement2 <http://www.w3.org/1999/02/22-rdf-syntax-ns#subject> ?sbj . ?statement2 <http://www.w3.org/1999/02/22-rdf-syntax-ns#predicate> <http://www.wikidata.org/entity/P923> . ?statement2 <http://www.w3.org/1999/02/22-rdf-syntax-ns#object> <http://wikidata.dbpedia.org/resource/Q32566>. ?sbj rdfs:label ?sbj_label . FILTER(STRSTARTS(lcase(?sbj_label), 'p')) . FILTER (lang(?sbj_label) = 'en') } LIMIT 25\",\"template\":\" <?S P O ; ?S instanceOf Type ; starts with character >\",\"paraphrased_question\":\"What is a purpose of dying that begins with the letter \\\"p\\\" and can be located on a CT scan?\"},\"truncated_cells\":[]},{\"row_idx\":65,\"row\":{\"NNQT_question\":\"What is {established by} of {Archbishop of Canterbury}, that has {male} is {male} ?\",\"uid\":12980,\"subgraph\":\"right-subgraph\",\"template_index\":104,\"question\":\"What is established by Archbishop of Canterbury, who is a male?\",\"sparql_wikidata\":\"SELECT ?answer WHERE { wd:Q29282 wdt:P112 ?answer . ?answer wdt:P21 wd:Q6581097}\",\"sparql_dbpedia18\":\"SELECT ?answer WHERE { ?statement1 <http://www.w3.org/1999/02/22-rdf-syntax-ns#subject> <http://wikidata.dbpedia.org/resource/Q29282> . ?statement1 <http://www.w3.org/1999/02/22-rdf-syntax-ns#predicate> <http://www.wikidata.org/entity/P112>. ?statement1 <http://www.w3.org/1999/02/22-rdf-syntax-ns#object> ?answer . ?statement2 <http://www.w3.org/1999/02/22-rdf-syntax-ns#subject> ?answer. ?statement2 <http://www.w3.org/1999/02/22-rdf-syntax-ns#predicate> <http://www.wikidata.org/entity/P21> . ?statement2 <http://www.w3.org/1999/02/22-rdf-syntax-ns#object> <http://wikidata.dbpedia.org/resource/Q6581097> . }\",\"template\":\"E REF ?F . ?F RFG G\",\"paraphrased_question\":\"What is hooked up by way of Archbishop of Canterbury, who is a male?\"},\"truncated_cells\":[]},{\"row_idx\":66,\"row\":{\"NNQT_question\":\"what is the {Commons category} for {Fernandel} has {place of burial} as {Passy Cemetery} ?\",\"uid\":4690,\"subgraph\":\"statement_property\",\"template_index\":1135,\"question\":\"In what area is Fernandel buried at the Passy Cemetery?\",\"sparql_wikidata\":\"SELECT ?value WHERE { wd:Q129092 p:P119 ?s . ?s ps:P119 wd:Q1092107 . ?s pq:P373 ?value}\",\"sparql_dbpedia18\":\"select distinct ?value  where {\\n?statement <http://www.w3.org/1999/02/22-rdf-syntax-ns#subject> <http://wikidata.dbpedia.org/resource/Q129092> .\\n?statement <http://www.w3.org/1999/02/22-rdf-syntax-ns#predicate> <http://www.wikidata.org/entity/P119> .\\n?statement <http://www.w3.org/1999/02/22-rdf-syntax-ns#object> <http://wikidata.dbpedia.org/resource/Q1092107> .\\n?statement <http://www.wikidata.org/entity/P373> ?value. \\n} \\n\",\"template\":\"(E pred ?Obj ) prop value\",\"paraphrased_question\":\"Where at Passy Cementery is Fernandel buried?\"},\"truncated_cells\":[]},{\"row_idx\":67,\"row\":{\"NNQT_question\":\"What is the {naval artillery} with the {MIN(effective firing range)} whose {instance of} is {naval artillery}  ?\",\"uid\":3398,\"subgraph\":\"rank\",\"template_index\":620,\"question\":\"Name the naval artillery wirh the smallest firing range?\",\"sparql_wikidata\":\"select ?ent where { ?ent wdt:P31 wd:Q511450 . ?ent wdt:P4176 ?obj . ?ent wdt:P31 wd:Q511450. } ORDER BY ASC(?obj)LIMIT 5 \",\"sparql_dbpedia18\":\"select ?ent where {\\n?ent <http://www.wikidata.org/entity/P31> <http://wikidata.dbpedia.org/resource/Q511450>.\\n\\n?statement1 <http://www.w3.org/1999/02/22-rdf-syntax-ns#subject> ?ent .\\n?statement1 <http://www.w3.org/1999/02/22-rdf-syntax-ns#predicate> <http://www.wikidata.org/entity/P4176>.\\n?statement1 <http://www.w3.org/1999/02/22-rdf-syntax-ns#object> ?obj1.\\n\\n?statement2 <http://www.w3.org/1999/02/22-rdf-syntax-ns#subject> ?ent .\\n?statement2 <http://www.w3.org/1999/02/22-rdf-syntax-ns#predicate> <http://www.wikidata.org/entity/P31> .\\n?statement2 <http://www.w3.org/1999/02/22-rdf-syntax-ns#object> <http://wikidata.dbpedia.org/resource/Q511450> .\\n\\n}\\nORDER BY ASC(?obj1)\\nLIMIT 5\",\"template\":\"?E is_a Type. ?E pred Obj. ?E-secondClause value. MIN (value)\",\"paraphrased_question\":\"How is the naval artillery wirh the smallest firing range called?\"},\"truncated_cells\":[]},{\"row_idx\":68,\"row\":{\"NNQT_question\":\"What is {namesake} of {cayenne pepper}, that has {construction date} is {1664-0-0} ?\",\"uid\":13939,\"subgraph\":\"right-subgraph\",\"template_index\":167,\"question\":\"What is the name of a Cayenne Pepper that also has dates?\",\"sparql_wikidata\":\"SELECT ?answer WHERE { wd:Q6598 wdt:P138 ?answer . ?answer wdt:P571 ?x FILTER(contains(YEAR(?x),'1664'))}\",\"sparql_dbpedia18\":\"SELECT ?answer WHERE { ?statement1 <http://www.w3.org/1999/02/22-rdf-syntax-ns#subject> <http://wikidata.dbpedia.org/resource/Q6598> . ?statement1 <http://www.w3.org/1999/02/22-rdf-syntax-ns#predicate> <http://www.wikidata.org/entity/P138>. ?statement1 <http://www.w3.org/1999/02/22-rdf-syntax-ns#object> ?answer . ?statement2 <http://www.w3.org/1999/02/22-rdf-syntax-ns#subject> ?answer. ?statement2 <http://www.w3.org/1999/02/22-rdf-syntax-ns#predicate> <http://www.wikidata.org/entity/P571> . ?statement2 <http://www.w3.org/1999/02/22-rdf-syntax-ns#object> <1664-0-0> . }\",\"template\":\"E REF ?F . ?F RFG G\",\"paraphrased_question\":\"What is the title of a Cayenne Pepper that too has dates?\"},\"truncated_cells\":[]},{\"row_idx\":69,\"row\":{\"NNQT_question\":\"Does the {throughput} of the {Vest-vassdraget} {equals} {2697.672}\",\"uid\":18840,\"subgraph\":\"boolean with filter\",\"template_index\":858,\"question\":\"Is the throughput of the Vest-vassdraget equal to 2697.672?\",\"sparql_wikidata\":\"ASK WHERE { wd:Q58370919 wdt:P2957 ?obj filter(?obj = 2697.672) } \",\"sparql_dbpedia18\":\"ASK { ?statement1 <http://www.w3.org/1999/02/22-rdf-syntax-ns#subject> <http://wikidata.dbpedia.org/resource/Q58370919> . ?statement1 <http://www.w3.org/1999/02/22-rdf-syntax-ns#predicate> <http://www.wikidata.org/entity/P2957>. ?statement1 <http://www.w3.org/1999/02/22-rdf-syntax-ns#object> ?obj. filter(?obj = 2697.672) }\",\"template\":\"ASK ?sbj ?pred ?obj filter ?obj = num\",\"paraphrased_question\":\"Does Vest-vassdraget have a throughput of 2697.672?\"},\"truncated_cells\":[]},{\"row_idx\":70,\"row\":{\"NNQT_question\":\"What is {population} of {Taguig} that is {determination method} is {census} ?\",\"uid\":9357,\"subgraph\":\"statement_property\",\"template_index\":5802,\"question\":\"What method did the census use to determine the population of Taguig?\",\"sparql_wikidata\":\"SELECT ?obj WHERE { wd:Q1643 p:P1082 ?s . ?s ps:P1082 ?obj . ?s pq:P459 wd:Q39825 }\",\"sparql_dbpedia18\":\"select distinct ?obj  where {\\n?statement <http://www.w3.org/1999/02/22-rdf-syntax-ns#subject> <http://wikidata.dbpedia.org/resource/Q1643> .\\n?statement <http://www.w3.org/1999/02/22-rdf-syntax-ns#predicate> <http://www.wikidata.org/entity/P1082> .\\n?statement <http://www.w3.org/1999/02/22-rdf-syntax-ns#object> ?obj .\\n?statement <http://www.wikidata.org/entity/P459> <http://wikidata.dbpedia.org/resource/Q39825>\\n} \\n\",\"template\":\"(E pred F) prop ?value\",\"paraphrased_question\":\"wich method was used by the census to determine the population of Taguig?\"},\"truncated_cells\":[]},{\"row_idx\":71,\"row\":{\"NNQT_question\":\"What is {award received} of {Olga Tokarczuk} that is {point in time} is {2015-0-0} ?\",\"uid\":5550,\"subgraph\":\"statement_property\",\"template_index\":1995,\"question\":\"What award did Olga Tokarczuk receive in 2015?\",\"sparql_wikidata\":\"SELECT ?obj WHERE { wd:Q254032 p:P166 ?s . ?s ps:P166 ?obj . ?s pq:P585 ?x filter(contains(YEAR(?x),'2015')) }\",\"sparql_dbpedia18\":\"select distinct ?obj  where {\\n?statement <http://www.w3.org/1999/02/22-rdf-syntax-ns#subject> <http://wikidata.dbpedia.org/resource/Q254032> .\\n?statement <http://www.w3.org/1999/02/22-rdf-syntax-ns#predicate> <http://www.wikidata.org/entity/P166> .\\n?statement <http://www.w3.org/1999/02/22-rdf-syntax-ns#object> ?obj .\\n?statement <http://www.wikidata.org/entity/P585> <2015-0-0>\\n} \\n\",\"template\":\"(E pred F) prop ?value\",\"paraphrased_question\":\"Olga Tokarczuk was the winner of what award in 2015?\"},\"truncated_cells\":[]},{\"row_idx\":72,\"row\":{\"NNQT_question\":\"Did {Aleister_Crowley} {educated at} {Trinity College} and {Eton College} ?\",\"uid\":843,\"subgraph\":\"boolean double one_hop right subgraph\",\"template_index\":343,\"question\":\"Was Aleister Crowley educated at Trinity College and Eton College?\",\"sparql_wikidata\":\"ASK WHERE { wd:Q172684 wdt:P69 wd:Q332342 . wd:Q172684 wdt:P69 wd:Q192088 }\",\"sparql_dbpedia18\":\" ASK { ?statement1 <http://www.w3.org/1999/02/22-rdf-syntax-ns#subject> <http://wikidata.dbpedia.org/resource/Q172684> . ?statement1 <http://www.w3.org/1999/02/22-rdf-syntax-ns#predicate> <http://www.wikidata.org/entity/P69> . ?statement1 <http://www.w3.org/1999/02/22-rdf-syntax-ns#object> <http://wikidata.dbpedia.org/resource/Q332342>. ?statement2 <http://www.w3.org/1999/02/22-rdf-syntax-ns#subject> <http://wikidata.dbpedia.org/resource/Q172684> . ?statement2 <http://www.w3.org/1999/02/22-rdf-syntax-ns#predicate> <http://www.wikidata.org/entity/P69> . ?statement2 <http://www.w3.org/1999/02/22-rdf-syntax-ns#object> <http://wikidata.dbpedia.org/resource/Q192088>. } \",\"template\":\"Ask (ent-pred-obj1 . ent-pred-obj2`)\",\"paraphrased_question\":\"Did Aleister Crowley receive his education at Trinity College and Eton College?\"},\"truncated_cells\":[]},{\"row_idx\":73,\"row\":{\"NNQT_question\":\"What is {location of narrative} of {Infinite Jest}, that has {next to} is {Quincy} ?\",\"uid\":11930,\"subgraph\":\"right-subgraph\",\"template_index\":1629,\"question\":\"What is {located next to Quincy,} in the {novel, Infinite Jest}?\",\"sparql_wikidata\":\"SELECT ?answer WHERE { wd:Q1077445 wdt:P840 ?answer . ?answer wdt:P47 wd:Q49143}\",\"sparql_dbpedia18\":\"SELECT ?answer WHERE { ?statement1 <http://www.w3.org/1999/02/22-rdf-syntax-ns#subject> <http://wikidata.dbpedia.org/resource/Q1077445> . ?statement1 <http://www.w3.org/1999/02/22-rdf-syntax-ns#predicate> <http://www.wikidata.org/entity/P840>. ?statement1 <http://www.w3.org/1999/02/22-rdf-syntax-ns#object> ?answer . ?statement2 <http://www.w3.org/1999/02/22-rdf-syntax-ns#subject> ?answer. ?statement2 <http://www.w3.org/1999/02/22-rdf-syntax-ns#predicate> <http://www.wikidata.org/entity/P47> . ?statement2 <http://www.w3.org/1999/02/22-rdf-syntax-ns#object> <http://wikidata.dbpedia.org/resource/Q49143> . }\",\"template\":\"E REF ?F . ?F RFG G\",\"paraphrased_question\":\"What is {located next to Quincy,} in the {novel, Infinite Jest}?\"},\"truncated_cells\":[]},{\"row_idx\":74,\"row\":{\"NNQT_question\":\"what is the {conferred by} for {Eric Hobsbawm} has {award received} as {doctor honoris causa} ?\",\"uid\":6008,\"subgraph\":\"statement_property\",\"template_index\":2453,\"question\":\"Who awarded Eric Hobsbawm an honorary doctorate?\",\"sparql_wikidata\":\"SELECT ?value WHERE { wd:Q34933 p:P166 ?s . ?s ps:P166 wd:Q11415564 . ?s pq:P1027 ?value}\",\"sparql_dbpedia18\":\"select distinct ?value  where {\\n?statement <http://www.w3.org/1999/02/22-rdf-syntax-ns#subject> <http://wikidata.dbpedia.org/resource/Q34933> .\\n?statement <http://www.w3.org/1999/02/22-rdf-syntax-ns#predicate> <http://www.wikidata.org/entity/P166> .\\n?statement <http://www.w3.org/1999/02/22-rdf-syntax-ns#object> <http://wikidata.dbpedia.org/resource/Q11415564> .\\n?statement <http://www.wikidata.org/entity/P1027> ?value. \\n} \\n\",\"template\":\"(E pred ?Obj ) prop value\",\"paraphrased_question\":\"Eric Hobsbawm was presented with an honorary doctorate by what institution?\"},\"truncated_cells\":[]},{\"row_idx\":75,\"row\":{\"NNQT_question\":\"What is {member of sports team} of {Allan Border} that is {end time} is {1980-0-0} ?\",\"uid\":7899,\"subgraph\":\"statement_property\",\"template_index\":4344,\"question\":\"What was the last team Allan Border belonged to in the year 1980?\",\"sparql_wikidata\":\"SELECT ?obj WHERE { wd:Q1392194 p:P54 ?s . ?s ps:P54 ?obj . ?s pq:P582 ?x filter(contains(YEAR(?x),'1980')) }\",\"sparql_dbpedia18\":\"select distinct ?obj  where {\\n?statement <http://www.w3.org/1999/02/22-rdf-syntax-ns#subject> <http://wikidata.dbpedia.org/resource/Q1392194> .\\n?statement <http://www.w3.org/1999/02/22-rdf-syntax-ns#predicate> <http://www.wikidata.org/entity/P54> .\\n?statement <http://www.w3.org/1999/02/22-rdf-syntax-ns#object> ?obj .\\n?statement <http://www.wikidata.org/entity/P582> <1980-0-0>\\n} \\n\",\"template\":\"(E pred F) prop ?value\",\"paraphrased_question\":\"In 1980 name the last team Allan Border played for?\"},\"truncated_cells\":[]},{\"row_idx\":76,\"row\":{\"NNQT_question\":\"Give me {film character} that {from fictional universe} {Marvel Universe} and which that starts with {'w'}\",\"uid\":25365,\"subgraph\":\"string matching type + relation contains word\",\"template_index\":3185,\"question\":\"Give me a film character from a fictional universe, such as Marvel comics that starts with a W.\",\"sparql_wikidata\":\"SELECT DISTINCT ?sbj ?sbj_label WHERE { ?sbj wdt:P31 wd:Q15773347 . ?sbj wdt:P1080 wd:Q931597 . ?sbj rdfs:label ?sbj_label . FILTER(STRSTARTS(lcase(?sbj_label), 'w')) . FILTER (lang(?sbj_label) = 'en') } LIMIT 25 \",\"sparql_dbpedia18\":\"SELECT DISTINCT ?sbj ?sbj_label { ?statement1 <http://www.w3.org/1999/02/22-rdf-syntax-ns#subject> ?sbj . ?statement1 <http://www.w3.org/1999/02/22-rdf-syntax-ns#predicate> <http://www.wikidata.org/entity/P31> . ?statement1 <http://www.w3.org/1999/02/22-rdf-syntax-ns#object> <http://wikidata.dbpedia.org/resource/Q15773347>. ?statement2 <http://www.w3.org/1999/02/22-rdf-syntax-ns#subject> ?sbj . ?statement2 <http://www.w3.org/1999/02/22-rdf-syntax-ns#predicate> <http://www.wikidata.org/entity/P1080> . ?statement2 <http://www.w3.org/1999/02/22-rdf-syntax-ns#object> <http://wikidata.dbpedia.org/resource/Q931597>. ?sbj rdfs:label ?sbj_label . FILTER(STRSTARTS(lcase(?sbj_label), 'w')) . FILTER (lang(?sbj_label) = 'en') } LIMIT 25\",\"template\":\" <?S P O ; ?S instanceOf Type ; starts with character >\",\"paraphrased_question\":\"Give me a movie personality from a fictional universe, such as Marvel comics that starts with a W.\"},\"truncated_cells\":[]},{\"row_idx\":77,\"row\":{\"NNQT_question\":\"What is the {fictional universe} for {fictional universe described in} of {The Matrix}\",\"uid\":21297,\"subgraph\":\"simple question left\",\"template_index\":1643,\"question\":\"Mention the fictional universe described or included in The Matrix.\",\"sparql_wikidata\":\" select distinct ?sbj where { ?sbj wdt:P1445 wd:Q83495 . ?sbj wdt:P31 wd:Q559618 } \",\"sparql_dbpedia18\":\"select distinct ?subj where { ?statement <http://www.w3.org/1999/02/22-rdf-syntax-ns#subject> ?subj . ?statement <http://www.w3.org/1999/02/22-rdf-syntax-ns#predicate> <http://www.wikidata.org/entity/P1445> . ?statement <http://www.w3.org/1999/02/22-rdf-syntax-ns#object> <http://wikidata.dbpedia.org/resource/Q83495> . ?subj <http://www.wikidata.org/entity/P31> <http://wikidata.dbpedia.org/resource/Q559618> } \",\"template\":\"<?S P O ; ?S InstanceOf Type>\",\"paraphrased_question\":\"Say the anecdotal universe depicted or included within The Framework.\"},\"truncated_cells\":[]},{\"row_idx\":78,\"row\":{\"NNQT_question\":\"What is {award received} of {Hans Krebs} that is {point in time} is {1966-0-0} ?\",\"uid\":4903,\"subgraph\":\"statement_property\",\"template_index\":1348,\"question\":\"What is {award received} of {Hans Krebs} where {point in time} is {1966-0-0} ?\",\"sparql_wikidata\":\"SELECT ?obj WHERE { wd:Q57191 p:P166 ?s . ?s ps:P166 ?obj . ?s pq:P585 ?x filter(contains(YEAR(?x),'1966')) }\",\"sparql_dbpedia18\":\"select distinct ?obj  where {\\n?statement <http://www.w3.org/1999/02/22-rdf-syntax-ns#subject> <http://wikidata.dbpedia.org/resource/Q57191> .\\n?statement <http://www.w3.org/1999/02/22-rdf-syntax-ns#predicate> <http://www.wikidata.org/entity/P166> .\\n?statement <http://www.w3.org/1999/02/22-rdf-syntax-ns#object> ?obj .\\n?statement <http://www.wikidata.org/entity/P585> <1966-0-0>\\n} \\n\",\"template\":\"(E pred F) prop ?value\",\"paraphrased_question\":\"What is {grant gotten} of {Hans Krebs} where {point in time} is {1966-0-0} ?\"},\"truncated_cells\":[]},{\"row_idx\":79,\"row\":{\"NNQT_question\":\"What is the {record label} for {record label} of {Janet Jackson}\",\"uid\":22698,\"subgraph\":\"simple question right\",\"template_index\":3759,\"question\":\"Which record label signed Janet Jackson?\",\"sparql_wikidata\":\" select distinct ?obj where { wd:Q131324 wdt:P264 ?obj . ?obj wdt:P31 wd:Q18127 } \",\"sparql_dbpedia18\":\"select distinct ?obj where { ?statement <http://www.w3.org/1999/02/22-rdf-syntax-ns#subject> <http://wikidata.dbpedia.org/resource/Q131324> . ?statement <http://www.w3.org/1999/02/22-rdf-syntax-ns#predicate> <http://www.wikidata.org/entity/P264> . ?statement <http://www.w3.org/1999/02/22-rdf-syntax-ns#object> ?obj . ?obj <http://www.wikidata.org/entity/P31> <http://wikidata.dbpedia.org/resource/Q18127> } \",\"template\":\" <S P ?O ; ?O instanceOf Type>\",\"paraphrased_question\":\"What is the record label signed by Janet Jackson?\"},\"truncated_cells\":[]},{\"row_idx\":80,\"row\":{\"NNQT_question\":\"Does the {slope rating} of the {Merion Golf Club} {equals} {149}\",\"uid\":19036,\"subgraph\":\"boolean with filter\",\"template_index\":1054,\"question\":\"Does the slope rating of the Merion Golf Club equal 149\",\"sparql_wikidata\":\"ASK WHERE { wd:Q3962734 wdt:P3840 ?obj filter(?obj = 149) } \",\"sparql_dbpedia18\":\"ASK { ?statement1 <http://www.w3.org/1999/02/22-rdf-syntax-ns#subject> <http://wikidata.dbpedia.org/resource/Q3962734> . ?statement1 <http://www.w3.org/1999/02/22-rdf-syntax-ns#predicate> <http://www.wikidata.org/entity/P3840>. ?statement1 <http://www.w3.org/1999/02/22-rdf-syntax-ns#object> ?obj. filter(?obj = 149) }\",\"template\":\"ASK ?sbj ?pred ?obj filter ?obj = num\",\"paraphrased_question\":\"Is the slope rating of the Merion Golf Club 149?\"},\"truncated_cells\":[]},{\"row_idx\":81,\"row\":{\"NNQT_question\":\"What is {density} of {hydrogen peroxide} that is {temperature} is {20.0} ?\",\"uid\":9408,\"subgraph\":\"statement_property\",\"template_index\":5853,\"question\":\"What is the density of hydrogen peroxide at a temperature of 20.0?\",\"sparql_wikidata\":\"SELECT ?obj WHERE { wd:Q171877 p:P2054 ?s . ?s ps:P2054 ?obj . ?s pq:P2076 ?x filter(contains(?x,'20.0')) }\",\"sparql_dbpedia18\":\"select distinct ?obj  where {\\n?statement <http://www.w3.org/1999/02/22-rdf-syntax-ns#subject> <http://wikidata.dbpedia.org/resource/Q171877> .\\n?statement <http://www.w3.org/1999/02/22-rdf-syntax-ns#predicate> <http://www.wikidata.org/entity/P2054> .\\n?statement <http://www.w3.org/1999/02/22-rdf-syntax-ns#object> ?obj .\\n?statement <http://www.wikidata.org/entity/P2076> <20.0>\\n} \\n\",\"template\":\"(E pred F) prop ?value\",\"paraphrased_question\":\"What is hydrogen peroxide's density at twenty degrees?\"},\"truncated_cells\":[]},{\"row_idx\":82,\"row\":{\"NNQT_question\":\"What is {architecture firm} of {home field} of {New York Centaurs} ?\",\"uid\":15277,\"subgraph\":\"left-subgraph\",\"template_index\":3,\"question\":\"who architecture firm of home field of new york centaurs?\",\"sparql_wikidata\":\"SELECT ?answer WHERE { wd:Q16845909 wdt:P115 ?X . ?X wdt:P84 ?answer}\",\"sparql_dbpedia18\":\"SELECT ?answer WHERE { ?statement1 <http://www.w3.org/1999/02/22-rdf-syntax-ns#subject> <http://wikidata.dbpedia.org/resource/Q16845909> . ?statement1 <http://www.w3.org/1999/02/22-rdf-syntax-ns#predicate> <http://www.wikidata.org/entity/P115>. ?statement1 <http://www.w3.org/1999/02/22-rdf-syntax-ns#object> ?X . ?statement2 <http://www.w3.org/1999/02/22-rdf-syntax-ns#subject> ?X. ?statement2 <http://www.w3.org/1999/02/22-rdf-syntax-ns#predicate> <http://www.wikidata.org/entity/P84> . ?statement2 <http://www.w3.org/1999/02/22-rdf-syntax-ns#object> ?answer . }\",\"template\":\"C RCD xD . xD RDE ?E\",\"paraphrased_question\":\"who engineering firm of domestic field of modern york centaurs?\"},\"truncated_cells\":[]},{\"row_idx\":83,\"row\":{\"NNQT_question\":\"What is {champ} of {prize awarded} of {Lily Tomlin} ?\",\"uid\":14554,\"subgraph\":\"left-subgraph\",\"template_index\":189,\"question\":\"Who is {champ} of {prize awarded} {Lily Tomlin} ?\",\"sparql_wikidata\":\"SELECT ?answer WHERE { wd:Q229271 wdt:P166 ?X . ?X wdt:P1346 ?answer}\",\"sparql_dbpedia18\":\"SELECT ?answer WHERE { ?statement1 <http://www.w3.org/1999/02/22-rdf-syntax-ns#subject> <http://wikidata.dbpedia.org/resource/Q229271> . ?statement1 <http://www.w3.org/1999/02/22-rdf-syntax-ns#predicate> <http://www.wikidata.org/entity/P166>. ?statement1 <http://www.w3.org/1999/02/22-rdf-syntax-ns#object> ?X . ?statement2 <http://www.w3.org/1999/02/22-rdf-syntax-ns#subject> ?X. ?statement2 <http://www.w3.org/1999/02/22-rdf-syntax-ns#predicate> <http://www.wikidata.org/entity/P1346> . ?statement2 <http://www.w3.org/1999/02/22-rdf-syntax-ns#object> ?answer . }\",\"template\":\"C RCD xD . xD RDE ?E\",\"paraphrased_question\":\"Who is {champ} of {prize granted} {Lily Tomlin} ?TARD ?\"},\"truncated_cells\":[]},{\"row_idx\":84,\"row\":{\"NNQT_question\":\"What is {cartridge} of {Minigun}, that has {participated in conflict} is {Vietnam War} ?\",\"uid\":13100,\"subgraph\":\"right-subgraph\",\"template_index\":176,\"question\":\"What is the ammunition of the weapon, that has been used in the war in Southeast Asia?\",\"sparql_wikidata\":\"SELECT ?answer WHERE { wd:Q864060 wdt:P739 ?answer . ?answer wdt:P607 wd:Q8740}\",\"sparql_dbpedia18\":\"SELECT ?answer WHERE { ?statement1 <http://www.w3.org/1999/02/22-rdf-syntax-ns#subject> <http://wikidata.dbpedia.org/resource/Q864060> . ?statement1 <http://www.w3.org/1999/02/22-rdf-syntax-ns#predicate> <http://www.wikidata.org/entity/P739>. ?statement1 <http://www.w3.org/1999/02/22-rdf-syntax-ns#object> ?answer . ?statement2 <http://www.w3.org/1999/02/22-rdf-syntax-ns#subject> ?answer. ?statement2 <http://www.w3.org/1999/02/22-rdf-syntax-ns#predicate> <http://www.wikidata.org/entity/P607> . ?statement2 <http://www.w3.org/1999/02/22-rdf-syntax-ns#object> <http://wikidata.dbpedia.org/resource/Q8740> . }\",\"template\":\"E REF ?F . ?F RFG G\",\"paraphrased_question\":\"What is the ammunition of the weapon, that has been used in the conflict in Southeast Asia?\"},\"truncated_cells\":[]},{\"row_idx\":85,\"row\":{\"NNQT_question\":\"Give me {horse breed} that starts with {'z'}\",\"uid\":24387,\"subgraph\":\"string matching simple contains word\",\"template_index\":566,\"question\":\"Tell me every horse breed whose name starts with the letter z\",\"sparql_wikidata\":\"SELECT DISTINCT ?sbj ?sbj_label WHERE { ?sbj wdt:P31 wd:Q1160573 . ?sbj rdfs:label ?sbj_label . FILTER(STRSTARTS(lcase(?sbj_label), 'z')) . FILTER (lang(?sbj_label) = 'en') } LIMIT 25 \",\"sparql_dbpedia18\":\"SELECT DISTINCT ?sbj ?sbj_label { ?statement1 <http://www.w3.org/1999/02/22-rdf-syntax-ns#subject> ?sbj . ?statement1 <http://www.w3.org/1999/02/22-rdf-syntax-ns#predicate> <http://www.wikidata.org/entity/P31> . ?statement1 <http://www.w3.org/1999/02/22-rdf-syntax-ns#object> <http://wikidata.dbpedia.org/resource/Q1160573>. ?sbj rdfs:label ?sbj_label . FILTER(STRSTARTS(lcase(?sbj_label), 'z')) . FILTER (lang(?sbj_label) = 'en') } LIMIT 25\",\"template\":\" <?S P O ; ?S instanceOf Type ; starts with character >\",\"paraphrased_question\":\"Tell me each and every horse breed whose identify begins with the letter z\"},\"truncated_cells\":[]},{\"row_idx\":86,\"row\":{\"NNQT_question\":\"What is {brother-in-law} of {writer} of {Quran} ?\",\"uid\":15679,\"subgraph\":\"left-subgraph\",\"template_index\":33,\"question\":\"Who is the brother in law of the writer Quran?\",\"sparql_wikidata\":\"SELECT ?answer WHERE { wd:Q428 wdt:P50 ?X . ?X wdt:P1038 ?answer}\",\"sparql_dbpedia18\":\"SELECT ?answer WHERE { ?statement1 <http://www.w3.org/1999/02/22-rdf-syntax-ns#subject> <http://wikidata.dbpedia.org/resource/Q428> . ?statement1 <http://www.w3.org/1999/02/22-rdf-syntax-ns#predicate> <http://www.wikidata.org/entity/P50>. ?statement1 <http://www.w3.org/1999/02/22-rdf-syntax-ns#object> ?X . ?statement2 <http://www.w3.org/1999/02/22-rdf-syntax-ns#subject> ?X. ?statement2 <http://www.w3.org/1999/02/22-rdf-syntax-ns#predicate> <http://www.wikidata.org/entity/P1038> . ?statement2 <http://www.w3.org/1999/02/22-rdf-syntax-ns#object> ?answer . }\",\"template\":\"C RCD xD . xD RDE ?E\",\"paraphrased_question\":\"Give me the name of the brother in law of the writer of Quran.\"},\"truncated_cells\":[]},{\"row_idx\":87,\"row\":{\"NNQT_question\":\"What is {represents} of {Grande Odalisque}, that has {DRTL} is {backwards} ?\",\"uid\":13854,\"subgraph\":\"right-subgraph\",\"template_index\":254,\"question\":\"What does the painting Grade Odalisque represent which has DRTL backwards?\",\"sparql_wikidata\":\"SELECT ?answer WHERE { wd:Q1978815 wdt:P180 ?answer . ?answer wdt:P654 wd:Q16938807}\",\"sparql_dbpedia18\":\"SELECT ?answer WHERE { ?statement1 <http://www.w3.org/1999/02/22-rdf-syntax-ns#subject> <http://wikidata.dbpedia.org/resource/Q1978815> . ?statement1 <http://www.w3.org/1999/02/22-rdf-syntax-ns#predicate> <http://www.wikidata.org/entity/P180>. ?statement1 <http://www.w3.org/1999/02/22-rdf-syntax-ns#object> ?answer . ?statement2 <http://www.w3.org/1999/02/22-rdf-syntax-ns#subject> ?answer. ?statement2 <http://www.w3.org/1999/02/22-rdf-syntax-ns#predicate> <http://www.wikidata.org/entity/P654> . ?statement2 <http://www.w3.org/1999/02/22-rdf-syntax-ns#object> <http://wikidata.dbpedia.org/resource/Q16938807> . }\",\"template\":\"E REF ?F . ?F RFG G\",\"paraphrased_question\":\"What does the portray Review Odalisque speak to which has DRTL backwards?\"},\"truncated_cells\":[]},{\"row_idx\":88,\"row\":{\"NNQT_question\":\"Give me {empire} that {coat of arms} {royal coat of arms of the United Kingdom} and which contains the word {british} in their name\",\"uid\":24949,\"subgraph\":\"string matching type + relation contains word\",\"template_index\":3209,\"question\":\"Name an empire that contains the word \\\"british\\\" in its name\",\"sparql_wikidata\":\"SELECT DISTINCT ?sbj ?sbj_label WHERE { ?sbj wdt:P31 wd:Q48349 . ?sbj wdt:P237 wd:Q165762 . ?sbj rdfs:label ?sbj_label . FILTER(CONTAINS(lcase(?sbj_label), 'british')) . FILTER (lang(?sbj_label) = 'en') } LIMIT 25 \",\"sparql_dbpedia18\":\"SELECT DISTINCT ?sbj ?sbj_label { ?statement1 <http://www.w3.org/1999/02/22-rdf-syntax-ns#subject> ?sbj . ?statement1 <http://www.w3.org/1999/02/22-rdf-syntax-ns#predicate> <http://www.wikidata.org/entity/P31> . ?statement1 <http://www.w3.org/1999/02/22-rdf-syntax-ns#object> <http://wikidata.dbpedia.org/resource/Q48349>. ?statement2 <http://www.w3.org/1999/02/22-rdf-syntax-ns#subject> ?sbj . ?statement2 <http://www.w3.org/1999/02/22-rdf-syntax-ns#predicate> <http://www.wikidata.org/entity/P237> . ?statement2 <http://www.w3.org/1999/02/22-rdf-syntax-ns#object> <http://wikidata.dbpedia.org/resource/Q165762>. ?sbj rdfs:label ?sbj_label . FILTER(CONTAINS(lcase(?sbj_label), 'british')) . FILTER (lang(?sbj_label) = 'en') } LIMIT 25\",\"template\":\" <?S P O ; ?S instanceOf Type ; contains word >\",\"paraphrased_question\":\"Title an realm that contains the word \\\"british\\\" in its name\"},\"truncated_cells\":[]},{\"row_idx\":89,\"row\":{\"NNQT_question\":\"what is the {instance of} for {Antonio da Correggio} has {date of birth} as {1489-8-1} ?\",\"uid\":6792,\"subgraph\":\"statement_property\",\"template_index\":3237,\"question\":\"What is the instance of Antonio da Correggio whose date of birth is 1489-8-1?\",\"sparql_wikidata\":\"SELECT ?value WHERE { wd:Q8457 p:P569 ?s . ?s ps:P569 ?x filter(contains(YEAR(?x),'1489')) . ?s pq:P31 ?value}\",\"sparql_dbpedia18\":\"select distinct ?value  where {\\n?statement <http://www.w3.org/1999/02/22-rdf-syntax-ns#subject> <http://wikidata.dbpedia.org/resource/Q8457> .\\n?statement <http://www.w3.org/1999/02/22-rdf-syntax-ns#predicate> <http://www.wikidata.org/entity/P569> .\\n?statement <http://www.w3.org/1999/02/22-rdf-syntax-ns#object> <1489-8-1> .\\n?statement <http://www.wikidata.org/entity/P31> ?value. \\n} \\n\",\"template\":\"(E pred ?Obj ) prop value\",\"paraphrased_question\":\"Give me the instance of Antonio da Correggio, whose birthdate is 1489-8-1?\"},\"truncated_cells\":[]},{\"row_idx\":90,\"row\":{\"NNQT_question\":\"What is {teacher of} of {supervisor} of {Shigeno Yasutsugu} ?\",\"uid\":17484,\"subgraph\":\"left-subgraph\",\"template_index\":8,\"question\":\"Who was the teacher that supervised Shigeno Yasutsugu?\",\"sparql_wikidata\":\"SELECT ?answer WHERE { wd:Q6533159 wdt:P1066 ?X . ?X wdt:P802 ?answer}\",\"sparql_dbpedia18\":\"SELECT ?answer WHERE { ?statement1 <http://www.w3.org/1999/02/22-rdf-syntax-ns#subject> <http://wikidata.dbpedia.org/resource/Q6533159> . ?statement1 <http://www.w3.org/1999/02/22-rdf-syntax-ns#predicate> <http://www.wikidata.org/entity/P1066>. ?statement1 <http://www.w3.org/1999/02/22-rdf-syntax-ns#object> ?X . ?statement2 <http://www.w3.org/1999/02/22-rdf-syntax-ns#subject> ?X. ?statement2 <http://www.w3.org/1999/02/22-rdf-syntax-ns#predicate> <http://www.wikidata.org/entity/P802> . ?statement2 <http://www.w3.org/1999/02/22-rdf-syntax-ns#object> ?answer . }\",\"template\":\"C RCD xD . xD RDE ?E\",\"paraphrased_question\":\"Who was the instructor that administered Shigeno Yasutsugu?\"},\"truncated_cells\":[]},{\"row_idx\":91,\"row\":{\"NNQT_question\":\"what is the {point in time} for {Kylie Minogue} has {award received} as {Gold Logie Award for Most Popular Personality on Australian Television} ?\",\"uid\":3612,\"subgraph\":\"statement_property\",\"template_index\":57,\"question\":\"When did Kylie Minogue receive the Gold Logie Award for Most Popular Personality on Australian Television?\",\"sparql_wikidata\":\"SELECT ?value WHERE { wd:Q11998 p:P166 ?s . ?s ps:P166 wd:Q16191288 . ?s pq:P585 ?value}\",\"sparql_dbpedia18\":\"select distinct ?value  where {\\n?statement <http://www.w3.org/1999/02/22-rdf-syntax-ns#subject> <http://wikidata.dbpedia.org/resource/Q11998> .\\n?statement <http://www.w3.org/1999/02/22-rdf-syntax-ns#predicate> <http://www.wikidata.org/entity/P166> .\\n?statement <http://www.w3.org/1999/02/22-rdf-syntax-ns#object> <http://wikidata.dbpedia.org/resource/Q16191288> .\\n?statement <http://www.wikidata.org/entity/P585> ?value. \\n} \\n\",\"template\":\"(E pred ?Obj ) prop value\",\"paraphrased_question\":\"On what date did Kylie Minogue receive the Gold Logie Award for Most Popular Personality on Australian Television?\"},\"truncated_cells\":[]},{\"row_idx\":92,\"row\":{\"NNQT_question\":\"What is the {business} for {employer} of {Alexander McQueen}\",\"uid\":22044,\"subgraph\":\"simple question right\",\"template_index\":3105,\"question\":\"What business does Alexander McQueen have?\",\"sparql_wikidata\":\" select distinct ?obj where { wd:Q207939 wdt:P108 ?obj . ?obj wdt:P31 wd:Q4830453 } \",\"sparql_dbpedia18\":\"select distinct ?obj where { ?statement <http://www.w3.org/1999/02/22-rdf-syntax-ns#subject> <http://wikidata.dbpedia.org/resource/Q207939> . ?statement <http://www.w3.org/1999/02/22-rdf-syntax-ns#predicate> <http://www.wikidata.org/entity/P108> . ?statement <http://www.w3.org/1999/02/22-rdf-syntax-ns#object> ?obj . ?obj <http://www.wikidata.org/entity/P31> <http://wikidata.dbpedia.org/resource/Q4830453> } \",\"template\":\" <S P ?O ; ?O instanceOf Type>\",\"paraphrased_question\":\"What's the name of Alexander McQueen's business?\"},\"truncated_cells\":[]},{\"row_idx\":93,\"row\":{\"NNQT_question\":\"Give me {Greek deity} that {sibling} {Zeus} and which contains the word {poseidon} in their name\",\"uid\":25085,\"subgraph\":\"string matching type + relation contains word\",\"template_index\":3714,\"question\":\"Tell me the Greek deity of sibling of Zeus and that contains the word poseidon in it's name?\",\"sparql_wikidata\":\"SELECT DISTINCT ?sbj ?sbj_label WHERE { ?sbj wdt:P31 wd:Q22989102 . ?sbj wdt:P3373 wd:Q34201 . ?sbj rdfs:label ?sbj_label . FILTER(CONTAINS(lcase(?sbj_label), 'poseidon')) . FILTER (lang(?sbj_label) = 'en') } LIMIT 25 \",\"sparql_dbpedia18\":\"SELECT DISTINCT ?sbj ?sbj_label { ?statement1 <http://www.w3.org/1999/02/22-rdf-syntax-ns#subject> ?sbj . ?statement1 <http://www.w3.org/1999/02/22-rdf-syntax-ns#predicate> <http://www.wikidata.org/entity/P31> . ?statement1 <http://www.w3.org/1999/02/22-rdf-syntax-ns#object> <http://wikidata.dbpedia.org/resource/Q22989102>. ?statement2 <http://www.w3.org/1999/02/22-rdf-syntax-ns#subject> ?sbj . ?statement2 <http://www.w3.org/1999/02/22-rdf-syntax-ns#predicate> <http://www.wikidata.org/entity/P3373> . ?statement2 <http://www.w3.org/1999/02/22-rdf-syntax-ns#object> <http://wikidata.dbpedia.org/resource/Q34201>. ?sbj rdfs:label ?sbj_label . FILTER(CONTAINS(lcase(?sbj_label), 'poseidon')) . FILTER (lang(?sbj_label) = 'en') } LIMIT 25\",\"template\":\" <?S P O ; ?S instanceOf Type ; contains word >\",\"paraphrased_question\":\"Let me know the Greek deity of kin of Zeus which contains the word poseidon in it's name?\"},\"truncated_cells\":[]},{\"row_idx\":94,\"row\":{\"NNQT_question\":\"What is {digitiser} of {series} of {Ultima III: Exodus} ?\",\"uid\":16153,\"subgraph\":\"left-subgraph\",\"template_index\":7098,\"question\":\"Who organizes the order of Ultima III: Exodus?\",\"sparql_wikidata\":\"SELECT ?answer WHERE { wd:Q2240236 wdt:P179 ?X . ?X wdt:P479 ?answer}\",\"sparql_dbpedia18\":\"SELECT ?answer WHERE { ?statement1 <http://www.w3.org/1999/02/22-rdf-syntax-ns#subject> <http://wikidata.dbpedia.org/resource/Q2240236> . ?statement1 <http://www.w3.org/1999/02/22-rdf-syntax-ns#predicate> <http://www.wikidata.org/entity/P179>. ?statement1 <http://www.w3.org/1999/02/22-rdf-syntax-ns#object> ?X . ?statement2 <http://www.w3.org/1999/02/22-rdf-syntax-ns#subject> ?X. ?statement2 <http://www.w3.org/1999/02/22-rdf-syntax-ns#predicate> <http://www.wikidata.org/entity/P479> . ?statement2 <http://www.w3.org/1999/02/22-rdf-syntax-ns#object> ?answer . }\",\"template\":\"C RCD xD . xD RDE ?E\",\"paraphrased_question\":\"Who organizes the arrange of Ultima III: Departure?\"},\"truncated_cells\":[]},{\"row_idx\":95,\"row\":{\"NNQT_question\":\"What is the {human} for {performer} of {Deadpool}\",\"uid\":21393,\"subgraph\":\"simple question right\",\"template_index\":1739,\"question\":\"Who was the lead actor for the movie Deadpool?\",\"sparql_wikidata\":\" select distinct ?obj where { wd:Q1631090 wdt:P175 ?obj . ?obj wdt:P31 wd:Q5 } \",\"sparql_dbpedia18\":\"select distinct ?obj where { ?statement <http://www.w3.org/1999/02/22-rdf-syntax-ns#subject> <http://wikidata.dbpedia.org/resource/Q1631090> . ?statement <http://www.w3.org/1999/02/22-rdf-syntax-ns#predicate> <http://www.wikidata.org/entity/P175> . ?statement <http://www.w3.org/1999/02/22-rdf-syntax-ns#object> ?obj . ?obj <http://www.wikidata.org/entity/P31> <http://wikidata.dbpedia.org/resource/Q5> } \",\"template\":\" <S P ?O ; ?O instanceOf Type>\",\"paraphrased_question\":\"Who was the lead performing artist for the motion picture Deadpool?\"},\"truncated_cells\":[]},{\"row_idx\":96,\"row\":{\"NNQT_question\":\"What is the {musical duo} for {contributed to published work} of {Sasha Grey}\",\"uid\":20880,\"subgraph\":\"simple question right\",\"template_index\":1226,\"question\":\"Mention the musical related work highlighting the work of Sasha Grey.\",\"sparql_wikidata\":\" select distinct ?obj where { wd:Q2709 wdt:P3919 ?obj . ?obj wdt:P31 wd:Q9212979 } \",\"sparql_dbpedia18\":\"select distinct ?obj where { ?statement <http://www.w3.org/1999/02/22-rdf-syntax-ns#subject> <http://wikidata.dbpedia.org/resource/Q2709> . ?statement <http://www.w3.org/1999/02/22-rdf-syntax-ns#predicate> <http://www.wikidata.org/entity/P3919> . ?statement <http://www.w3.org/1999/02/22-rdf-syntax-ns#object> ?obj . ?obj <http://www.wikidata.org/entity/P31> <http://wikidata.dbpedia.org/resource/Q9212979> } \",\"template\":\" <S P ?O ; ?O instanceOf Type>\",\"paraphrased_question\":\"Say the melodic related work highlighting the work of Sasha Grey.\"},\"truncated_cells\":[]},{\"row_idx\":97,\"row\":{\"NNQT_question\":\"What is {award received} of {John de Mol} that is {point in time} is {2011-0-0} ?\",\"uid\":5703,\"subgraph\":\"statement_property\",\"template_index\":2148,\"question\":\"What award did John de Mol receive in 2011?\",\"sparql_wikidata\":\"SELECT ?obj WHERE { wd:Q470847 p:P166 ?s . ?s ps:P166 ?obj . ?s pq:P585 ?x filter(contains(YEAR(?x),'2011')) }\",\"sparql_dbpedia18\":\"select distinct ?obj  where {\\n?statement <http://www.w3.org/1999/02/22-rdf-syntax-ns#subject> <http://wikidata.dbpedia.org/resource/Q470847> .\\n?statement <http://www.w3.org/1999/02/22-rdf-syntax-ns#predicate> <http://www.wikidata.org/entity/P166> .\\n?statement <http://www.w3.org/1999/02/22-rdf-syntax-ns#object> ?obj .\\n?statement <http://www.wikidata.org/entity/P585> <2011-0-0>\\n} \\n\",\"template\":\"(E pred F) prop ?value\",\"paraphrased_question\":\"in 2011 John de Mol won which award?\"},\"truncated_cells\":[]},{\"row_idx\":98,\"row\":{\"NNQT_question\":\"Does the {total fertility rate} of the {Algeria} {greater than} {3.4284}\",\"uid\":18485,\"subgraph\":\"boolean with filter\",\"template_index\":503,\"question\":\"Is the total fertility rate of Algeria greater than 3.4284?\",\"sparql_wikidata\":\"ASK WHERE { wd:Q262 wdt:P4841 ?obj filter(?obj > 3.4284) } \",\"sparql_dbpedia18\":\"ASK { ?statement1 <http://www.w3.org/1999/02/22-rdf-syntax-ns#subject> <http://wikidata.dbpedia.org/resource/Q262> . ?statement1 <http://www.w3.org/1999/02/22-rdf-syntax-ns#predicate> <http://www.wikidata.org/entity/P4841>. ?statement1 <http://www.w3.org/1999/02/22-rdf-syntax-ns#object> ?obj. filter(?obj > 3.4284) }\",\"template\":\"ASK ?sbj ?pred ?obj filter ?obj = num\",\"paraphrased_question\":\"Is the entire richness rate of Algeria more noteworthy than 3.4284?\"},\"truncated_cells\":[]},{\"row_idx\":99,\"row\":{\"NNQT_question\":\"Give me {physical phenomenon} that contains the word {surface} in their name\",\"uid\":23234,\"subgraph\":\"string matching simple contains word\",\"template_index\":524,\"question\":\"Tell me physical phenomenon whose name has the word surface in it.\",\"sparql_wikidata\":\"SELECT DISTINCT ?sbj ?sbj_label WHERE { ?sbj wdt:P31 wd:Q1293220 . ?sbj rdfs:label ?sbj_label . FILTER(CONTAINS(lcase(?sbj_label), 'surface')) . FILTER (lang(?sbj_label) = 'en') } LIMIT 25 \",\"sparql_dbpedia18\":\"SELECT DISTINCT ?sbj ?sbj_label { ?statement1 <http://www.w3.org/1999/02/22-rdf-syntax-ns#subject> ?sbj . ?statement1 <http://www.w3.org/1999/02/22-rdf-syntax-ns#predicate> <http://www.wikidata.org/entity/P31> . ?statement1 <http://www.w3.org/1999/02/22-rdf-syntax-ns#object> <http://wikidata.dbpedia.org/resource/Q1293220>. ?sbj rdfs:label ?sbj_label . FILTER(CONTAINS(lcase(?sbj_label), 'surface')) . FILTER (lang(?sbj_label) = 'en') } LIMIT 25\",\"template\":\" <?S P O ; ?S instanceOf Type ; contains word >\",\"paraphrased_question\":\"Let me know physical marvel whose title has the word surface in it.\"},\"truncated_cells\":[]}],\"num_rows_total\":19293,\"num_rows_per_page\":100,\"partial\":false}"
          ]
        }
      ]
    },
    {
      "cell_type": "code",
      "source": [
        "df_q = pd.read_csv(f'/content/drive/My Drive/kdwd/q.csv')\n",
        "df_p = pd.read_csv(f'/content/drive/My Drive/kdwd/p.csv')"
      ],
      "metadata": {
        "id": "Lamer2ROQiS9"
      },
      "execution_count": 26,
      "outputs": []
    },
    {
      "cell_type": "code",
      "source": [
        "def findID(pref, x):\n",
        "    word = x.replace(\"_\", \" \").lower()\n",
        "    try:\n",
        "        if 'wd' != pref:\n",
        "            # s = df_p[df_p.en.str.contains(word, na=False)]\n",
        "            s = df_p[df_p['en']==word]\n",
        "            if len(s)>0:\n",
        "                id = s.iloc[0]['id']\n",
        "                return 'P'+str(id)\n",
        "        # Use else to do not replace missing Ps with Qs\n",
        "        s = df_q[df_q['en']==word]\n",
        "        # s = df_q[df_q.en.str.contains(word, na=False)]\n",
        "        id = s.iloc[0]['id']\n",
        "        return 'Q'+str(id)\n",
        "    except: return x"
      ],
      "metadata": {
        "id": "40OsSQQCH9N1"
      },
      "execution_count": 27,
      "outputs": []
    },
    {
      "cell_type": "code",
      "source": [
        "findID('wd', 'instance')"
      ],
      "metadata": {
        "colab": {
          "base_uri": "https://localhost:8080/",
          "height": 35
        },
        "id": "a9hQCKevIEyl",
        "outputId": "222443ad-fb03-497b-b362-3d9e011e7f2f"
      },
      "execution_count": 28,
      "outputs": [
        {
          "output_type": "execute_result",
          "data": {
            "text/plain": [
              "'Q1664689'"
            ],
            "application/vnd.google.colaboratory.intrinsic+json": {
              "type": "string"
            }
          },
          "metadata": {},
          "execution_count": 28
        }
      ]
    },
    {
      "cell_type": "code",
      "source": [
        "def decode_props(qry):\n",
        "    rep_dict = {}\n",
        "    qry = qry.replace(\"[\", \"{\").replace(\"]\", \"}\")\n",
        "    for m in re.finditer(\":\\w+\", qry):\n",
        "        pref = qry[m.start(0) - 3 : m.start(0)].strip()\n",
        "        rep_dict[':'+m.group(0)[1:]] = ':'+findID(pref, m.group(0)[1:])\n",
        "    return replace_all(qry, rep_dict)"
      ],
      "metadata": {
        "id": "v1CIiIOKKATr"
      },
      "execution_count": 29,
      "outputs": []
    },
    {
      "cell_type": "code",
      "source": [
        "decode_props(' select (COUNT(?sub) AS ?value ) [ ?sub wdt:grand-child wd:jacques_cousteau ]  ')\n"
      ],
      "metadata": {
        "colab": {
          "base_uri": "https://localhost:8080/",
          "height": 35
        },
        "id": "Lf5mJBleKEhy",
        "outputId": "7d6d57a7-1b14-4015-eb45-94021e23fad8"
      },
      "execution_count": 30,
      "outputs": [
        {
          "output_type": "execute_result",
          "data": {
            "text/plain": [
              "' select (COUNT(?sub) AS ?value ) { ?sub wdt:Q247153-child wd:Q83233 }  '"
            ],
            "application/vnd.google.colaboratory.intrinsic+json": {
              "type": "string"
            }
          },
          "metadata": {},
          "execution_count": 30
        }
      ]
    },
    {
      "cell_type": "code",
      "source": [
        "def translate(q):\n",
        "    tr = translator(prefix+q, max_length=100)[0]['translation_text']\n",
        "    return (tr, decode_props(tr))"
      ],
      "metadata": {
        "id": "7HZxLo2uRH3S"
      },
      "execution_count": 31,
      "outputs": []
    },
    {
      "cell_type": "code",
      "source": [
        "from beautifultable import BeautifulTable\n",
        "def pretty_translate(t,q):\n",
        "    ans = translate(q)\n",
        "    # print('QUESTION:\\n' + q + '\\nTARGET:\\n'+ t +'\\nRESULT:\\n' + ans[0]+ '\\nRESULT-DECODED:\\n' + ans[1])\n",
        "    table = BeautifulTable(maxwidth=140)\n",
        "    # table.column_headers = [\"\", \"Man Utd\",\"Man City\",\"T Hotspur\"]\n",
        "    table.rows.append(['QUESTION', q])\n",
        "    table.rows.append(['Target', t])\n",
        "    table.rows.append(['RawRESULT', ans[0]])\n",
        "    table.rows.append(['RESULT', ans[1]])\n",
        "    print(table)"
      ],
      "metadata": {
        "id": "nxRtRf-dRJaL"
      },
      "execution_count": 32,
      "outputs": []
    },
    {
      "cell_type": "code",
      "source": [
        "prefix"
      ],
      "metadata": {
        "colab": {
          "base_uri": "https://localhost:8080/",
          "height": 35
        },
        "id": "5HcpQz3wRM2j",
        "outputId": "d070cdc3-2034-4191-cfca-f1ca1e83b16c"
      },
      "execution_count": 33,
      "outputs": [
        {
          "output_type": "execute_result",
          "data": {
            "text/plain": [
              "'translate english to sparql: '"
            ],
            "application/vnd.google.colaboratory.intrinsic+json": {
              "type": "string"
            }
          },
          "metadata": {},
          "execution_count": 33
        }
      ]
    },
    {
      "cell_type": "code",
      "source": [
        "translator(prefix+'Who is Ronaldo R9?', max_length=100)"
      ],
      "metadata": {
        "colab": {
          "base_uri": "https://localhost:8080/"
        },
        "id": "a_YhWUoiROqr",
        "outputId": "995e0c36-a145-4838-aab5-e0518f485bb7"
      },
      "execution_count": 34,
      "outputs": [
        {
          "output_type": "execute_result",
          "data": {
            "text/plain": [
              "[{'translation_text': 'select distinct ?uri where [ ?uri dbo:Ronaldo_R9 dbo:res:Ronaldo_R9 ]'}]"
            ]
          },
          "metadata": {},
          "execution_count": 34
        }
      ]
    },
    {
      "cell_type": "code",
      "source": [
        "translator(prefix+'Who is the player who played for Barcelona and InterMilan', max_length=100)"
      ],
      "metadata": {
        "colab": {
          "base_uri": "https://localhost:8080/"
        },
        "id": "qlCNOukLRUyr",
        "outputId": "cb8902f4-e3a6-4da9-9fca-23ebf8013b7d"
      },
      "execution_count": 35,
      "outputs": [
        {
          "output_type": "execute_result",
          "data": {
            "text/plain": [
              "[{'translation_text': 'select distinct ?uri where [ ?uri dbo:member_of_sports_team dbo:Barcelona . ?uri dbo:member_of_sports_team dbr:InterMilan ]'}]"
            ]
          },
          "metadata": {},
          "execution_count": 35
        }
      ]
    },
    {
      "cell_type": "code",
      "source": [
        "pretty_translate('select distinct ?uri where { ?uri dbo:member_of_sports_team dbo:Barcelona . ?uri dbo:member_of_sports_team dbr:InterMilan }', \"Who's the player who played for Inter Milan and Barcelona?\")\n"
      ],
      "metadata": {
        "colab": {
          "base_uri": "https://localhost:8080/"
        },
        "id": "Tbfr_EXtReIa",
        "outputId": "da938c93-3de8-4c3b-e8ae-570d2bf58384"
      },
      "execution_count": 38,
      "outputs": [
        {
          "output_type": "stream",
          "name": "stdout",
          "text": [
            "+-----------+-----------------------------------------------------------------------------------------------------------------------------+\n",
            "| QUESTION  |                                 Who's the player who played for Inter Milan and Barcelona?                                  |\n",
            "+-----------+-----------------------------------------------------------------------------------------------------------------------------+\n",
            "|  Target   | select distinct ?uri where { ?uri dbo:member_of_sports_team dbo:Barcelona . ?uri dbo:member_of_sports_team dbr:InterMilan } |\n",
            "+-----------+-----------------------------------------------------------------------------------------------------------------------------+\n",
            "| RawRESULT |   select distinct ?uri where [ ?uri a dbo:member_of_sports_team dbo:member_of_sports_team dbr:Inter_Milan_and_Barcelona ]   |\n",
            "+-----------+-----------------------------------------------------------------------------------------------------------------------------+\n",
            "|  RESULT   |                     select distinct ?uri where { ?uri a dbo:P54 dbo:P54 dbr:Inter_Milan_and_Barcelona }                     |\n",
            "+-----------+-----------------------------------------------------------------------------------------------------------------------------+\n"
          ]
        }
      ]
    }
  ]
}