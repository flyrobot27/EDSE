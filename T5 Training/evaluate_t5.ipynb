{
 "cells": [
  {
   "cell_type": "code",
   "execution_count": 2,
   "metadata": {},
   "outputs": [
    {
     "data": {
      "text/html": [
       "<div>\n",
       "<style scoped>\n",
       "    .dataframe tbody tr th:only-of-type {\n",
       "        vertical-align: middle;\n",
       "    }\n",
       "\n",
       "    .dataframe tbody tr th {\n",
       "        vertical-align: top;\n",
       "    }\n",
       "\n",
       "    .dataframe thead th {\n",
       "        text-align: right;\n",
       "    }\n",
       "</style>\n",
       "<table border=\"1\" class=\"dataframe\">\n",
       "  <thead>\n",
       "    <tr style=\"text-align: right;\">\n",
       "      <th></th>\n",
       "      <th>Unnamed: 0</th>\n",
       "      <th>Generated Text</th>\n",
       "      <th>Actual Text</th>\n",
       "    </tr>\n",
       "  </thead>\n",
       "  <tbody>\n",
       "    <tr>\n",
       "      <th>4560</th>\n",
       "      <td>4560</td>\n",
       "      <td>Identify players who have played for clubs atl...</td>\n",
       "      <td>MATCH (p:Player)-[:PLAYED_FOR]-&gt;(c:Club) WHERE...</td>\n",
       "    </tr>\n",
       "  </tbody>\n",
       "</table>\n",
       "</div>"
      ],
      "text/plain": [
       "      Unnamed: 0                                     Generated Text  \\\n",
       "4560        4560  Identify players who have played for clubs atl...   \n",
       "\n",
       "                                            Actual Text  \n",
       "4560  MATCH (p:Player)-[:PLAYED_FOR]->(c:Club) WHERE...  "
      ]
     },
     "execution_count": 2,
     "metadata": {},
     "output_type": "execute_result"
    }
   ],
   "source": [
    "import difflib\n",
    "from pathlib import Path\n",
    "import pandas as pd\n",
    "\n",
    "predictions_path = Path(\"./outputs/predictions.csv\")\n",
    "df = pd.read_csv(predictions_path)\n",
    "df.sample()"
   ]
  },
  {
   "cell_type": "code",
   "execution_count": 3,
   "metadata": {},
   "outputs": [
    {
     "data": {
      "text/html": [
       "<div>\n",
       "<style scoped>\n",
       "    .dataframe tbody tr th:only-of-type {\n",
       "        vertical-align: middle;\n",
       "    }\n",
       "\n",
       "    .dataframe tbody tr th {\n",
       "        vertical-align: top;\n",
       "    }\n",
       "\n",
       "    .dataframe thead th {\n",
       "        text-align: right;\n",
       "    }\n",
       "</style>\n",
       "<table border=\"1\" class=\"dataframe\">\n",
       "  <thead>\n",
       "    <tr style=\"text-align: right;\">\n",
       "      <th></th>\n",
       "      <th>Unnamed: 0</th>\n",
       "      <th>Generated Text</th>\n",
       "      <th>Actual Text</th>\n",
       "      <th>similarity_score</th>\n",
       "    </tr>\n",
       "  </thead>\n",
       "  <tbody>\n",
       "    <tr>\n",
       "      <th>6623</th>\n",
       "      <td>6623</td>\n",
       "      <td>'Soumala Konaré'')-[:IS_IN]-&gt;(l:League) MATCH ...</td>\n",
       "      <td>MATCH (p1:Player name: 'Soumala Konaré')-[:PLA...</td>\n",
       "      <td>0.785124</td>\n",
       "    </tr>\n",
       "  </tbody>\n",
       "</table>\n",
       "</div>"
      ],
      "text/plain": [
       "      Unnamed: 0                                     Generated Text  \\\n",
       "6623        6623  'Soumala Konaré'')-[:IS_IN]->(l:League) MATCH ...   \n",
       "\n",
       "                                            Actual Text  similarity_score  \n",
       "6623  MATCH (p1:Player name: 'Soumala Konaré')-[:PLA...          0.785124  "
      ]
     },
     "execution_count": 3,
     "metadata": {},
     "output_type": "execute_result"
    }
   ],
   "source": [
    "# calculate the similarity score using difflib (Gestalt pattern matching)\n",
    "def similarity_score(row):\n",
    "    return difflib.SequenceMatcher(None, str(row[\"Actual Text\"]).lower(), str(row[\"Generated Text\"]).lower()).ratio()\n",
    "\n",
    "df[\"similarity_score\"] = df.apply(similarity_score, axis=1)\n",
    "df.sample()"
   ]
  },
  {
   "cell_type": "code",
   "execution_count": 4,
   "metadata": {},
   "outputs": [
    {
     "name": "stdout",
     "output_type": "stream",
     "text": [
      "Average similarity score: 0.6718813721005201\n"
     ]
    }
   ],
   "source": [
    "# calculate the average similarity score of all the generated text\n",
    "average_similarity_score = df[\"similarity_score\"].mean()\n",
    "print(f\"Average similarity score: {average_similarity_score}\")"
   ]
  },
  {
   "cell_type": "code",
   "execution_count": 5,
   "metadata": {},
   "outputs": [
    {
     "name": "stderr",
     "output_type": "stream",
     "text": [
      "/home/syheung/anaconda3/envs/cql/lib/python3.10/site-packages/nltk/translate/bleu_score.py:552: UserWarning: \n",
      "The hypothesis contains 0 counts of 4-gram overlaps.\n",
      "Therefore the BLEU score evaluates to 0, independently of\n",
      "how many N-gram overlaps of lower order it contains.\n",
      "Consider using lower n-gram order or use SmoothingFunction()\n",
      "  warnings.warn(_msg)\n",
      "/home/syheung/anaconda3/envs/cql/lib/python3.10/site-packages/nltk/translate/bleu_score.py:552: UserWarning: \n",
      "The hypothesis contains 0 counts of 2-gram overlaps.\n",
      "Therefore the BLEU score evaluates to 0, independently of\n",
      "how many N-gram overlaps of lower order it contains.\n",
      "Consider using lower n-gram order or use SmoothingFunction()\n",
      "  warnings.warn(_msg)\n",
      "/home/syheung/anaconda3/envs/cql/lib/python3.10/site-packages/nltk/translate/bleu_score.py:552: UserWarning: \n",
      "The hypothesis contains 0 counts of 3-gram overlaps.\n",
      "Therefore the BLEU score evaluates to 0, independently of\n",
      "how many N-gram overlaps of lower order it contains.\n",
      "Consider using lower n-gram order or use SmoothingFunction()\n",
      "  warnings.warn(_msg)\n"
     ]
    },
    {
     "data": {
      "text/html": [
       "<div>\n",
       "<style scoped>\n",
       "    .dataframe tbody tr th:only-of-type {\n",
       "        vertical-align: middle;\n",
       "    }\n",
       "\n",
       "    .dataframe tbody tr th {\n",
       "        vertical-align: top;\n",
       "    }\n",
       "\n",
       "    .dataframe thead th {\n",
       "        text-align: right;\n",
       "    }\n",
       "</style>\n",
       "<table border=\"1\" class=\"dataframe\">\n",
       "  <thead>\n",
       "    <tr style=\"text-align: right;\">\n",
       "      <th></th>\n",
       "      <th>Unnamed: 0</th>\n",
       "      <th>Generated Text</th>\n",
       "      <th>Actual Text</th>\n",
       "      <th>similarity_score</th>\n",
       "      <th>bleu_score</th>\n",
       "    </tr>\n",
       "  </thead>\n",
       "  <tbody>\n",
       "    <tr>\n",
       "      <th>5106</th>\n",
       "      <td>5106</td>\n",
       "      <td>'Ligue 2'')-[:IS_IN]-&gt;(l:League) RETURN l.name...</td>\n",
       "      <td>MATCH (p:Player)-[:PLAYED_FOR]-&gt;(c:Club)-[:IS_...</td>\n",
       "      <td>0.745098</td>\n",
       "      <td>0.540856</td>\n",
       "    </tr>\n",
       "  </tbody>\n",
       "</table>\n",
       "</div>"
      ],
      "text/plain": [
       "      Unnamed: 0                                     Generated Text  \\\n",
       "5106        5106  'Ligue 2'')-[:IS_IN]->(l:League) RETURN l.name...   \n",
       "\n",
       "                                            Actual Text  similarity_score  \\\n",
       "5106  MATCH (p:Player)-[:PLAYED_FOR]->(c:Club)-[:IS_...          0.745098   \n",
       "\n",
       "      bleu_score  \n",
       "5106    0.540856  "
      ]
     },
     "execution_count": 5,
     "metadata": {},
     "output_type": "execute_result"
    }
   ],
   "source": [
    "import nltk\n",
    "\n",
    "# calculate the BLEU score\n",
    "def bleu_score(row):\n",
    "    return nltk.translate.bleu_score.sentence_bleu([row[\"Actual Text\"].split()], row[\"Generated Text\"].split())\n",
    "\n",
    "df[\"bleu_score\"] = df.apply(bleu_score, axis=1)\n",
    "df.sample()"
   ]
  },
  {
   "cell_type": "code",
   "execution_count": 7,
   "metadata": {},
   "outputs": [
    {
     "name": "stdout",
     "output_type": "stream",
     "text": [
      "Average BLEU score: 0.3341695831160712\n"
     ]
    }
   ],
   "source": [
    "# calculate the average bleu score\n",
    "average_bleu_score = df[\"bleu_score\"].mean()\n",
    "print(f\"Average BLEU score: {average_bleu_score}\")"
   ]
  }
 ],
 "metadata": {
  "kernelspec": {
   "display_name": "cql",
   "language": "python",
   "name": "python3"
  },
  "language_info": {
   "codemirror_mode": {
    "name": "ipython",
    "version": 3
   },
   "file_extension": ".py",
   "mimetype": "text/x-python",
   "name": "python",
   "nbconvert_exporter": "python",
   "pygments_lexer": "ipython3",
   "version": "3.10.14"
  }
 },
 "nbformat": 4,
 "nbformat_minor": 2
}
